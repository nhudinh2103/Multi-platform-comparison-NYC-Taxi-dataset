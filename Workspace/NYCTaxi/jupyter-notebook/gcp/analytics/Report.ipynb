{
  "cells": [
    {
      "cell_type": "markdown",
      "metadata": {},
      "source": [
        "# What's in this exercise?\n",
        "We will run various reports and visualize"
      ]
    },
    {
      "cell_type": "code",
      "execution_count": 29,
      "id": "fbd2c60d",
      "metadata": {},
      "outputs": [
        {
          "name": "stdout",
          "output_type": "stream",
          "text": []
        }
      ],
      "source": [
        "project_id = \"amplified-brook-454012-i1\"\n",
        "dataset = \"nyc_taxi\"\n",
        "delta_lake_conn = \"nyc-biglake-connection\""
      ]
    },
    {
      "cell_type": "code",
      "execution_count": null,
      "id": "653cbb03",
      "metadata": {},
      "outputs": [],
      "source": [
        "import pandas as pd\n",
        "import time\n",
        "import json\n",
        "from google.cloud import bigquery\n",
        "from google.cloud.exceptions import GoogleCloudError\n",
        "from google.oauth2 import service_account\n",
        "from enum import Enum\n",
        "\n",
        "class QueryState(Enum):\n",
        "    \"\"\"Enum to represent BigQuery job states\"\"\"\n",
        "    PENDING = \"PENDING\"\n",
        "    RUNNING = \"RUNNING\"\n",
        "    DONE = \"DONE\"\n",
        "    FAILED = \"FAILED\"\n",
        "    CANCELED = \"CANCELED\"\n",
        "\n",
        "def get_bigquery_client(**kwargs):\n",
        "    \"\"\"\n",
        "    Create an authenticated BigQuery client for use in Databricks.\n",
        "    \n",
        "    Args:\n",
        "        **kwargs: Additional arguments:\n",
        "            - secret_scope (str): Databricks secret scope name\n",
        "            - secret_key (str): Databricks secret key name\n",
        "            - project_id (str, optional): Google Cloud project ID\n",
        "    \n",
        "    Returns:\n",
        "        google.cloud.bigquery.Client: Authenticated BigQuery client\n",
        "    \n",
        "    Raises:\n",
        "        ValueError: If required parameters are missing\n",
        "        ImportError: If running in Databricks and dbutils is not available\n",
        "    \"\"\"\n",
        "    if \"secret_scope\" not in kwargs or \"secret_key\" not in kwargs:\n",
        "        raise ValueError(\"secret_scope and secret_key are required for databricks_secret authentication\")\n",
        "    \n",
        "    # This will only work in Databricks\n",
        "    try:\n",
        "        from pyspark.dbutils import DBUtils\n",
        "        from pyspark.sql import SparkSession\n",
        "        \n",
        "        spark = SparkSession.builder.getOrCreate()\n",
        "        dbutils = DBUtils(spark)\n",
        "        \n",
        "        # Get service account JSON from Databricks secrets\n",
        "        json_credentials = dbutils.secrets.get(scope=kwargs[\"secret_scope\"], key=kwargs[\"secret_key\"])\n",
        "        service_account_info = json.loads(json_credentials)\n",
        "        \n",
        "        credentials = service_account.Credentials.from_service_account_info(\n",
        "            service_account_info\n",
        "        )\n",
        "        \n",
        "        project_id = kwargs.get(\"project_id\")\n",
        "        if not project_id and \"project_id\" in service_account_info:\n",
        "            project_id = service_account_info[\"project_id\"]\n",
        "            \n",
        "        if project_id:\n",
        "            return bigquery.Client(credentials=credentials, project=project_id)\n",
        "        else:\n",
        "            return bigquery.Client(credentials=credentials)\n",
        "            \n",
        "    except ImportError:\n",
        "        raise ImportError(\"This authentication method only works in Databricks\")\n",
        "\n",
        "def execute_sql_query(\n",
        "    client,\n",
        "    query: str,\n",
        "    project_id: str = None,\n",
        "    dataset_id: str = None,\n",
        "    poll_interval_seconds: int = 5,\n",
        "    timeout_seconds: int = 300,  # Default timeout of 30 minutes\n",
        "    location: str = \"asia-southeast1\",  # Default location\n",
        "    dry_run: bool = False,  # Option to perform a dry run\n",
        "    use_legacy_sql: bool = False,  # Use standard SQL by default\n",
        "    query_parameters: list = [],  # For parameterized queries\n",
        "    maximum_bytes_billed: int = 10**10,  # Cost control\n",
        "    labels: dict[str, str] = {}\n",
        "):\n",
        "    \"\"\"\n",
        "    Execute a SQL query in BigQuery and return formatted results\n",
        "    This function will poll until the query is complete or timeout is reached\n",
        "\n",
        "    Args:\n",
        "        client: BigQuery client instance\n",
        "        query: SQL query to execute\n",
        "        project_id: Optional Google Cloud project ID (defaults to client's project)\n",
        "        dataset_id: Optional default dataset ID for the query\n",
        "        poll_interval_seconds: Seconds to wait between status checks (default: 30)\n",
        "        timeout_seconds: Maximum seconds to wait for query completion (default: 1800, set to None for no timeout)\n",
        "        location: BigQuery location/region (default: \"US\")\n",
        "        dry_run: If True, don't actually run the query (just validate)\n",
        "        use_legacy_sql: If True, use legacy SQL instead of standard SQL\n",
        "        query_parameters: List of query parameters for parameterized queries\n",
        "        maximum_bytes_billed: Maximum bytes that will be billed for this job\n",
        "\n",
        "    Returns:\n",
        "        Formatted query results as pandas DataFrame or error message\n",
        "    \"\"\"\n",
        "    try:\n",
        "        # Configure the job\n",
        "        job_config = bigquery.QueryJobConfig(\n",
        "            use_legacy_sql=use_legacy_sql,\n",
        "            dry_run=dry_run,\n",
        "            query_parameters=query_parameters,\n",
        "            maximum_bytes_billed=maximum_bytes_billed,\n",
        "            labels = labels\n",
        "        )\n",
        "        \n",
        "        # Set default dataset if provided\n",
        "        if dataset_id:\n",
        "            job_config.default_dataset = f\"{project_id}.{dataset_id}\" if project_id else dataset_id\n",
        "        \n",
        "        # Start the query job\n",
        "        query_job = client.query(\n",
        "            query,\n",
        "            job_config=job_config,\n",
        "            location=location,\n",
        "            project=project_id,\n",
        "        )\n",
        "        \n",
        "        # Track elapsed time\n",
        "        start_time = time.time()\n",
        "        \n",
        "        # Poll until the query is complete or timeout is reached\n",
        "        while True:\n",
        "            # Check if timeout has been reached\n",
        "            elapsed_time = time.time() - start_time\n",
        "            if timeout_seconds is not None and elapsed_time > timeout_seconds:\n",
        "                print(f\"Query execution timed out after {timeout_seconds} seconds.\")\n",
        "                query_job.cancel()\n",
        "                return f\"Query execution timed out after {timeout_seconds} seconds.\"\n",
        "            \n",
        "            # Reload the job to get the latest status\n",
        "            query_job.reload()\n",
        "            \n",
        "            # Get current state\n",
        "            if query_job.state == \"PENDING\":\n",
        "                state = QueryState.PENDING\n",
        "            elif query_job.state == \"RUNNING\":\n",
        "                state = QueryState.RUNNING\n",
        "            elif query_job.state == \"DONE\":\n",
        "                if query_job.error_result:\n",
        "                    state = QueryState.FAILED\n",
        "                else:\n",
        "                    state = QueryState.DONE\n",
        "            else:\n",
        "                state = QueryState.FAILED\n",
        "            \n",
        "            # Check if the query has completed\n",
        "            if state == QueryState.DONE:\n",
        "                print(f\"Query execution completed successfully in {elapsed_time:.2f} seconds.\")\n",
        "                break\n",
        "            elif state == QueryState.FAILED:\n",
        "                error_message = query_job.error_result.get('message', 'Unknown error')\n",
        "                error_reason = query_job.error_result.get('reason', 'Unknown reason')\n",
        "                print(f\"Query execution failed after {elapsed_time:.2f} seconds: {error_reason} - {error_message}\")\n",
        "                return f\"Query execution failed: {error_reason} - {error_message}\"\n",
        "            elif state == QueryState.CANCELED:\n",
        "                print(f\"Query execution was canceled after {elapsed_time:.2f} seconds.\")\n",
        "                return \"Query execution was canceled.\"\n",
        "            else:\n",
        "                # Query is still running, wait and check again\n",
        "                print(f\"Query is running... Current state: {state.value}, elapsed time: {elapsed_time:.2f} seconds\")\n",
        "                time.sleep(poll_interval_seconds)\n",
        "        \n",
        "        # If this is a dry run, return the estimated bytes processed\n",
        "        if dry_run:\n",
        "            bytes_processed = query_job.total_bytes_processed\n",
        "            return f\"Dry run completed. Query will process {bytes_processed} bytes.\"\n",
        "        \n",
        "        # Get query statistics\n",
        "        bytes_processed = query_job.total_bytes_processed\n",
        "        bytes_billed = query_job.total_bytes_billed\n",
        "        slot_ms = query_job.slot_millis\n",
        "        \n",
        "        print(f\"Query processed {bytes_processed} bytes and billed for {bytes_billed} bytes.\")\n",
        "        print(f\"Query used {slot_ms} slot milliseconds.\")\n",
        "        \n",
        "        # Get the results\n",
        "        results = query_job.result()\n",
        "        \n",
        "        # Check if we have results\n",
        "        if not results:\n",
        "            return \"Query executed successfully, but no results were returned.\"\n",
        "        \n",
        "        # Convert to DataFrame\n",
        "        df = results.to_dataframe()\n",
        "        \n",
        "        # Return the DataFrame\n",
        "        return df\n",
        "    \n",
        "    except GoogleCloudError as e:\n",
        "        return f\"Google Cloud Error: {str(e)}\"\n",
        "    except Exception as e:\n",
        "        return f\"Error executing SQL query: {str(e)}\""
      ]
    },
    {
      "cell_type": "code",
      "execution_count": null,
      "id": "577ae92c",
      "metadata": {},
      "outputs": [],
      "source": [
        "client = get_bigquery_client(\n",
        "    secret_scope=\"databricks-bigquery\",  # Your secret scope name\n",
        "    secret_key=\"databricks-bq-sa\"         # Your secret key name\n",
        ")"
      ]
    },
    {
      "cell_type": "markdown",
      "id": "70fd7cfd",
      "metadata": {},
      "source": [
        "### 1.  Trip count by taxi type"
      ]
    },
    {
      "cell_type": "code",
      "execution_count": 334,
      "id": "c5cb424e",
      "metadata": {},
      "outputs": [
        {
          "data": {
            "application/databricks-table": "{\n\t\"resultType\": \"table\",\n\t\"data\": [\n\t\t[\n\t\t\t\"yellow\",\n\t\t\t\"1367926283\"\n\t\t],\n\t\t[\n\t\t\t\"green\",\n\t\t\t\"59035872\"\n\t\t]\n\t],\n\t\"schema\": [\n\t\t{\n\t\t\t\"name\": \"taxi_type\",\n\t\t\t\"type\": \"\\\"string\\\"\",\n\t\t\t\"metadata\": \"{}\"\n\t\t},\n\t\t{\n\t\t\t\"name\": \"trip_count\",\n\t\t\t\"type\": \"\\\"string\\\"\",\n\t\t\t\"metadata\": \"{}\"\n\t\t}\n\t],\n\t\"truncated\": false,\n\t\"isJsonSchema\": true\n}",
            "application/json": [
              {
                "taxi_type": "yellow",
                "trip_count": "1367926283"
              },
              {
                "taxi_type": "green",
                "trip_count": "59035872"
              }
            ],
            "text/html": [
              "<div style=\"height:300px;overflow:auto;resize:both;\"><table style=\"width:100%\" class=\"searchable sortable\"><thead><tr><th>taxi_type</th><th>trip_count</th></tr></thead><tbody><tr><td>yellow</td><td>1367926283</td></tr><tr><td>green</td><td>59035872</td></tr></tbody></table></div>"
            ],
            "text/x-json": [
              "[\n",
              "\t{\n",
              "\t\t\"taxi_type\": \"yellow\",\n",
              "\t\t\"trip_count\": \"1367926283\"\n",
              "\t},\n",
              "\t{\n",
              "\t\t\"taxi_type\": \"green\",\n",
              "\t\t\"trip_count\": \"59035872\"\n",
              "\t}\n",
              "]"
            ]
          },
          "metadata": {},
          "output_type": "display_data"
        }
      ],
      "source": [
        "sql = \"\"\"\n",
        "select \n",
        "  taxi_type,\n",
        "  count(1) as trip_count\n",
        "from \n",
        "  taxi_trips_mat_view\n",
        "group by taxi_type\n",
        "\"\"\"\n",
        "\n",
        "df_result = execute_sql_query(w=w,query=sql, warehouse_id=warehouse_id, catalog=catalog, schema=schema)\n",
        "display(df_result)"
      ]
    },
    {
      "cell_type": "markdown",
      "metadata": {},
      "source": [
        "### 2.  Revenue including tips by taxi type"
      ]
    },
    {
      "cell_type": "code",
      "execution_count": 335,
      "metadata": {},
      "outputs": [
        {
          "data": {
            "application/databricks-table": "{\n\t\"resultType\": \"table\",\n\t\"data\": [\n\t\t[\n\t\t\t\"yellow\",\n\t\t\t\"1.8801428115072754E10\"\n\t\t],\n\t\t[\n\t\t\t\"green\",\n\t\t\t\"8.621928480288665E8\"\n\t\t]\n\t],\n\t\"schema\": [\n\t\t{\n\t\t\t\"name\": \"taxi_type\",\n\t\t\t\"type\": \"\\\"string\\\"\",\n\t\t\t\"metadata\": \"{}\"\n\t\t},\n\t\t{\n\t\t\t\"name\": \"revenue\",\n\t\t\t\"type\": \"\\\"string\\\"\",\n\t\t\t\"metadata\": \"{}\"\n\t\t}\n\t],\n\t\"truncated\": false,\n\t\"isJsonSchema\": true\n}",
            "application/json": [
              {
                "revenue": "1.8801428115072754E10",
                "taxi_type": "yellow"
              },
              {
                "revenue": "8.621928480288665E8",
                "taxi_type": "green"
              }
            ],
            "text/html": [
              "<div style=\"height:300px;overflow:auto;resize:both;\"><table style=\"width:100%\" class=\"searchable sortable\"><thead><tr><th>taxi_type</th><th>revenue</th></tr></thead><tbody><tr><td>yellow</td><td>1.8801428115072754E10</td></tr><tr><td>green</td><td>8.621928480288665E8</td></tr></tbody></table></div>"
            ],
            "text/x-json": [
              "[\n",
              "\t{\n",
              "\t\t\"taxi_type\": \"yellow\",\n",
              "\t\t\"revenue\": \"1.8801428115072754E10\"\n",
              "\t},\n",
              "\t{\n",
              "\t\t\"taxi_type\": \"green\",\n",
              "\t\t\"revenue\": \"8.621928480288665E8\"\n",
              "\t}\n",
              "]"
            ]
          },
          "metadata": {},
          "output_type": "display_data"
        }
      ],
      "source": [
        "sql = \"\"\"\n",
        "select \n",
        "  taxi_type, sum(total_amount) revenue\n",
        "from \n",
        "  taxi_trips_mat_view\n",
        "group by taxi_type\n",
        "\"\"\"\n",
        "\n",
        "df_result = execute_sql_query(w=w,query=sql, warehouse_id=warehouse_id, catalog=catalog, schema=schema)\n",
        "display(df_result)"
      ]
    },
    {
      "cell_type": "markdown",
      "metadata": {},
      "source": [
        "### 5.  Trip count trend by month, by taxi type, for 2016"
      ]
    },
    {
      "cell_type": "code",
      "execution_count": 336,
      "metadata": {},
      "outputs": [
        {
          "data": {
            "application/databricks-table": "{\n\t\"resultType\": \"table\",\n\t\"data\": [\n\t\t[\n\t\t\t\"yellow\",\n\t\t\t\"01\",\n\t\t\t\"10906857\"\n\t\t],\n\t\t[\n\t\t\t\"green\",\n\t\t\t\"01\",\n\t\t\t\"1445285\"\n\t\t],\n\t\t[\n\t\t\t\"yellow\",\n\t\t\t\"02\",\n\t\t\t\"11382048\"\n\t\t],\n\t\t[\n\t\t\t\"green\",\n\t\t\t\"02\",\n\t\t\t\"1510722\"\n\t\t],\n\t\t[\n\t\t\t\"green\",\n\t\t\t\"03\",\n\t\t\t\"1576393\"\n\t\t],\n\t\t[\n\t\t\t\"yellow\",\n\t\t\t\"03\",\n\t\t\t\"12210951\"\n\t\t],\n\t\t[\n\t\t\t\"green\",\n\t\t\t\"04\",\n\t\t\t\"1543925\"\n\t\t],\n\t\t[\n\t\t\t\"yellow\",\n\t\t\t\"04\",\n\t\t\t\"11934332\"\n\t\t],\n\t\t[\n\t\t\t\"green\",\n\t\t\t\"05\",\n\t\t\t\"1536979\"\n\t\t],\n\t\t[\n\t\t\t\"yellow\",\n\t\t\t\"05\",\n\t\t\t\"11836853\"\n\t\t],\n\t\t[\n\t\t\t\"yellow\",\n\t\t\t\"06\",\n\t\t\t\"11135470\"\n\t\t],\n\t\t[\n\t\t\t\"green\",\n\t\t\t\"06\",\n\t\t\t\"1404725\"\n\t\t],\n\t\t[\n\t\t\t\"green\",\n\t\t\t\"07\",\n\t\t\t\"1332510\"\n\t\t],\n\t\t[\n\t\t\t\"yellow\",\n\t\t\t\"07\",\n\t\t\t\"10294080\"\n\t\t],\n\t\t[\n\t\t\t\"green\",\n\t\t\t\"08\",\n\t\t\t\"1247580\"\n\t\t],\n\t\t[\n\t\t\t\"yellow\",\n\t\t\t\"08\",\n\t\t\t\"9942263\"\n\t\t],\n\t\t[\n\t\t\t\"green\",\n\t\t\t\"09\",\n\t\t\t\"1162373\"\n\t\t],\n\t\t[\n\t\t\t\"yellow\",\n\t\t\t\"09\",\n\t\t\t\"10116017\"\n\t\t],\n\t\t[\n\t\t\t\"green\",\n\t\t\t\"10\",\n\t\t\t\"1252572\"\n\t\t],\n\t\t[\n\t\t\t\"yellow\",\n\t\t\t\"10\",\n\t\t\t\"10854609\"\n\t\t],\n\t\t[\n\t\t\t\"green\",\n\t\t\t\"11\",\n\t\t\t\"1148214\"\n\t\t],\n\t\t[\n\t\t\t\"yellow\",\n\t\t\t\"11\",\n\t\t\t\"10102128\"\n\t\t],\n\t\t[\n\t\t\t\"yellow\",\n\t\t\t\"12\",\n\t\t\t\"10449408\"\n\t\t],\n\t\t[\n\t\t\t\"green\",\n\t\t\t\"12\",\n\t\t\t\"1224158\"\n\t\t]\n\t],\n\t\"schema\": [\n\t\t{\n\t\t\t\"name\": \"taxi_type\",\n\t\t\t\"type\": \"\\\"string\\\"\",\n\t\t\t\"metadata\": \"{}\"\n\t\t},\n\t\t{\n\t\t\t\"name\": \"month\",\n\t\t\t\"type\": \"\\\"string\\\"\",\n\t\t\t\"metadata\": \"{}\"\n\t\t},\n\t\t{\n\t\t\t\"name\": \"trip_count\",\n\t\t\t\"type\": \"\\\"string\\\"\",\n\t\t\t\"metadata\": \"{}\"\n\t\t}\n\t],\n\t\"truncated\": false,\n\t\"isJsonSchema\": true\n}",
            "application/json": [
              {
                "month": "01",
                "taxi_type": "yellow",
                "trip_count": "10906857"
              },
              {
                "month": "01",
                "taxi_type": "green",
                "trip_count": "1445285"
              },
              {
                "month": "02",
                "taxi_type": "yellow",
                "trip_count": "11382048"
              },
              {
                "month": "02",
                "taxi_type": "green",
                "trip_count": "1510722"
              },
              {
                "month": "03",
                "taxi_type": "green",
                "trip_count": "1576393"
              },
              {
                "month": "03",
                "taxi_type": "yellow",
                "trip_count": "12210951"
              },
              {
                "month": "04",
                "taxi_type": "green",
                "trip_count": "1543925"
              },
              {
                "month": "04",
                "taxi_type": "yellow",
                "trip_count": "11934332"
              },
              {
                "month": "05",
                "taxi_type": "green",
                "trip_count": "1536979"
              },
              {
                "month": "05",
                "taxi_type": "yellow",
                "trip_count": "11836853"
              },
              {
                "month": "06",
                "taxi_type": "yellow",
                "trip_count": "11135470"
              },
              {
                "month": "06",
                "taxi_type": "green",
                "trip_count": "1404725"
              },
              {
                "month": "07",
                "taxi_type": "green",
                "trip_count": "1332510"
              },
              {
                "month": "07",
                "taxi_type": "yellow",
                "trip_count": "10294080"
              },
              {
                "month": "08",
                "taxi_type": "green",
                "trip_count": "1247580"
              },
              {
                "month": "08",
                "taxi_type": "yellow",
                "trip_count": "9942263"
              },
              {
                "month": "09",
                "taxi_type": "green",
                "trip_count": "1162373"
              },
              {
                "month": "09",
                "taxi_type": "yellow",
                "trip_count": "10116017"
              },
              {
                "month": "10",
                "taxi_type": "green",
                "trip_count": "1252572"
              },
              {
                "month": "10",
                "taxi_type": "yellow",
                "trip_count": "10854609"
              },
              {
                "month": "11",
                "taxi_type": "green",
                "trip_count": "1148214"
              },
              {
                "month": "11",
                "taxi_type": "yellow",
                "trip_count": "10102128"
              },
              {
                "month": "12",
                "taxi_type": "yellow",
                "trip_count": "10449408"
              },
              {
                "month": "12",
                "taxi_type": "green",
                "trip_count": "1224158"
              }
            ],
            "text/html": [
              "<div style=\"height:300px;overflow:auto;resize:both;\"><table style=\"width:100%\" class=\"searchable sortable\"><thead><tr><th>taxi_type</th><th>month</th><th>trip_count</th></tr></thead><tbody><tr><td>yellow</td><td>01</td><td>10906857</td></tr><tr><td>green</td><td>01</td><td>1445285</td></tr><tr><td>yellow</td><td>02</td><td>11382048</td></tr><tr><td>green</td><td>02</td><td>1510722</td></tr><tr><td>green</td><td>03</td><td>1576393</td></tr><tr><td>yellow</td><td>03</td><td>12210951</td></tr><tr><td>green</td><td>04</td><td>1543925</td></tr><tr><td>yellow</td><td>04</td><td>11934332</td></tr><tr><td>green</td><td>05</td><td>1536979</td></tr><tr><td>yellow</td><td>05</td><td>11836853</td></tr><tr><td>yellow</td><td>06</td><td>11135470</td></tr><tr><td>green</td><td>06</td><td>1404725</td></tr><tr><td>green</td><td>07</td><td>1332510</td></tr><tr><td>yellow</td><td>07</td><td>10294080</td></tr><tr><td>green</td><td>08</td><td>1247580</td></tr><tr><td>yellow</td><td>08</td><td>9942263</td></tr><tr><td>green</td><td>09</td><td>1162373</td></tr><tr><td>yellow</td><td>09</td><td>10116017</td></tr><tr><td>green</td><td>10</td><td>1252572</td></tr><tr><td>yellow</td><td>10</td><td>10854609</td></tr><tr><td>green</td><td>11</td><td>1148214</td></tr><tr><td>yellow</td><td>11</td><td>10102128</td></tr><tr><td>yellow</td><td>12</td><td>10449408</td></tr><tr><td>green</td><td>12</td><td>1224158</td></tr></tbody></table></div>"
            ],
            "text/x-json": [
              "[\n",
              "\t{\n",
              "\t\t\"taxi_type\": \"yellow\",\n",
              "\t\t\"month\": \"01\",\n",
              "\t\t\"trip_count\": \"10906857\"\n",
              "\t},\n",
              "\t{\n",
              "\t\t\"taxi_type\": \"green\",\n",
              "\t\t\"month\": \"01\",\n",
              "\t\t\"trip_count\": \"1445285\"\n",
              "\t},\n",
              "\t{\n",
              "\t\t\"taxi_type\": \"yellow\",\n",
              "\t\t\"month\": \"02\",\n",
              "\t\t\"trip_count\": \"11382048\"\n",
              "\t},\n",
              "\t{\n",
              "\t\t\"taxi_type\": \"green\",\n",
              "\t\t\"month\": \"02\",\n",
              "\t\t\"trip_count\": \"1510722\"\n",
              "\t},\n",
              "\t{\n",
              "\t\t\"taxi_type\": \"green\",\n",
              "\t\t\"month\": \"03\",\n",
              "\t\t\"trip_count\": \"1576393\"\n",
              "\t},\n",
              "\t{\n",
              "\t\t\"taxi_type\": \"yellow\",\n",
              "\t\t\"month\": \"03\",\n",
              "\t\t\"trip_count\": \"12210951\"\n",
              "\t},\n",
              "\t{\n",
              "\t\t\"taxi_type\": \"green\",\n",
              "\t\t\"month\": \"04\",\n",
              "\t\t\"trip_count\": \"1543925\"\n",
              "\t},\n",
              "\t{\n",
              "\t\t\"taxi_type\": \"yellow\",\n",
              "\t\t\"month\": \"04\",\n",
              "\t\t\"trip_count\": \"11934332\"\n",
              "\t},\n",
              "\t{\n",
              "\t\t\"taxi_type\": \"green\",\n",
              "\t\t\"month\": \"05\",\n",
              "\t\t\"trip_count\": \"1536979\"\n",
              "\t},\n",
              "\t{\n",
              "\t\t\"taxi_type\": \"yellow\",\n",
              "\t\t\"month\": \"05\",\n",
              "\t\t\"trip_count\": \"11836853\"\n",
              "\t},\n",
              "\t{\n",
              "\t\t\"taxi_type\": \"yellow\",\n",
              "\t\t\"month\": \"06\",\n",
              "\t\t\"trip_count\": \"11135470\"\n",
              "\t},\n",
              "\t{\n",
              "\t\t\"taxi_type\": \"green\",\n",
              "\t\t\"month\": \"06\",\n",
              "\t\t\"trip_count\": \"1404725\"\n",
              "\t},\n",
              "\t{\n",
              "\t\t\"taxi_type\": \"green\",\n",
              "\t\t\"month\": \"07\",\n",
              "\t\t\"trip_count\": \"1332510\"\n",
              "\t},\n",
              "\t{\n",
              "\t\t\"taxi_type\": \"yellow\",\n",
              "\t\t\"month\": \"07\",\n",
              "\t\t\"trip_count\": \"10294080\"\n",
              "\t},\n",
              "\t{\n",
              "\t\t\"taxi_type\": \"green\",\n",
              "\t\t\"month\": \"08\",\n",
              "\t\t\"trip_count\": \"1247580\"\n",
              "\t},\n",
              "\t{\n",
              "\t\t\"taxi_type\": \"yellow\",\n",
              "\t\t\"month\": \"08\",\n",
              "\t\t\"trip_count\": \"9942263\"\n",
              "\t},\n",
              "\t{\n",
              "\t\t\"taxi_type\": \"green\",\n",
              "\t\t\"month\": \"09\",\n",
              "\t\t\"trip_count\": \"1162373\"\n",
              "\t},\n",
              "\t{\n",
              "\t\t\"taxi_type\": \"yellow\",\n",
              "\t\t\"month\": \"09\",\n",
              "\t\t\"trip_count\": \"10116017\"\n",
              "\t},\n",
              "\t{\n",
              "\t\t\"taxi_type\": \"green\",\n",
              "\t\t\"month\": \"10\",\n",
              "\t\t\"trip_count\": \"1252572\"\n",
              "\t},\n",
              "\t{\n",
              "\t\t\"taxi_type\": \"yellow\",\n",
              "\t\t\"month\": \"10\",\n",
              "\t\t\"trip_count\": \"10854609\"\n",
              "\t},\n",
              "\t{\n",
              "\t\t\"taxi_type\": \"green\",\n",
              "\t\t\"month\": \"11\",\n",
              "\t\t\"trip_count\": \"1148214\"\n",
              "\t},\n",
              "\t{\n",
              "\t\t\"taxi_type\": \"yellow\",\n",
              "\t\t\"month\": \"11\",\n",
              "\t\t\"trip_count\": \"10102128\"\n",
              "\t},\n",
              "\t{\n",
              "\t\t\"taxi_type\": \"yellow\",\n",
              "\t\t\"month\": \"12\",\n",
              "\t\t\"trip_count\": \"10449408\"\n",
              "\t},\n",
              "\t{\n",
              "\t\t\"taxi_type\": \"green\",\n",
              "\t\t\"month\": \"12\",\n",
              "\t\t\"trip_count\": \"1224158\"\n",
              "\t}\n",
              "]"
            ]
          },
          "metadata": {},
          "output_type": "display_data"
        }
      ],
      "source": [
        "sql = \"\"\"\n",
        "select \n",
        "  taxi_type,\n",
        "  trip_month as month,\n",
        "  count(1) as trip_count\n",
        "from \n",
        "  taxi_trips_mat_view\n",
        "where \n",
        "  trip_year=2016\n",
        "group by taxi_type,trip_month\n",
        "order by trip_month\n",
        "\"\"\"\n",
        "\n",
        "df_result = execute_sql_query(w=w,query=sql, warehouse_id=warehouse_id, catalog=catalog, schema=schema)\n",
        "display(df_result)\n"
      ]
    },
    {
      "cell_type": "markdown",
      "metadata": {},
      "source": [
        "### 6.  Average trip distance by taxi type"
      ]
    },
    {
      "cell_type": "code",
      "execution_count": 337,
      "metadata": {},
      "outputs": [
        {
          "data": {
            "application/databricks-table": "{\n\t\"resultType\": \"table\",\n\t\"data\": [\n\t\t[\n\t\t\t\"yellow\",\n\t\t\t\"5.22\"\n\t\t],\n\t\t[\n\t\t\t\"green\",\n\t\t\t\"2.86\"\n\t\t]\n\t],\n\t\"schema\": [\n\t\t{\n\t\t\t\"name\": \"taxi_type\",\n\t\t\t\"type\": \"\\\"string\\\"\",\n\t\t\t\"metadata\": \"{}\"\n\t\t},\n\t\t{\n\t\t\t\"name\": \"trip_distance_miles\",\n\t\t\t\"type\": \"\\\"string\\\"\",\n\t\t\t\"metadata\": \"{}\"\n\t\t}\n\t],\n\t\"truncated\": false,\n\t\"isJsonSchema\": true\n}",
            "application/json": [
              {
                "taxi_type": "yellow",
                "trip_distance_miles": "5.22"
              },
              {
                "taxi_type": "green",
                "trip_distance_miles": "2.86"
              }
            ],
            "text/html": [
              "<div style=\"height:300px;overflow:auto;resize:both;\"><table style=\"width:100%\" class=\"searchable sortable\"><thead><tr><th>taxi_type</th><th>trip_distance_miles</th></tr></thead><tbody><tr><td>yellow</td><td>5.22</td></tr><tr><td>green</td><td>2.86</td></tr></tbody></table></div>"
            ],
            "text/x-json": [
              "[\n",
              "\t{\n",
              "\t\t\"taxi_type\": \"yellow\",\n",
              "\t\t\"trip_distance_miles\": \"5.22\"\n",
              "\t},\n",
              "\t{\n",
              "\t\t\"taxi_type\": \"green\",\n",
              "\t\t\"trip_distance_miles\": \"2.86\"\n",
              "\t}\n",
              "]"
            ]
          },
          "metadata": {},
          "output_type": "display_data"
        }
      ],
      "source": [
        "sql = \"\"\"\n",
        "select \n",
        "  taxi_type, round(avg(trip_distance),2) as trip_distance_miles\n",
        "from \n",
        "  taxi_trips_mat_view\n",
        "group by taxi_type\n",
        "\"\"\"\n",
        "\n",
        "df_result = execute_sql_query(w=w,query=sql, warehouse_id=warehouse_id, catalog=catalog, schema=schema)\n",
        "display(df_result)"
      ]
    },
    {
      "cell_type": "markdown",
      "metadata": {},
      "source": [
        "### 7.  Average trip amount by taxi type"
      ]
    },
    {
      "cell_type": "code",
      "execution_count": 340,
      "metadata": {},
      "outputs": [
        {
          "data": {
            "application/databricks-table": "{\n\t\"resultType\": \"table\",\n\t\"data\": [\n\t\t[\n\t\t\t\"yellow\",\n\t\t\t\"13.74\"\n\t\t],\n\t\t[\n\t\t\t\"green\",\n\t\t\t\"14.6\"\n\t\t]\n\t],\n\t\"schema\": [\n\t\t{\n\t\t\t\"name\": \"taxi_type\",\n\t\t\t\"type\": \"\\\"string\\\"\",\n\t\t\t\"metadata\": \"{}\"\n\t\t},\n\t\t{\n\t\t\t\"name\": \"avg_total_amount\",\n\t\t\t\"type\": \"\\\"string\\\"\",\n\t\t\t\"metadata\": \"{}\"\n\t\t}\n\t],\n\t\"truncated\": false,\n\t\"isJsonSchema\": true\n}",
            "application/json": [
              {
                "avg_total_amount": "13.74",
                "taxi_type": "yellow"
              },
              {
                "avg_total_amount": "14.6",
                "taxi_type": "green"
              }
            ],
            "text/html": [
              "<div style=\"height:300px;overflow:auto;resize:both;\"><table style=\"width:100%\" class=\"searchable sortable\"><thead><tr><th>taxi_type</th><th>avg_total_amount</th></tr></thead><tbody><tr><td>yellow</td><td>13.74</td></tr><tr><td>green</td><td>14.6</td></tr></tbody></table></div>"
            ],
            "text/x-json": [
              "[\n",
              "\t{\n",
              "\t\t\"taxi_type\": \"yellow\",\n",
              "\t\t\"avg_total_amount\": \"13.74\"\n",
              "\t},\n",
              "\t{\n",
              "\t\t\"taxi_type\": \"green\",\n",
              "\t\t\"avg_total_amount\": \"14.6\"\n",
              "\t}\n",
              "]"
            ]
          },
          "metadata": {},
          "output_type": "display_data"
        }
      ],
      "source": [
        "sql = \"\"\"\n",
        "select \n",
        "  taxi_type, round(avg(total_amount),2) as avg_total_amount\n",
        "from \n",
        "  taxi_trips_mat_view\n",
        "group by taxi_type\n",
        "\"\"\"\n",
        "\n",
        "df_result = execute_sql_query(w=w,query=sql, warehouse_id=warehouse_id, catalog=catalog, schema=schema)\n",
        "display(df_result)"
      ]
    },
    {
      "cell_type": "markdown",
      "metadata": {},
      "source": [
        "### 8.  Trips with no tip, by taxi type"
      ]
    },
    {
      "cell_type": "code",
      "execution_count": 341,
      "metadata": {},
      "outputs": [
        {
          "data": {
            "application/databricks-table": "{\n\t\"resultType\": \"table\",\n\t\"data\": [\n\t\t[\n\t\t\t\"yellow\",\n\t\t\t\"714255854\"\n\t\t],\n\t\t[\n\t\t\t\"green\",\n\t\t\t\"35839928\"\n\t\t]\n\t],\n\t\"schema\": [\n\t\t{\n\t\t\t\"name\": \"taxi_type\",\n\t\t\t\"type\": \"\\\"string\\\"\",\n\t\t\t\"metadata\": \"{}\"\n\t\t},\n\t\t{\n\t\t\t\"name\": \"tipless_count\",\n\t\t\t\"type\": \"\\\"string\\\"\",\n\t\t\t\"metadata\": \"{}\"\n\t\t}\n\t],\n\t\"truncated\": false,\n\t\"isJsonSchema\": true\n}",
            "application/json": [
              {
                "taxi_type": "yellow",
                "tipless_count": "714255854"
              },
              {
                "taxi_type": "green",
                "tipless_count": "35839928"
              }
            ],
            "text/html": [
              "<div style=\"height:300px;overflow:auto;resize:both;\"><table style=\"width:100%\" class=\"searchable sortable\"><thead><tr><th>taxi_type</th><th>tipless_count</th></tr></thead><tbody><tr><td>yellow</td><td>714255854</td></tr><tr><td>green</td><td>35839928</td></tr></tbody></table></div>"
            ],
            "text/x-json": [
              "[\n",
              "\t{\n",
              "\t\t\"taxi_type\": \"yellow\",\n",
              "\t\t\"tipless_count\": \"714255854\"\n",
              "\t},\n",
              "\t{\n",
              "\t\t\"taxi_type\": \"green\",\n",
              "\t\t\"tipless_count\": \"35839928\"\n",
              "\t}\n",
              "]"
            ]
          },
          "metadata": {},
          "output_type": "display_data"
        }
      ],
      "source": [
        "sql = \"\"\"\n",
        "select \n",
        "  taxi_type, count(1) tipless_count\n",
        "from \n",
        "  synapse_nyc_reference.nyctaxi.taxi_trips_mat_view\n",
        "where tip_amount=0\n",
        "group by taxi_type\n",
        "\"\"\"\n",
        "\n",
        "df_result = execute_sql_query(w=w,query=sql, warehouse_id=warehouse_id, catalog=catalog, schema=schema)\n",
        "display(df_result)\n"
      ]
    },
    {
      "cell_type": "markdown",
      "metadata": {},
      "source": [
        "### 9.  Trips with no charge, by taxi type"
      ]
    },
    {
      "cell_type": "code",
      "execution_count": 342,
      "metadata": {},
      "outputs": [
        {
          "data": {
            "application/databricks-table": "{\n\t\"resultType\": \"table\",\n\t\"data\": [\n\t\t[\n\t\t\t\"yellow\",\n\t\t\t\"2093\"\n\t\t],\n\t\t[\n\t\t\t\"green\",\n\t\t\t\"8578\"\n\t\t]\n\t],\n\t\"schema\": [\n\t\t{\n\t\t\t\"name\": \"taxi_type\",\n\t\t\t\"type\": \"\\\"string\\\"\",\n\t\t\t\"metadata\": \"{}\"\n\t\t},\n\t\t{\n\t\t\t\"name\": \"transactions\",\n\t\t\t\"type\": \"\\\"string\\\"\",\n\t\t\t\"metadata\": \"{}\"\n\t\t}\n\t],\n\t\"truncated\": false,\n\t\"isJsonSchema\": true\n}",
            "application/json": [
              {
                "taxi_type": "yellow",
                "transactions": "2093"
              },
              {
                "taxi_type": "green",
                "transactions": "8578"
              }
            ],
            "text/html": [
              "<div style=\"height:300px;overflow:auto;resize:both;\"><table style=\"width:100%\" class=\"searchable sortable\"><thead><tr><th>taxi_type</th><th>transactions</th></tr></thead><tbody><tr><td>yellow</td><td>2093</td></tr><tr><td>green</td><td>8578</td></tr></tbody></table></div>"
            ],
            "text/x-json": [
              "[\n",
              "\t{\n",
              "\t\t\"taxi_type\": \"yellow\",\n",
              "\t\t\"transactions\": \"2093\"\n",
              "\t},\n",
              "\t{\n",
              "\t\t\"taxi_type\": \"green\",\n",
              "\t\t\"transactions\": \"8578\"\n",
              "\t}\n",
              "]"
            ]
          },
          "metadata": {},
          "output_type": "display_data"
        }
      ],
      "source": [
        "sql = \"\"\"\n",
        "select \n",
        "  taxi_type, count(*) as transactions\n",
        "from \n",
        "  synapse_nyc_reference.nyctaxi.taxi_trips_mat_view\n",
        "where\n",
        "  payment_type_description='No charge'\n",
        "  and total_amount=0.0\n",
        "group by taxi_type\n",
        "\"\"\"\n",
        "\n",
        "df_result = execute_sql_query(w=w,query=sql, warehouse_id=warehouse_id, catalog=catalog, schema=schema)\n",
        "display(df_result)"
      ]
    },
    {
      "cell_type": "markdown",
      "metadata": {},
      "source": [
        "### 10.  Trips by payment type"
      ]
    },
    {
      "cell_type": "code",
      "execution_count": 343,
      "metadata": {},
      "outputs": [
        {
          "data": {
            "application/databricks-table": "{\n\t\"resultType\": \"table\",\n\t\"data\": [\n\t\t[\n\t\t\t\"Unknown\",\n\t\t\t\"1112469\"\n\t\t],\n\t\t[\n\t\t\t\"Dispute\",\n\t\t\t\"1111397\"\n\t\t],\n\t\t[\n\t\t\t\"Cash\",\n\t\t\t\"719487053\"\n\t\t],\n\t\t[\n\t\t\t\"Credit card\",\n\t\t\t\"701765941\"\n\t\t],\n\t\t[\n\t\t\t\"No charge\",\n\t\t\t\"3478486\"\n\t\t],\n\t\t[\n\t\t\tnull,\n\t\t\t\"6809\"\n\t\t]\n\t],\n\t\"schema\": [\n\t\t{\n\t\t\t\"name\": \"Payment_type\",\n\t\t\t\"type\": \"\\\"string\\\"\",\n\t\t\t\"metadata\": \"{}\"\n\t\t},\n\t\t{\n\t\t\t\"name\": \"transactions\",\n\t\t\t\"type\": \"\\\"string\\\"\",\n\t\t\t\"metadata\": \"{}\"\n\t\t}\n\t],\n\t\"truncated\": false,\n\t\"isJsonSchema\": true\n}",
            "application/json": [
              {
                "Payment_type": "Unknown",
                "transactions": "1112469"
              },
              {
                "Payment_type": "Dispute",
                "transactions": "1111397"
              },
              {
                "Payment_type": "Cash",
                "transactions": "719487053"
              },
              {
                "Payment_type": "Credit card",
                "transactions": "701765941"
              },
              {
                "Payment_type": "No charge",
                "transactions": "3478486"
              },
              {
                "Payment_type": null,
                "transactions": "6809"
              }
            ],
            "text/html": [
              "<div style=\"height:300px;overflow:auto;resize:both;\"><table style=\"width:100%\" class=\"searchable sortable\"><thead><tr><th>Payment_type</th><th>transactions</th></tr></thead><tbody><tr><td>Unknown</td><td>1112469</td></tr><tr><td>Dispute</td><td>1111397</td></tr><tr><td>Cash</td><td>719487053</td></tr><tr><td>Credit card</td><td>701765941</td></tr><tr><td>No charge</td><td>3478486</td></tr><tr><td>null</td><td>6809</td></tr></tbody></table></div>"
            ],
            "text/x-json": [
              "[\n",
              "\t{\n",
              "\t\t\"Payment_type\": \"Unknown\",\n",
              "\t\t\"transactions\": \"1112469\"\n",
              "\t},\n",
              "\t{\n",
              "\t\t\"Payment_type\": \"Dispute\",\n",
              "\t\t\"transactions\": \"1111397\"\n",
              "\t},\n",
              "\t{\n",
              "\t\t\"Payment_type\": \"Cash\",\n",
              "\t\t\"transactions\": \"719487053\"\n",
              "\t},\n",
              "\t{\n",
              "\t\t\"Payment_type\": \"Credit card\",\n",
              "\t\t\"transactions\": \"701765941\"\n",
              "\t},\n",
              "\t{\n",
              "\t\t\"Payment_type\": \"No charge\",\n",
              "\t\t\"transactions\": \"3478486\"\n",
              "\t},\n",
              "\t{\n",
              "\t\t\"Payment_type\": null,\n",
              "\t\t\"transactions\": \"6809\"\n",
              "\t}\n",
              "]"
            ]
          },
          "metadata": {},
          "output_type": "display_data"
        }
      ],
      "source": [
        "sql = \"\"\"\n",
        "select \n",
        "  payment_type_description as Payment_type, count(*) as transactions\n",
        "from \n",
        "  synapse_nyc_reference.nyctaxi.taxi_trips_mat_view\n",
        "group by payment_type_description\n",
        "\"\"\"\n",
        "\n",
        "df_result = execute_sql_query(w=w,query=sql, warehouse_id=warehouse_id, catalog=catalog, schema=schema)\n",
        "display(df_result)"
      ]
    },
    {
      "cell_type": "markdown",
      "metadata": {},
      "source": [
        "### 11.  Trip trend by pickup hour for yellow taxi in 2016"
      ]
    },
    {
      "cell_type": "code",
      "execution_count": 344,
      "metadata": {},
      "outputs": [
        {
          "data": {
            "application/databricks-table": "{\n\t\"resultType\": \"table\",\n\t\"data\": [\n\t\t[\n\t\t\t\"0\",\n\t\t\t\"4801263\"\n\t\t],\n\t\t[\n\t\t\t\"1\",\n\t\t\t\"3510554\"\n\t\t],\n\t\t[\n\t\t\t\"2\",\n\t\t\t\"2576474\"\n\t\t],\n\t\t[\n\t\t\t\"3\",\n\t\t\t\"1888184\"\n\t\t],\n\t\t[\n\t\t\t\"4\",\n\t\t\t\"1451388\"\n\t\t],\n\t\t[\n\t\t\t\"5\",\n\t\t\t\"1393381\"\n\t\t],\n\t\t[\n\t\t\t\"6\",\n\t\t\t\"3001894\"\n\t\t],\n\t\t[\n\t\t\t\"7\",\n\t\t\t\"4925227\"\n\t\t],\n\t\t[\n\t\t\t\"8\",\n\t\t\t\"5967221\"\n\t\t],\n\t\t[\n\t\t\t\"9\",\n\t\t\t\"6044046\"\n\t\t],\n\t\t[\n\t\t\t\"10\",\n\t\t\t\"5926031\"\n\t\t],\n\t\t[\n\t\t\t\"11\",\n\t\t\t\"6167044\"\n\t\t],\n\t\t[\n\t\t\t\"12\",\n\t\t\t\"6500904\"\n\t\t],\n\t\t[\n\t\t\t\"13\",\n\t\t\t\"6511081\"\n\t\t],\n\t\t[\n\t\t\t\"14\",\n\t\t\t\"6779738\"\n\t\t],\n\t\t[\n\t\t\t\"15\",\n\t\t\t\"6532699\"\n\t\t],\n\t\t[\n\t\t\t\"16\",\n\t\t\t\"5870710\"\n\t\t],\n\t\t[\n\t\t\t\"17\",\n\t\t\t\"6864860\"\n\t\t],\n\t\t[\n\t\t\t\"18\",\n\t\t\t\"8001221\"\n\t\t],\n\t\t[\n\t\t\t\"19\",\n\t\t\t\"8048443\"\n\t\t],\n\t\t[\n\t\t\t\"20\",\n\t\t\t\"7555497\"\n\t\t],\n\t\t[\n\t\t\t\"21\",\n\t\t\t\"7475434\"\n\t\t],\n\t\t[\n\t\t\t\"22\",\n\t\t\t\"7172956\"\n\t\t],\n\t\t[\n\t\t\t\"23\",\n\t\t\t\"6198766\"\n\t\t]\n\t],\n\t\"schema\": [\n\t\t{\n\t\t\t\"name\": \"pickup_hour\",\n\t\t\t\"type\": \"\\\"string\\\"\",\n\t\t\t\"metadata\": \"{}\"\n\t\t},\n\t\t{\n\t\t\t\"name\": \"trip_count\",\n\t\t\t\"type\": \"\\\"string\\\"\",\n\t\t\t\"metadata\": \"{}\"\n\t\t}\n\t],\n\t\"truncated\": false,\n\t\"isJsonSchema\": true\n}",
            "application/json": [
              {
                "pickup_hour": "0",
                "trip_count": "4801263"
              },
              {
                "pickup_hour": "1",
                "trip_count": "3510554"
              },
              {
                "pickup_hour": "2",
                "trip_count": "2576474"
              },
              {
                "pickup_hour": "3",
                "trip_count": "1888184"
              },
              {
                "pickup_hour": "4",
                "trip_count": "1451388"
              },
              {
                "pickup_hour": "5",
                "trip_count": "1393381"
              },
              {
                "pickup_hour": "6",
                "trip_count": "3001894"
              },
              {
                "pickup_hour": "7",
                "trip_count": "4925227"
              },
              {
                "pickup_hour": "8",
                "trip_count": "5967221"
              },
              {
                "pickup_hour": "9",
                "trip_count": "6044046"
              },
              {
                "pickup_hour": "10",
                "trip_count": "5926031"
              },
              {
                "pickup_hour": "11",
                "trip_count": "6167044"
              },
              {
                "pickup_hour": "12",
                "trip_count": "6500904"
              },
              {
                "pickup_hour": "13",
                "trip_count": "6511081"
              },
              {
                "pickup_hour": "14",
                "trip_count": "6779738"
              },
              {
                "pickup_hour": "15",
                "trip_count": "6532699"
              },
              {
                "pickup_hour": "16",
                "trip_count": "5870710"
              },
              {
                "pickup_hour": "17",
                "trip_count": "6864860"
              },
              {
                "pickup_hour": "18",
                "trip_count": "8001221"
              },
              {
                "pickup_hour": "19",
                "trip_count": "8048443"
              },
              {
                "pickup_hour": "20",
                "trip_count": "7555497"
              },
              {
                "pickup_hour": "21",
                "trip_count": "7475434"
              },
              {
                "pickup_hour": "22",
                "trip_count": "7172956"
              },
              {
                "pickup_hour": "23",
                "trip_count": "6198766"
              }
            ],
            "text/html": [
              "<div style=\"height:300px;overflow:auto;resize:both;\"><table style=\"width:100%\" class=\"searchable sortable\"><thead><tr><th>pickup_hour</th><th>trip_count</th></tr></thead><tbody><tr><td>0</td><td>4801263</td></tr><tr><td>1</td><td>3510554</td></tr><tr><td>2</td><td>2576474</td></tr><tr><td>3</td><td>1888184</td></tr><tr><td>4</td><td>1451388</td></tr><tr><td>5</td><td>1393381</td></tr><tr><td>6</td><td>3001894</td></tr><tr><td>7</td><td>4925227</td></tr><tr><td>8</td><td>5967221</td></tr><tr><td>9</td><td>6044046</td></tr><tr><td>10</td><td>5926031</td></tr><tr><td>11</td><td>6167044</td></tr><tr><td>12</td><td>6500904</td></tr><tr><td>13</td><td>6511081</td></tr><tr><td>14</td><td>6779738</td></tr><tr><td>15</td><td>6532699</td></tr><tr><td>16</td><td>5870710</td></tr><tr><td>17</td><td>6864860</td></tr><tr><td>18</td><td>8001221</td></tr><tr><td>19</td><td>8048443</td></tr><tr><td>20</td><td>7555497</td></tr><tr><td>21</td><td>7475434</td></tr><tr><td>22</td><td>7172956</td></tr><tr><td>23</td><td>6198766</td></tr></tbody></table></div>"
            ],
            "text/x-json": [
              "[\n",
              "\t{\n",
              "\t\t\"pickup_hour\": \"0\",\n",
              "\t\t\"trip_count\": \"4801263\"\n",
              "\t},\n",
              "\t{\n",
              "\t\t\"pickup_hour\": \"1\",\n",
              "\t\t\"trip_count\": \"3510554\"\n",
              "\t},\n",
              "\t{\n",
              "\t\t\"pickup_hour\": \"2\",\n",
              "\t\t\"trip_count\": \"2576474\"\n",
              "\t},\n",
              "\t{\n",
              "\t\t\"pickup_hour\": \"3\",\n",
              "\t\t\"trip_count\": \"1888184\"\n",
              "\t},\n",
              "\t{\n",
              "\t\t\"pickup_hour\": \"4\",\n",
              "\t\t\"trip_count\": \"1451388\"\n",
              "\t},\n",
              "\t{\n",
              "\t\t\"pickup_hour\": \"5\",\n",
              "\t\t\"trip_count\": \"1393381\"\n",
              "\t},\n",
              "\t{\n",
              "\t\t\"pickup_hour\": \"6\",\n",
              "\t\t\"trip_count\": \"3001894\"\n",
              "\t},\n",
              "\t{\n",
              "\t\t\"pickup_hour\": \"7\",\n",
              "\t\t\"trip_count\": \"4925227\"\n",
              "\t},\n",
              "\t{\n",
              "\t\t\"pickup_hour\": \"8\",\n",
              "\t\t\"trip_count\": \"5967221\"\n",
              "\t},\n",
              "\t{\n",
              "\t\t\"pickup_hour\": \"9\",\n",
              "\t\t\"trip_count\": \"6044046\"\n",
              "\t},\n",
              "\t{\n",
              "\t\t\"pickup_hour\": \"10\",\n",
              "\t\t\"trip_count\": \"5926031\"\n",
              "\t},\n",
              "\t{\n",
              "\t\t\"pickup_hour\": \"11\",\n",
              "\t\t\"trip_count\": \"6167044\"\n",
              "\t},\n",
              "\t{\n",
              "\t\t\"pickup_hour\": \"12\",\n",
              "\t\t\"trip_count\": \"6500904\"\n",
              "\t},\n",
              "\t{\n",
              "\t\t\"pickup_hour\": \"13\",\n",
              "\t\t\"trip_count\": \"6511081\"\n",
              "\t},\n",
              "\t{\n",
              "\t\t\"pickup_hour\": \"14\",\n",
              "\t\t\"trip_count\": \"6779738\"\n",
              "\t},\n",
              "\t{\n",
              "\t\t\"pickup_hour\": \"15\",\n",
              "\t\t\"trip_count\": \"6532699\"\n",
              "\t},\n",
              "\t{\n",
              "\t\t\"pickup_hour\": \"16\",\n",
              "\t\t\"trip_count\": \"5870710\"\n",
              "\t},\n",
              "\t{\n",
              "\t\t\"pickup_hour\": \"17\",\n",
              "\t\t\"trip_count\": \"6864860\"\n",
              "\t},\n",
              "\t{\n",
              "\t\t\"pickup_hour\": \"18\",\n",
              "\t\t\"trip_count\": \"8001221\"\n",
              "\t},\n",
              "\t{\n",
              "\t\t\"pickup_hour\": \"19\",\n",
              "\t\t\"trip_count\": \"8048443\"\n",
              "\t},\n",
              "\t{\n",
              "\t\t\"pickup_hour\": \"20\",\n",
              "\t\t\"trip_count\": \"7555497\"\n",
              "\t},\n",
              "\t{\n",
              "\t\t\"pickup_hour\": \"21\",\n",
              "\t\t\"trip_count\": \"7475434\"\n",
              "\t},\n",
              "\t{\n",
              "\t\t\"pickup_hour\": \"22\",\n",
              "\t\t\"trip_count\": \"7172956\"\n",
              "\t},\n",
              "\t{\n",
              "\t\t\"pickup_hour\": \"23\",\n",
              "\t\t\"trip_count\": \"6198766\"\n",
              "\t}\n",
              "]"
            ]
          },
          "metadata": {},
          "output_type": "display_data"
        }
      ],
      "source": [
        "sql = \"\"\"\n",
        "select pickup_hour,count(*) as trip_count\n",
        "from synapse_nyc_reference.nyctaxi.yellow_taxi_trips_transform\n",
        "where trip_year=2016\n",
        "group by pickup_hour\n",
        "order by pickup_hour\n",
        "\"\"\"\n",
        "\n",
        "df_result = execute_sql_query(w=w,query=sql, warehouse_id=warehouse_id, catalog=catalog, schema=schema)\n",
        "display(df_result)"
      ]
    },
    {
      "cell_type": "markdown",
      "metadata": {},
      "source": [
        "### 12.  Top 3 yellow taxi pickup-dropoff zones for 2016"
      ]
    },
    {
      "cell_type": "code",
      "execution_count": 345,
      "metadata": {},
      "outputs": [
        {
          "data": {
            "application/databricks-table": "{\n\t\"resultType\": \"table\",\n\t\"data\": [\n\t\t[\n\t\t\t\"Upper East Side South\",\n\t\t\t\"Upper East Side North\",\n\t\t\t\"310035\"\n\t\t],\n\t\t[\n\t\t\t\"Upper East Side North\",\n\t\t\t\"Upper East Side South\",\n\t\t\t\"267509\"\n\t\t],\n\t\t[\n\t\t\t\"Upper East Side North\",\n\t\t\t\"Upper East Side North\",\n\t\t\t\"249141\"\n\t\t]\n\t],\n\t\"schema\": [\n\t\t{\n\t\t\t\"name\": \"pickup_zone\",\n\t\t\t\"type\": \"\\\"string\\\"\",\n\t\t\t\"metadata\": \"{}\"\n\t\t},\n\t\t{\n\t\t\t\"name\": \"dropoff_zone\",\n\t\t\t\"type\": \"\\\"string\\\"\",\n\t\t\t\"metadata\": \"{}\"\n\t\t},\n\t\t{\n\t\t\t\"name\": \"trip_count\",\n\t\t\t\"type\": \"\\\"string\\\"\",\n\t\t\t\"metadata\": \"{}\"\n\t\t}\n\t],\n\t\"truncated\": false,\n\t\"isJsonSchema\": true\n}",
            "application/json": [
              {
                "dropoff_zone": "Upper East Side North",
                "pickup_zone": "Upper East Side South",
                "trip_count": "310035"
              },
              {
                "dropoff_zone": "Upper East Side South",
                "pickup_zone": "Upper East Side North",
                "trip_count": "267509"
              },
              {
                "dropoff_zone": "Upper East Side North",
                "pickup_zone": "Upper East Side North",
                "trip_count": "249141"
              }
            ],
            "text/html": [
              "<div style=\"height:300px;overflow:auto;resize:both;\"><table style=\"width:100%\" class=\"searchable sortable\"><thead><tr><th>pickup_zone</th><th>dropoff_zone</th><th>trip_count</th></tr></thead><tbody><tr><td>Upper East Side South</td><td>Upper East Side North</td><td>310035</td></tr><tr><td>Upper East Side North</td><td>Upper East Side South</td><td>267509</td></tr><tr><td>Upper East Side North</td><td>Upper East Side North</td><td>249141</td></tr></tbody></table></div>"
            ],
            "text/x-json": [
              "[\n",
              "\t{\n",
              "\t\t\"pickup_zone\": \"Upper East Side South\",\n",
              "\t\t\"dropoff_zone\": \"Upper East Side North\",\n",
              "\t\t\"trip_count\": \"310035\"\n",
              "\t},\n",
              "\t{\n",
              "\t\t\"pickup_zone\": \"Upper East Side North\",\n",
              "\t\t\"dropoff_zone\": \"Upper East Side South\",\n",
              "\t\t\"trip_count\": \"267509\"\n",
              "\t},\n",
              "\t{\n",
              "\t\t\"pickup_zone\": \"Upper East Side North\",\n",
              "\t\t\"dropoff_zone\": \"Upper East Side North\",\n",
              "\t\t\"trip_count\": \"249141\"\n",
              "\t}\n",
              "]"
            ]
          },
          "metadata": {},
          "output_type": "display_data"
        }
      ],
      "source": [
        "sql = \"\"\"\n",
        "select * from \n",
        "  (\n",
        "  select \n",
        "    pickup_zone,dropoff_zone,count(*) as trip_count\n",
        "  from \n",
        "    yellow_taxi_trips_transform\n",
        "  where \n",
        "    trip_year=2016\n",
        "  and\n",
        "    pickup_zone is not null and pickup_zone<>'NV'\n",
        "  and \n",
        "    dropoff_zone is not null and dropoff_zone<>'NV'\n",
        "  group by pickup_zone,dropoff_zone\n",
        "  order by trip_count desc\n",
        "  ) x\n",
        "limit 3\n",
        "\"\"\"\n",
        "\n",
        "df_result = execute_sql_query(w=w,query=sql, warehouse_id=warehouse_id, catalog=catalog, schema=schema)\n",
        "display(df_result)\n"
      ]
    }
  ],
  "metadata": {
    "application/vnd.databricks.v1+notebook": {
      "dashboards": [],
      "language": "python",
      "notebookMetadata": {
        "pythonIndentUnit": 4
      },
      "notebookName": "Report",
      "notebookOrigID": 0,
      "widgets": {}
    },
    "kernelspec": {
      "display_name": "Python 3",
      "language": "python",
      "name": "python3"
    },
    "language_info": {
      "codemirror_mode": {
        "name": "ipython",
        "version": 3
      },
      "file_extension": ".py",
      "mimetype": "text/x-python",
      "name": "python",
      "nbconvert_exporter": "python",
      "pygments_lexer": "ipython3",
      "version": "3.8.10"
    }
  },
  "nbformat": 4,
  "nbformat_minor": 5
}
