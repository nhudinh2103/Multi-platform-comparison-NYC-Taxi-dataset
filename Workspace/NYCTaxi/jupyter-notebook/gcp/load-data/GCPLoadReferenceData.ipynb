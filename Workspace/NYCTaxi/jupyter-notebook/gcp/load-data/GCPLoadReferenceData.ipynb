{
  "cells": [
    {
      "cell_type": "markdown",
      "metadata": {},
      "source": [
        "# What's in this exercise?\n",
        "We run the common functions notebook so we can reuse capability defined there, and then...<BR>\n",
        "1) Load reference data in staging directory to reference data directory<BR> \n",
        "2) Create external unmanaged Hive tables<BR>\n",
        "3) Create statistics for tables"
      ]
    },
    {
      "cell_type": "markdown",
      "id": "65782e71",
      "metadata": {},
      "source": [
        "#### 1.  Declare necessary variables"
      ]
    },
    {
      "cell_type": "code",
      "execution_count": 79,
      "id": "9f60e5aa",
      "metadata": {},
      "outputs": [
        {
          "name": "stdout",
          "output_type": "stream",
          "text": []
        }
      ],
      "source": [
        "from pyspark.sql.types import StructType, StructField, StringType, IntegerType, LongType, FloatType, DoubleType, TimestampType"
      ]
    },
    {
      "cell_type": "code",
      "execution_count": 80,
      "id": "4dc64758",
      "metadata": {},
      "outputs": [
        {
          "data": {
            "application/databricks-table": "{\n\t\"resultType\": \"table\",\n\t\"data\": [\n\t\t[\n\t\t\t\"databricks_workspace\"\n\t\t],\n\t\t[\n\t\t\t\"hive_metastore\"\n\t\t],\n\t\t[\n\t\t\t\"samples\"\n\t\t],\n\t\t[\n\t\t\t\"synapse_nyc_reference\"\n\t\t],\n\t\t[\n\t\t\t\"system\"\n\t\t]\n\t],\n\t\"schema\": [\n\t\t{\n\t\t\t\"name\": \"catalog\",\n\t\t\t\"type\": \"\\\"string\\\"\",\n\t\t\t\"metadata\": \"{}\"\n\t\t}\n\t],\n\t\"truncated\": false,\n\t\"isJsonSchema\": true\n}",
            "application/json": [
              {
                "catalog": "databricks_workspace"
              },
              {
                "catalog": "hive_metastore"
              },
              {
                "catalog": "samples"
              },
              {
                "catalog": "synapse_nyc_reference"
              },
              {
                "catalog": "system"
              }
            ],
            "text/html": [
              "<div style=\"height:300px;overflow:auto;resize:both;\"><table style=\"width:100%\" class=\"searchable sortable\"><thead><tr><th>catalog</th></tr></thead><tbody><tr><td>databricks_workspace</td></tr><tr><td>hive_metastore</td></tr><tr><td>samples</td></tr><tr><td>synapse_nyc_reference</td></tr><tr><td>system</td></tr></tbody></table></div>"
            ],
            "text/x-json": [
              "[\n",
              "\t{\n",
              "\t\t\"catalog\": \"databricks_workspace\"\n",
              "\t},\n",
              "\t{\n",
              "\t\t\"catalog\": \"hive_metastore\"\n",
              "\t},\n",
              "\t{\n",
              "\t\t\"catalog\": \"samples\"\n",
              "\t},\n",
              "\t{\n",
              "\t\t\"catalog\": \"synapse_nyc_reference\"\n",
              "\t},\n",
              "\t{\n",
              "\t\t\"catalog\": \"system\"\n",
              "\t}\n",
              "]"
            ]
          },
          "metadata": {},
          "output_type": "display_data"
        }
      ],
      "source": [
        "%sql\n",
        "SHOW CATALOGS;"
      ]
    },
    {
      "cell_type": "code",
      "execution_count": 81,
      "id": "93208d7f",
      "metadata": {},
      "outputs": [
        {
          "name": "stdout",
          "output_type": "stream",
          "text": []
        }
      ],
      "source": [
        "# Define source and destination directories\n",
        "srcDataDirRoot = f\"gs://nyctaxi-raw/reference-data/\" #Root dir for source data\n",
        "destDataDirRoot = f\"gs://nyctaxi-silver/nyctaxi/reference/\" #Root dir for consumable data"
      ]
    },
    {
      "cell_type": "markdown",
      "id": "d171ed90",
      "metadata": {},
      "source": [
        "### 1.  Execute notebook with common/reusable functions"
      ]
    },
    {
      "cell_type": "code",
      "execution_count": 34,
      "id": "4375c933",
      "metadata": {},
      "outputs": [
        {
          "data": {
            "text/plain": [
              "Code from file 'file:///home/dinhnn/git/personal/Databricks-NYC-Taxi/Workspace/01-General/2-CommonFunctions.ipynb':\n",
              " import os\n",
              "import math\n",
              "import glob\n",
              "import re\n",
              "prqShrinkageFactor = 0.19 #We found a saving in space of 81% with Parquet\n",
              "def analyzeTables(databaseAndTable):\n",
              "  try:\n",
              "    print(\"Table: \" + databaseAndTable)\n",
              "    print(\"....refresh table\")\n",
              "    sql(\"REFRESH TABLE \" + databaseAndTable)\n",
              "    print(\"....analyze table\")\n",
              "    sql(\"ANALYZE TABLE \" + databaseAndTable + \" COMPUTE STATISTICS\")\n",
              "    print(\"....done\")\n",
              "  except Exception as e:\n",
              "    return e\n",
              "def calcOutputFileCountTxtToPrq(srcDataFile, targetedFileSizeMB):\n",
              "  try:\n",
              "    estFileCount = int(math.floor((os.path.getsize(srcDataFile) * prqShrinkageFactor) / (targetedFileSizeMB * 1024 * 1024)))\n",
              "    if(estFileCount == 0):\n",
              "      return 1 \n",
              "    else:\n",
              "      return estFileCount\n",
              "  except Exception as e:\n",
              "    return e\n",
              "#Delete residual files from job operation (_SUCCESS, _start*, _committed*)\n",
              "#Should be called with '/dbfs/mnt/...'\n",
              "def recursivelyDeleteSparkJobFlagFiles(directoryPath):\n",
              "  try:\n",
              "    files = glob.glob(directoryPath + '/**/*', recursive=True)\n",
              "    for file in files:\n",
              "      if not os.path.basename(file).endswith('parquet') and os.path.isfile(file):\n",
              "        fileReplaced = re.sub('/dbfs', 'dbfs:',file)\n",
              "        print(\"Deleting....\" +  fileReplaced)\n",
              "        dbutils.fs.rm(fileReplaced)\n",
              "  except Exception as e:\n",
              "    return e"
            ]
          },
          "metadata": {},
          "output_type": "display_data"
        },
        {
          "name": "stdout",
          "output_type": "stream",
          "text": []
        }
      ],
      "source": [
        "%run \"../../../../01-General/2-CommonFunctions.ipynb\""
      ]
    },
    {
      "cell_type": "markdown",
      "id": "8c73f1bf",
      "metadata": {},
      "source": [
        "### 2. List reference datasets"
      ]
    },
    {
      "cell_type": "code",
      "execution_count": null,
      "id": "53f52ecc",
      "metadata": {},
      "outputs": [],
      "source": [
        "display(dbutils.fs.ls(srcDataDirRoot))"
      ]
    },
    {
      "cell_type": "markdown",
      "id": "440e1c5d",
      "metadata": {},
      "source": [
        "### 3. Define schema for raw reference data"
      ]
    },
    {
      "cell_type": "code",
      "execution_count": 36,
      "id": "fe5492ce",
      "metadata": {},
      "outputs": [
        {
          "name": "stdout",
          "output_type": "stream",
          "text": []
        }
      ],
      "source": [
        "# 1.  Taxi zone lookup\n",
        "taxiZoneSchema = StructType([\n",
        "    StructField(\"location_id\", StringType(), True),\n",
        "    StructField(\"borough\", StringType(), True),\n",
        "    StructField(\"zone\", StringType(), True),\n",
        "    StructField(\"service_zone\", StringType(), True)])\n",
        "\n",
        "#2. Months of the year\n",
        "tripMonthNameSchema = StructType([\n",
        "    StructField(\"trip_month\", StringType(), True),\n",
        "    StructField(\"month_name_short\", StringType(), True),\n",
        "    StructField(\"month_name_full\", StringType(), True)])\n",
        "\n",
        "#3.  Rate code id lookup\n",
        "rateCodeSchema = StructType([\n",
        "    StructField(\"rate_code_id\", IntegerType(), True),\n",
        "    StructField(\"description\", StringType(), True)])\n",
        "\n",
        "#4.  Payment type lookup\n",
        "paymentTypeSchema = StructType([\n",
        "    StructField(\"payment_type\", IntegerType(), True),\n",
        "    StructField(\"abbreviation\", StringType(), True),\n",
        "    StructField(\"description\", StringType(), True)])\n",
        "\n",
        "#5. Trip type\n",
        "tripTypeSchema = StructType([\n",
        "    StructField(\"trip_type\", IntegerType(), True),\n",
        "    StructField(\"description\", StringType(), True)])\n",
        "\n",
        "\n",
        "#6. Vendor ID\n",
        "vendorSchema = StructType([\n",
        "    StructField(\"vendor_id\", IntegerType(), True),\n",
        "    StructField(\"abbreviation\", StringType(), True),\n",
        "    StructField(\"description\", StringType(), True)])"
      ]
    },
    {
      "cell_type": "markdown",
      "id": "d43f8441",
      "metadata": {},
      "source": [
        "### 4. Load reference data"
      ]
    },
    {
      "cell_type": "markdown",
      "id": "2e5b4e7c",
      "metadata": {},
      "source": [
        "##### 4.1. Create function to load data"
      ]
    },
    {
      "cell_type": "code",
      "execution_count": 38,
      "id": "f532f110",
      "metadata": {},
      "outputs": [
        {
          "name": "stdout",
          "output_type": "stream",
          "text": []
        }
      ],
      "source": [
        "def loadReferenceData(srcDatasetName, srcDataFile, destDataDir, srcSchema, delimiter):\n",
        "  print(\"Dataset:  \" + srcDatasetName)\n",
        "  print(\".......................................................\")\n",
        "  \n",
        "  #Execute for idempotent runs\n",
        "  print(\"....deleting destination directory - \" + str(dbutils.fs.rm(destDataDir, recurse=True)))\n",
        "  \n",
        "  #Read source data\n",
        "  refDF = (spark.read.option(\"header\", True)\n",
        "                      .schema(srcSchema)\n",
        "                      .option(\"delimiter\",delimiter)\n",
        "                      .csv(srcDataFile))\n",
        "      \n",
        "  #Write parquet output\n",
        "  print(\"....reading source and saving as parquet\")\n",
        "  print(refDF)\n",
        "  refDF.coalesce(1).write.option(\"compression\", \"zstd\").mode(\"overwrite\").parquet(destDataDir)\n",
        "  \n",
        "  print(\"....done\")"
      ]
    },
    {
      "cell_type": "markdown",
      "id": "85a2dd1f",
      "metadata": {},
      "source": [
        "##### 4.2. Load data"
      ]
    },
    {
      "cell_type": "code",
      "execution_count": 13,
      "id": "43b5dee1",
      "metadata": {},
      "outputs": [
        {
          "data": {
            "text/plain": [
              "Dataset:  taxi zone\n",
              ".......................................................\n",
              "....deleting destination directory - False\n",
              "....reading source and saving as parquet\n",
              "DataFrame[location_id: string, borough: string, zone: string, service_zone: string]\n",
              "....done\n",
              "Dataset:  trip month\n",
              ".......................................................\n",
              "....deleting destination directory - False\n",
              "....reading source and saving as parquet\n",
              "DataFrame[trip_month: string, month_name_short: string, month_name_full: string]\n",
              "....done\n",
              "Dataset:  rate code\n",
              ".......................................................\n",
              "....deleting destination directory - False\n",
              "....reading source and saving as parquet\n",
              "DataFrame[rate_code_id: int, description: string]\n",
              "....done\n",
              "Dataset:  payment type\n",
              ".......................................................\n",
              "....deleting destination directory - False\n",
              "....reading source and saving as parquet\n",
              "DataFrame[payment_type: int, abbreviation: string, description: string]\n",
              "....done\n",
              "Dataset:  trip type\n",
              ".......................................................\n",
              "....deleting destination directory - False\n",
              "....reading source and saving as parquet\n",
              "DataFrame[trip_type: int, description: string]\n",
              "....done\n",
              "Dataset:  vendor\n",
              ".......................................................\n",
              "....deleting destination directory - False\n",
              "....reading source and saving as parquet\n",
              "DataFrame[vendor_id: int, abbreviation: string, description: string]\n",
              "....done"
            ]
          },
          "metadata": {},
          "output_type": "display_data"
        }
      ],
      "source": [
        "loadReferenceData(\"taxi zone\",srcDataDirRoot + \"taxi_zone_lookup.csv\",destDataDirRoot + \"taxi-zone-lookup\",taxiZoneSchema,\",\")\n",
        "loadReferenceData(\"trip month\",srcDataDirRoot + \"trip_month_lookup.csv\",destDataDirRoot + \"trip-month-lookup\",tripMonthNameSchema,\",\")\n",
        "loadReferenceData(\"rate code\",srcDataDirRoot + \"rate_code_lookup.csv\",destDataDirRoot + \"rate-code-lookup\",rateCodeSchema,\"|\")\n",
        "loadReferenceData(\"payment type\",srcDataDirRoot + \"payment_type_lookup.csv\",destDataDirRoot + \"payment-type-lookup\",paymentTypeSchema,\"|\")\n",
        "loadReferenceData(\"trip type\",srcDataDirRoot + \"trip_type_lookup.csv\",destDataDirRoot + \"trip-type-lookup\",tripTypeSchema,\"|\")\n",
        "loadReferenceData(\"vendor\",srcDataDirRoot + \"vendor_lookup.csv\",destDataDirRoot + \"vendor-lookup\",vendorSchema,\"|\")"
      ]
    },
    {
      "cell_type": "markdown",
      "id": "6488d77b",
      "metadata": {},
      "source": [
        "##### 4.3. Validate load"
      ]
    },
    {
      "cell_type": "code",
      "execution_count": 14,
      "id": "2e88b98a",
      "metadata": {},
      "outputs": [
        {
          "data": {
            "application/databricks-table": "{\n\t\"resultType\": \"table\",\n\t\"data\": [\n\t\t[\n\t\t\t\"gs://nyctaxi-silver/nyctaxi/reference/vendor-lookup/\",\n\t\t\t\"vendor-lookup/\",\n\t\t\t0,\n\t\t\t0\n\t\t],\n\t\t[\n\t\t\t\"gs://nyctaxi-silver/nyctaxi/reference/rate-code-lookup/\",\n\t\t\t\"rate-code-lookup/\",\n\t\t\t0,\n\t\t\t0\n\t\t],\n\t\t[\n\t\t\t\"gs://nyctaxi-silver/nyctaxi/reference/taxi-zone-lookup/\",\n\t\t\t\"taxi-zone-lookup/\",\n\t\t\t0,\n\t\t\t0\n\t\t],\n\t\t[\n\t\t\t\"gs://nyctaxi-silver/nyctaxi/reference/trip-type-lookup/\",\n\t\t\t\"trip-type-lookup/\",\n\t\t\t0,\n\t\t\t0\n\t\t],\n\t\t[\n\t\t\t\"gs://nyctaxi-silver/nyctaxi/reference/trip-month-lookup/\",\n\t\t\t\"trip-month-lookup/\",\n\t\t\t0,\n\t\t\t0\n\t\t],\n\t\t[\n\t\t\t\"gs://nyctaxi-silver/nyctaxi/reference/payment-type-lookup/\",\n\t\t\t\"payment-type-lookup/\",\n\t\t\t0,\n\t\t\t0\n\t\t]\n\t],\n\t\"schema\": [\n\t\t{\n\t\t\t\"name\": \"path\",\n\t\t\t\"type\": \"\\\"string\\\"\",\n\t\t\t\"metadata\": \"{}\"\n\t\t},\n\t\t{\n\t\t\t\"name\": \"name\",\n\t\t\t\"type\": \"\\\"string\\\"\",\n\t\t\t\"metadata\": \"{}\"\n\t\t},\n\t\t{\n\t\t\t\"name\": \"size\",\n\t\t\t\"type\": \"\\\"long\\\"\",\n\t\t\t\"metadata\": \"{}\"\n\t\t},\n\t\t{\n\t\t\t\"name\": \"modificationTime\",\n\t\t\t\"type\": \"\\\"long\\\"\",\n\t\t\t\"metadata\": \"{}\"\n\t\t}\n\t],\n\t\"truncated\": false,\n\t\"isJsonSchema\": true\n}",
            "application/json": [
              {
                "modificationTime": 0,
                "name": "vendor-lookup/",
                "path": "gs://nyctaxi-silver/nyctaxi/reference/vendor-lookup/",
                "size": 0
              },
              {
                "modificationTime": 0,
                "name": "rate-code-lookup/",
                "path": "gs://nyctaxi-silver/nyctaxi/reference/rate-code-lookup/",
                "size": 0
              },
              {
                "modificationTime": 0,
                "name": "taxi-zone-lookup/",
                "path": "gs://nyctaxi-silver/nyctaxi/reference/taxi-zone-lookup/",
                "size": 0
              },
              {
                "modificationTime": 0,
                "name": "trip-type-lookup/",
                "path": "gs://nyctaxi-silver/nyctaxi/reference/trip-type-lookup/",
                "size": 0
              },
              {
                "modificationTime": 0,
                "name": "trip-month-lookup/",
                "path": "gs://nyctaxi-silver/nyctaxi/reference/trip-month-lookup/",
                "size": 0
              },
              {
                "modificationTime": 0,
                "name": "payment-type-lookup/",
                "path": "gs://nyctaxi-silver/nyctaxi/reference/payment-type-lookup/",
                "size": 0
              }
            ],
            "text/html": [
              "<div style=\"height:300px;overflow:auto;resize:both;\"><table style=\"width:100%\" class=\"searchable sortable\"><thead><tr><th>path</th><th>name</th><th>size</th><th>modificationTime</th></tr></thead><tbody><tr><td>gs://nyctaxi-silver/nyctaxi/reference/vendor-lookup/</td><td>vendor-lookup/</td><td>0</td><td>0</td></tr><tr><td>gs://nyctaxi-silver/nyctaxi/reference/rate-code-lookup/</td><td>rate-code-lookup/</td><td>0</td><td>0</td></tr><tr><td>gs://nyctaxi-silver/nyctaxi/reference/taxi-zone-lookup/</td><td>taxi-zone-lookup/</td><td>0</td><td>0</td></tr><tr><td>gs://nyctaxi-silver/nyctaxi/reference/trip-type-lookup/</td><td>trip-type-lookup/</td><td>0</td><td>0</td></tr><tr><td>gs://nyctaxi-silver/nyctaxi/reference/trip-month-lookup/</td><td>trip-month-lookup/</td><td>0</td><td>0</td></tr><tr><td>gs://nyctaxi-silver/nyctaxi/reference/payment-type-lookup/</td><td>payment-type-lookup/</td><td>0</td><td>0</td></tr></tbody></table></div>"
            ],
            "text/x-json": [
              "[\n",
              "\t{\n",
              "\t\t\"path\": \"gs://nyctaxi-silver/nyctaxi/reference/vendor-lookup/\",\n",
              "\t\t\"name\": \"vendor-lookup/\",\n",
              "\t\t\"size\": 0,\n",
              "\t\t\"modificationTime\": 0\n",
              "\t},\n",
              "\t{\n",
              "\t\t\"path\": \"gs://nyctaxi-silver/nyctaxi/reference/rate-code-lookup/\",\n",
              "\t\t\"name\": \"rate-code-lookup/\",\n",
              "\t\t\"size\": 0,\n",
              "\t\t\"modificationTime\": 0\n",
              "\t},\n",
              "\t{\n",
              "\t\t\"path\": \"gs://nyctaxi-silver/nyctaxi/reference/taxi-zone-lookup/\",\n",
              "\t\t\"name\": \"taxi-zone-lookup/\",\n",
              "\t\t\"size\": 0,\n",
              "\t\t\"modificationTime\": 0\n",
              "\t},\n",
              "\t{\n",
              "\t\t\"path\": \"gs://nyctaxi-silver/nyctaxi/reference/trip-type-lookup/\",\n",
              "\t\t\"name\": \"trip-type-lookup/\",\n",
              "\t\t\"size\": 0,\n",
              "\t\t\"modificationTime\": 0\n",
              "\t},\n",
              "\t{\n",
              "\t\t\"path\": \"gs://nyctaxi-silver/nyctaxi/reference/trip-month-lookup/\",\n",
              "\t\t\"name\": \"trip-month-lookup/\",\n",
              "\t\t\"size\": 0,\n",
              "\t\t\"modificationTime\": 0\n",
              "\t},\n",
              "\t{\n",
              "\t\t\"path\": \"gs://nyctaxi-silver/nyctaxi/reference/payment-type-lookup/\",\n",
              "\t\t\"name\": \"payment-type-lookup/\",\n",
              "\t\t\"size\": 0,\n",
              "\t\t\"modificationTime\": 0\n",
              "\t}\n",
              "]"
            ]
          },
          "metadata": {},
          "output_type": "display_data"
        }
      ],
      "source": [
        "display(dbutils.fs.ls(destDataDirRoot))"
      ]
    },
    {
      "cell_type": "markdown",
      "metadata": {},
      "source": [
        "### 5. Create Hive tables"
      ]
    },
    {
      "cell_type": "code",
      "execution_count": 15,
      "id": "96282057",
      "metadata": {},
      "outputs": [
        {
          "data": {
            "text/plain": [
              "<Empty result set>"
            ]
          },
          "metadata": {},
          "output_type": "display_data"
        }
      ],
      "source": [
        "%sql\n",
        "CREATE CATALOG synapse_nyc_reference\n",
        "MANAGED LOCATION 'gs://databricks-internal-catalog/nyctaxi';\n"
      ]
    },
    {
      "cell_type": "code",
      "execution_count": 16,
      "id": "a7996303",
      "metadata": {},
      "outputs": [
        {
          "data": {
            "text/plain": [
              "<Empty result set>"
            ]
          },
          "metadata": {},
          "output_type": "display_data"
        }
      ],
      "source": [
        "%sql\n",
        "CREATE SCHEMA synapse_nyc_reference.nyctaxi;"
      ]
    },
    {
      "cell_type": "code",
      "execution_count": 17,
      "id": "1cd30453",
      "metadata": {},
      "outputs": [
        {
          "name": "stdout",
          "output_type": "stream",
          "text": []
        }
      ],
      "source": [
        "# Function to convert Spark schema to SQL DDL format\n",
        "def convert_schema_to_sql_ddl(schema):\n",
        "    \"\"\"\n",
        "    Convert a Spark StructType schema to SQL DDL format.\n",
        "    \n",
        "    Parameters:\n",
        "    - schema: A StructType schema\n",
        "    \n",
        "    Returns:\n",
        "    - A string with SQL DDL column definitions in parentheses\n",
        "    \n",
        "    Example:\n",
        "    StructType([\n",
        "        StructField(\"location_id\", StringType(), True),\n",
        "        StructField(\"borough\", StringType(), True)\n",
        "    ])\n",
        "    \n",
        "    Returns:\n",
        "    (\n",
        "        location_id STRING,\n",
        "        borough STRING\n",
        "    )\n",
        "    \"\"\"\n",
        "    column_definitions = []\n",
        "    for field in schema.fields:\n",
        "        field_type = field.dataType.simpleString()\n",
        "        # Map Spark types to SQL types\n",
        "        if field_type == \"string\":\n",
        "            sql_type = \"STRING\"\n",
        "        elif field_type in (\"integer\", \"int\"):\n",
        "            sql_type = \"INT\"\n",
        "        elif field_type == \"long\":\n",
        "            sql_type = \"BIGINT\"\n",
        "        elif field_type == \"double\":\n",
        "            sql_type = \"DOUBLE\"\n",
        "        elif field_type == \"float\":\n",
        "            sql_type = \"FLOAT\"\n",
        "        elif field_type == \"boolean\":\n",
        "            sql_type = \"BOOLEAN\"\n",
        "        elif field_type == \"timestamp\":\n",
        "            sql_type = \"TIMESTAMP\"\n",
        "        elif field_type == \"date\":\n",
        "            sql_type = \"DATE\"\n",
        "        elif field_type.startswith(\"decimal\"):\n",
        "            sql_type = field_type.upper()\n",
        "        else:\n",
        "            sql_type = \"STRING\"  # Default to STRING for unknown types\n",
        "        \n",
        "        column_definitions.append(f\"        {field.name} {sql_type}\")\n",
        "    \n",
        "    # Format as a parenthesized list\n",
        "    return \"(\\n\" + \",\\n\".join(column_definitions) + \"\\n)\""
      ]
    },
    {
      "cell_type": "code",
      "execution_count": 18,
      "id": "355b69a1",
      "metadata": {},
      "outputs": [
        {
          "name": "stdout",
          "output_type": "stream",
          "text": []
        }
      ],
      "source": [
        "def create_table(schema: str, table_name: str, schema_fields: str, parquet_dir: str, location: str):\n",
        "    sql_ddl = convert_schema_to_sql_ddl(schema_fields)\n",
        "    spark.sql(f\"use {schema};\")\n",
        "    spark.sql(f\"DROP TABLE IF EXISTS {table_name};\")\n",
        "    spark.sql(f\"CREATE TABLE IF NOT EXISTS {table_name} {f\"{sql_ddl}\" if {sql_ddl} else \"\"} USING parquet LOCATION '{location}/{parquet_dir}';\")"
      ]
    },
    {
      "cell_type": "code",
      "execution_count": 19,
      "id": "025d29e5",
      "metadata": {},
      "outputs": [
        {
          "name": "stdout",
          "output_type": "stream",
          "text": []
        }
      ],
      "source": [
        "create_table(schema=\"synapse_nyc_reference.nyctaxi\", table_name=\"taxi_zone_lookup\", schema_fields=taxiZoneSchema, parquet_dir=\"taxi-zone-lookup\", location=destDataDirRoot)\n",
        "create_table(schema=\"synapse_nyc_reference.nyctaxi\", table_name=\"trip_month_lookup\", schema_fields=tripMonthNameSchema, parquet_dir=\"trip-month-lookup\", location=destDataDirRoot)\n",
        "create_table(schema=\"synapse_nyc_reference.nyctaxi\", table_name=\"rate_code_lookup\", schema_fields=rateCodeSchema, parquet_dir=\"rate-code-lookup\", location=destDataDirRoot)\n",
        "create_table(schema=\"synapse_nyc_reference.nyctaxi\", table_name=\"payment_type_lookup\", schema_fields=paymentTypeSchema, parquet_dir=\"payment-type-lookup\", location=destDataDirRoot)\n",
        "create_table(schema=\"synapse_nyc_reference.nyctaxi\", table_name=\"trip_type_lookup\", schema_fields=tripTypeSchema, parquet_dir=\"trip-type-lookup\", location=destDataDirRoot)\n",
        "create_table(schema=\"synapse_nyc_reference.nyctaxi\", table_name=\"vendor_lookup\", schema_fields=vendorSchema, parquet_dir=\"vendor-lookup\", location=destDataDirRoot)\n"
      ]
    },
    {
      "cell_type": "code",
      "execution_count": 20,
      "id": "a92e6a4e",
      "metadata": {},
      "outputs": [
        {
          "data": {
            "application/databricks-table": "{\n\t\"resultType\": \"table\",\n\t\"data\": [\n\t\t[\n\t\t\t\"1\",\n\t\t\t\"EWR\",\n\t\t\t\"Newark Airport\",\n\t\t\t\"EWR\"\n\t\t],\n\t\t[\n\t\t\t\"2\",\n\t\t\t\"Queens\",\n\t\t\t\"Jamaica Bay\",\n\t\t\t\"Boro Zone\"\n\t\t],\n\t\t[\n\t\t\t\"3\",\n\t\t\t\"Bronx\",\n\t\t\t\"Allerton/Pelham Gardens\",\n\t\t\t\"Boro Zone\"\n\t\t],\n\t\t[\n\t\t\t\"4\",\n\t\t\t\"Manhattan\",\n\t\t\t\"Alphabet City\",\n\t\t\t\"Yellow Zone\"\n\t\t],\n\t\t[\n\t\t\t\"5\",\n\t\t\t\"Staten Island\",\n\t\t\t\"Arden Heights\",\n\t\t\t\"Boro Zone\"\n\t\t],\n\t\t[\n\t\t\t\"6\",\n\t\t\t\"Staten Island\",\n\t\t\t\"Arrochar/Fort Wadsworth\",\n\t\t\t\"Boro Zone\"\n\t\t],\n\t\t[\n\t\t\t\"7\",\n\t\t\t\"Queens\",\n\t\t\t\"Astoria\",\n\t\t\t\"Boro Zone\"\n\t\t],\n\t\t[\n\t\t\t\"8\",\n\t\t\t\"Queens\",\n\t\t\t\"Astoria Park\",\n\t\t\t\"Boro Zone\"\n\t\t],\n\t\t[\n\t\t\t\"9\",\n\t\t\t\"Queens\",\n\t\t\t\"Auburndale\",\n\t\t\t\"Boro Zone\"\n\t\t],\n\t\t[\n\t\t\t\"10\",\n\t\t\t\"Queens\",\n\t\t\t\"Baisley Park\",\n\t\t\t\"Boro Zone\"\n\t\t],\n\t\t[\n\t\t\t\"11\",\n\t\t\t\"Brooklyn\",\n\t\t\t\"Bath Beach\",\n\t\t\t\"Boro Zone\"\n\t\t],\n\t\t[\n\t\t\t\"12\",\n\t\t\t\"Manhattan\",\n\t\t\t\"Battery Park\",\n\t\t\t\"Yellow Zone\"\n\t\t],\n\t\t[\n\t\t\t\"13\",\n\t\t\t\"Manhattan\",\n\t\t\t\"Battery Park City\",\n\t\t\t\"Yellow Zone\"\n\t\t],\n\t\t[\n\t\t\t\"14\",\n\t\t\t\"Brooklyn\",\n\t\t\t\"Bay Ridge\",\n\t\t\t\"Boro Zone\"\n\t\t],\n\t\t[\n\t\t\t\"15\",\n\t\t\t\"Queens\",\n\t\t\t\"Bay Terrace/Fort Totten\",\n\t\t\t\"Boro Zone\"\n\t\t],\n\t\t[\n\t\t\t\"16\",\n\t\t\t\"Queens\",\n\t\t\t\"Bayside\",\n\t\t\t\"Boro Zone\"\n\t\t],\n\t\t[\n\t\t\t\"17\",\n\t\t\t\"Brooklyn\",\n\t\t\t\"Bedford\",\n\t\t\t\"Boro Zone\"\n\t\t],\n\t\t[\n\t\t\t\"18\",\n\t\t\t\"Bronx\",\n\t\t\t\"Bedford Park\",\n\t\t\t\"Boro Zone\"\n\t\t],\n\t\t[\n\t\t\t\"19\",\n\t\t\t\"Queens\",\n\t\t\t\"Bellerose\",\n\t\t\t\"Boro Zone\"\n\t\t],\n\t\t[\n\t\t\t\"20\",\n\t\t\t\"Bronx\",\n\t\t\t\"Belmont\",\n\t\t\t\"Boro Zone\"\n\t\t],\n\t\t[\n\t\t\t\"21\",\n\t\t\t\"Brooklyn\",\n\t\t\t\"Bensonhurst East\",\n\t\t\t\"Boro Zone\"\n\t\t],\n\t\t[\n\t\t\t\"22\",\n\t\t\t\"Brooklyn\",\n\t\t\t\"Bensonhurst West\",\n\t\t\t\"Boro Zone\"\n\t\t],\n\t\t[\n\t\t\t\"23\",\n\t\t\t\"Staten Island\",\n\t\t\t\"Bloomfield/Emerson Hill\",\n\t\t\t\"Boro Zone\"\n\t\t],\n\t\t[\n\t\t\t\"24\",\n\t\t\t\"Manhattan\",\n\t\t\t\"Bloomingdale\",\n\t\t\t\"Yellow Zone\"\n\t\t],\n\t\t[\n\t\t\t\"25\",\n\t\t\t\"Brooklyn\",\n\t\t\t\"Boerum Hill\",\n\t\t\t\"Boro Zone\"\n\t\t],\n\t\t[\n\t\t\t\"26\",\n\t\t\t\"Brooklyn\",\n\t\t\t\"Borough Park\",\n\t\t\t\"Boro Zone\"\n\t\t],\n\t\t[\n\t\t\t\"27\",\n\t\t\t\"Queens\",\n\t\t\t\"Breezy Point/Fort Tilden/Riis Beach\",\n\t\t\t\"Boro Zone\"\n\t\t],\n\t\t[\n\t\t\t\"28\",\n\t\t\t\"Queens\",\n\t\t\t\"Briarwood/Jamaica Hills\",\n\t\t\t\"Boro Zone\"\n\t\t],\n\t\t[\n\t\t\t\"29\",\n\t\t\t\"Brooklyn\",\n\t\t\t\"Brighton Beach\",\n\t\t\t\"Boro Zone\"\n\t\t],\n\t\t[\n\t\t\t\"30\",\n\t\t\t\"Queens\",\n\t\t\t\"Broad Channel\",\n\t\t\t\"Boro Zone\"\n\t\t],\n\t\t[\n\t\t\t\"31\",\n\t\t\t\"Bronx\",\n\t\t\t\"Bronx Park\",\n\t\t\t\"Boro Zone\"\n\t\t],\n\t\t[\n\t\t\t\"32\",\n\t\t\t\"Bronx\",\n\t\t\t\"Bronxdale\",\n\t\t\t\"Boro Zone\"\n\t\t],\n\t\t[\n\t\t\t\"33\",\n\t\t\t\"Brooklyn\",\n\t\t\t\"Brooklyn Heights\",\n\t\t\t\"Boro Zone\"\n\t\t],\n\t\t[\n\t\t\t\"34\",\n\t\t\t\"Brooklyn\",\n\t\t\t\"Brooklyn Navy Yard\",\n\t\t\t\"Boro Zone\"\n\t\t],\n\t\t[\n\t\t\t\"35\",\n\t\t\t\"Brooklyn\",\n\t\t\t\"Brownsville\",\n\t\t\t\"Boro Zone\"\n\t\t],\n\t\t[\n\t\t\t\"36\",\n\t\t\t\"Brooklyn\",\n\t\t\t\"Bushwick North\",\n\t\t\t\"Boro Zone\"\n\t\t],\n\t\t[\n\t\t\t\"37\",\n\t\t\t\"Brooklyn\",\n\t\t\t\"Bushwick South\",\n\t\t\t\"Boro Zone\"\n\t\t],\n\t\t[\n\t\t\t\"38\",\n\t\t\t\"Queens\",\n\t\t\t\"Cambria Heights\",\n\t\t\t\"Boro Zone\"\n\t\t],\n\t\t[\n\t\t\t\"39\",\n\t\t\t\"Brooklyn\",\n\t\t\t\"Canarsie\",\n\t\t\t\"Boro Zone\"\n\t\t],\n\t\t[\n\t\t\t\"40\",\n\t\t\t\"Brooklyn\",\n\t\t\t\"Carroll Gardens\",\n\t\t\t\"Boro Zone\"\n\t\t],\n\t\t[\n\t\t\t\"41\",\n\t\t\t\"Manhattan\",\n\t\t\t\"Central Harlem\",\n\t\t\t\"Boro Zone\"\n\t\t],\n\t\t[\n\t\t\t\"42\",\n\t\t\t\"Manhattan\",\n\t\t\t\"Central Harlem North\",\n\t\t\t\"Boro Zone\"\n\t\t],\n\t\t[\n\t\t\t\"43\",\n\t\t\t\"Manhattan\",\n\t\t\t\"Central Park\",\n\t\t\t\"Yellow Zone\"\n\t\t],\n\t\t[\n\t\t\t\"44\",\n\t\t\t\"Staten Island\",\n\t\t\t\"Charleston/Tottenville\",\n\t\t\t\"Boro Zone\"\n\t\t],\n\t\t[\n\t\t\t\"45\",\n\t\t\t\"Manhattan\",\n\t\t\t\"Chinatown\",\n\t\t\t\"Yellow Zone\"\n\t\t],\n\t\t[\n\t\t\t\"46\",\n\t\t\t\"Bronx\",\n\t\t\t\"City Island\",\n\t\t\t\"Boro Zone\"\n\t\t],\n\t\t[\n\t\t\t\"47\",\n\t\t\t\"Bronx\",\n\t\t\t\"Claremont/Bathgate\",\n\t\t\t\"Boro Zone\"\n\t\t],\n\t\t[\n\t\t\t\"48\",\n\t\t\t\"Manhattan\",\n\t\t\t\"Clinton East\",\n\t\t\t\"Yellow Zone\"\n\t\t],\n\t\t[\n\t\t\t\"49\",\n\t\t\t\"Brooklyn\",\n\t\t\t\"Clinton Hill\",\n\t\t\t\"Boro Zone\"\n\t\t],\n\t\t[\n\t\t\t\"50\",\n\t\t\t\"Manhattan\",\n\t\t\t\"Clinton West\",\n\t\t\t\"Yellow Zone\"\n\t\t],\n\t\t[\n\t\t\t\"51\",\n\t\t\t\"Bronx\",\n\t\t\t\"Co-Op City\",\n\t\t\t\"Boro Zone\"\n\t\t],\n\t\t[\n\t\t\t\"52\",\n\t\t\t\"Brooklyn\",\n\t\t\t\"Cobble Hill\",\n\t\t\t\"Boro Zone\"\n\t\t],\n\t\t[\n\t\t\t\"53\",\n\t\t\t\"Queens\",\n\t\t\t\"College Point\",\n\t\t\t\"Boro Zone\"\n\t\t],\n\t\t[\n\t\t\t\"54\",\n\t\t\t\"Brooklyn\",\n\t\t\t\"Columbia Street\",\n\t\t\t\"Boro Zone\"\n\t\t],\n\t\t[\n\t\t\t\"55\",\n\t\t\t\"Brooklyn\",\n\t\t\t\"Coney Island\",\n\t\t\t\"Boro Zone\"\n\t\t],\n\t\t[\n\t\t\t\"56\",\n\t\t\t\"Queens\",\n\t\t\t\"Corona\",\n\t\t\t\"Boro Zone\"\n\t\t],\n\t\t[\n\t\t\t\"57\",\n\t\t\t\"Queens\",\n\t\t\t\"Corona\",\n\t\t\t\"Boro Zone\"\n\t\t],\n\t\t[\n\t\t\t\"58\",\n\t\t\t\"Bronx\",\n\t\t\t\"Country Club\",\n\t\t\t\"Boro Zone\"\n\t\t],\n\t\t[\n\t\t\t\"59\",\n\t\t\t\"Bronx\",\n\t\t\t\"Crotona Park\",\n\t\t\t\"Boro Zone\"\n\t\t],\n\t\t[\n\t\t\t\"60\",\n\t\t\t\"Bronx\",\n\t\t\t\"Crotona Park East\",\n\t\t\t\"Boro Zone\"\n\t\t],\n\t\t[\n\t\t\t\"61\",\n\t\t\t\"Brooklyn\",\n\t\t\t\"Crown Heights North\",\n\t\t\t\"Boro Zone\"\n\t\t],\n\t\t[\n\t\t\t\"62\",\n\t\t\t\"Brooklyn\",\n\t\t\t\"Crown Heights South\",\n\t\t\t\"Boro Zone\"\n\t\t],\n\t\t[\n\t\t\t\"63\",\n\t\t\t\"Brooklyn\",\n\t\t\t\"Cypress Hills\",\n\t\t\t\"Boro Zone\"\n\t\t],\n\t\t[\n\t\t\t\"64\",\n\t\t\t\"Queens\",\n\t\t\t\"Douglaston\",\n\t\t\t\"Boro Zone\"\n\t\t],\n\t\t[\n\t\t\t\"65\",\n\t\t\t\"Brooklyn\",\n\t\t\t\"Downtown Brooklyn/MetroTech\",\n\t\t\t\"Boro Zone\"\n\t\t],\n\t\t[\n\t\t\t\"66\",\n\t\t\t\"Brooklyn\",\n\t\t\t\"DUMBO/Vinegar Hill\",\n\t\t\t\"Boro Zone\"\n\t\t],\n\t\t[\n\t\t\t\"67\",\n\t\t\t\"Brooklyn\",\n\t\t\t\"Dyker Heights\",\n\t\t\t\"Boro Zone\"\n\t\t],\n\t\t[\n\t\t\t\"68\",\n\t\t\t\"Manhattan\",\n\t\t\t\"East Chelsea\",\n\t\t\t\"Yellow Zone\"\n\t\t],\n\t\t[\n\t\t\t\"69\",\n\t\t\t\"Bronx\",\n\t\t\t\"East Concourse/Concourse Village\",\n\t\t\t\"Boro Zone\"\n\t\t],\n\t\t[\n\t\t\t\"70\",\n\t\t\t\"Queens\",\n\t\t\t\"East Elmhurst\",\n\t\t\t\"Boro Zone\"\n\t\t],\n\t\t[\n\t\t\t\"71\",\n\t\t\t\"Brooklyn\",\n\t\t\t\"East Flatbush/Farragut\",\n\t\t\t\"Boro Zone\"\n\t\t],\n\t\t[\n\t\t\t\"72\",\n\t\t\t\"Brooklyn\",\n\t\t\t\"East Flatbush/Remsen Village\",\n\t\t\t\"Boro Zone\"\n\t\t],\n\t\t[\n\t\t\t\"73\",\n\t\t\t\"Queens\",\n\t\t\t\"East Flushing\",\n\t\t\t\"Boro Zone\"\n\t\t],\n\t\t[\n\t\t\t\"74\",\n\t\t\t\"Manhattan\",\n\t\t\t\"East Harlem North\",\n\t\t\t\"Boro Zone\"\n\t\t],\n\t\t[\n\t\t\t\"75\",\n\t\t\t\"Manhattan\",\n\t\t\t\"East Harlem South\",\n\t\t\t\"Boro Zone\"\n\t\t],\n\t\t[\n\t\t\t\"76\",\n\t\t\t\"Brooklyn\",\n\t\t\t\"East New York\",\n\t\t\t\"Boro Zone\"\n\t\t],\n\t\t[\n\t\t\t\"77\",\n\t\t\t\"Brooklyn\",\n\t\t\t\"East New York/Pennsylvania Avenue\",\n\t\t\t\"Boro Zone\"\n\t\t],\n\t\t[\n\t\t\t\"78\",\n\t\t\t\"Bronx\",\n\t\t\t\"East Tremont\",\n\t\t\t\"Boro Zone\"\n\t\t],\n\t\t[\n\t\t\t\"79\",\n\t\t\t\"Manhattan\",\n\t\t\t\"East Village\",\n\t\t\t\"Yellow Zone\"\n\t\t],\n\t\t[\n\t\t\t\"80\",\n\t\t\t\"Brooklyn\",\n\t\t\t\"East Williamsburg\",\n\t\t\t\"Boro Zone\"\n\t\t],\n\t\t[\n\t\t\t\"81\",\n\t\t\t\"Bronx\",\n\t\t\t\"Eastchester\",\n\t\t\t\"Boro Zone\"\n\t\t],\n\t\t[\n\t\t\t\"82\",\n\t\t\t\"Queens\",\n\t\t\t\"Elmhurst\",\n\t\t\t\"Boro Zone\"\n\t\t],\n\t\t[\n\t\t\t\"83\",\n\t\t\t\"Queens\",\n\t\t\t\"Elmhurst/Maspeth\",\n\t\t\t\"Boro Zone\"\n\t\t],\n\t\t[\n\t\t\t\"84\",\n\t\t\t\"Staten Island\",\n\t\t\t\"Eltingville/Annadale/Prince's Bay\",\n\t\t\t\"Boro Zone\"\n\t\t],\n\t\t[\n\t\t\t\"85\",\n\t\t\t\"Brooklyn\",\n\t\t\t\"Erasmus\",\n\t\t\t\"Boro Zone\"\n\t\t],\n\t\t[\n\t\t\t\"86\",\n\t\t\t\"Queens\",\n\t\t\t\"Far Rockaway\",\n\t\t\t\"Boro Zone\"\n\t\t],\n\t\t[\n\t\t\t\"87\",\n\t\t\t\"Manhattan\",\n\t\t\t\"Financial District North\",\n\t\t\t\"Yellow Zone\"\n\t\t],\n\t\t[\n\t\t\t\"88\",\n\t\t\t\"Manhattan\",\n\t\t\t\"Financial District South\",\n\t\t\t\"Yellow Zone\"\n\t\t],\n\t\t[\n\t\t\t\"89\",\n\t\t\t\"Brooklyn\",\n\t\t\t\"Flatbush/Ditmas Park\",\n\t\t\t\"Boro Zone\"\n\t\t],\n\t\t[\n\t\t\t\"90\",\n\t\t\t\"Manhattan\",\n\t\t\t\"Flatiron\",\n\t\t\t\"Yellow Zone\"\n\t\t],\n\t\t[\n\t\t\t\"91\",\n\t\t\t\"Brooklyn\",\n\t\t\t\"Flatlands\",\n\t\t\t\"Boro Zone\"\n\t\t],\n\t\t[\n\t\t\t\"92\",\n\t\t\t\"Queens\",\n\t\t\t\"Flushing\",\n\t\t\t\"Boro Zone\"\n\t\t],\n\t\t[\n\t\t\t\"93\",\n\t\t\t\"Queens\",\n\t\t\t\"Flushing Meadows-Corona Park\",\n\t\t\t\"Boro Zone\"\n\t\t],\n\t\t[\n\t\t\t\"94\",\n\t\t\t\"Bronx\",\n\t\t\t\"Fordham South\",\n\t\t\t\"Boro Zone\"\n\t\t],\n\t\t[\n\t\t\t\"95\",\n\t\t\t\"Queens\",\n\t\t\t\"Forest Hills\",\n\t\t\t\"Boro Zone\"\n\t\t],\n\t\t[\n\t\t\t\"96\",\n\t\t\t\"Queens\",\n\t\t\t\"Forest Park/Highland Park\",\n\t\t\t\"Boro Zone\"\n\t\t],\n\t\t[\n\t\t\t\"97\",\n\t\t\t\"Brooklyn\",\n\t\t\t\"Fort Greene\",\n\t\t\t\"Boro Zone\"\n\t\t],\n\t\t[\n\t\t\t\"98\",\n\t\t\t\"Queens\",\n\t\t\t\"Fresh Meadows\",\n\t\t\t\"Boro Zone\"\n\t\t],\n\t\t[\n\t\t\t\"99\",\n\t\t\t\"Staten Island\",\n\t\t\t\"Freshkills Park\",\n\t\t\t\"Boro Zone\"\n\t\t],\n\t\t[\n\t\t\t\"100\",\n\t\t\t\"Manhattan\",\n\t\t\t\"Garment District\",\n\t\t\t\"Yellow Zone\"\n\t\t],\n\t\t[\n\t\t\t\"101\",\n\t\t\t\"Queens\",\n\t\t\t\"Glen Oaks\",\n\t\t\t\"Boro Zone\"\n\t\t],\n\t\t[\n\t\t\t\"102\",\n\t\t\t\"Queens\",\n\t\t\t\"Glendale\",\n\t\t\t\"Boro Zone\"\n\t\t],\n\t\t[\n\t\t\t\"103\",\n\t\t\t\"Manhattan\",\n\t\t\t\"Governor's Island/Ellis Island/Liberty Island\",\n\t\t\t\"Yellow Zone\"\n\t\t],\n\t\t[\n\t\t\t\"104\",\n\t\t\t\"Manhattan\",\n\t\t\t\"Governor's Island/Ellis Island/Liberty Island\",\n\t\t\t\"Yellow Zone\"\n\t\t],\n\t\t[\n\t\t\t\"105\",\n\t\t\t\"Manhattan\",\n\t\t\t\"Governor's Island/Ellis Island/Liberty Island\",\n\t\t\t\"Yellow Zone\"\n\t\t],\n\t\t[\n\t\t\t\"106\",\n\t\t\t\"Brooklyn\",\n\t\t\t\"Gowanus\",\n\t\t\t\"Boro Zone\"\n\t\t],\n\t\t[\n\t\t\t\"107\",\n\t\t\t\"Manhattan\",\n\t\t\t\"Gramercy\",\n\t\t\t\"Yellow Zone\"\n\t\t],\n\t\t[\n\t\t\t\"108\",\n\t\t\t\"Brooklyn\",\n\t\t\t\"Gravesend\",\n\t\t\t\"Boro Zone\"\n\t\t],\n\t\t[\n\t\t\t\"109\",\n\t\t\t\"Staten Island\",\n\t\t\t\"Great Kills\",\n\t\t\t\"Boro Zone\"\n\t\t],\n\t\t[\n\t\t\t\"110\",\n\t\t\t\"Staten Island\",\n\t\t\t\"Great Kills Park\",\n\t\t\t\"Boro Zone\"\n\t\t],\n\t\t[\n\t\t\t\"111\",\n\t\t\t\"Brooklyn\",\n\t\t\t\"Green-Wood Cemetery\",\n\t\t\t\"Boro Zone\"\n\t\t],\n\t\t[\n\t\t\t\"112\",\n\t\t\t\"Brooklyn\",\n\t\t\t\"Greenpoint\",\n\t\t\t\"Boro Zone\"\n\t\t],\n\t\t[\n\t\t\t\"113\",\n\t\t\t\"Manhattan\",\n\t\t\t\"Greenwich Village North\",\n\t\t\t\"Yellow Zone\"\n\t\t],\n\t\t[\n\t\t\t\"114\",\n\t\t\t\"Manhattan\",\n\t\t\t\"Greenwich Village South\",\n\t\t\t\"Yellow Zone\"\n\t\t],\n\t\t[\n\t\t\t\"115\",\n\t\t\t\"Staten Island\",\n\t\t\t\"Grymes Hill/Clifton\",\n\t\t\t\"Boro Zone\"\n\t\t],\n\t\t[\n\t\t\t\"116\",\n\t\t\t\"Manhattan\",\n\t\t\t\"Hamilton Heights\",\n\t\t\t\"Boro Zone\"\n\t\t],\n\t\t[\n\t\t\t\"117\",\n\t\t\t\"Queens\",\n\t\t\t\"Hammels/Arverne\",\n\t\t\t\"Boro Zone\"\n\t\t],\n\t\t[\n\t\t\t\"118\",\n\t\t\t\"Staten Island\",\n\t\t\t\"Heartland Village/Todt Hill\",\n\t\t\t\"Boro Zone\"\n\t\t],\n\t\t[\n\t\t\t\"119\",\n\t\t\t\"Bronx\",\n\t\t\t\"Highbridge\",\n\t\t\t\"Boro Zone\"\n\t\t],\n\t\t[\n\t\t\t\"120\",\n\t\t\t\"Manhattan\",\n\t\t\t\"Highbridge Park\",\n\t\t\t\"Boro Zone\"\n\t\t],\n\t\t[\n\t\t\t\"121\",\n\t\t\t\"Queens\",\n\t\t\t\"Hillcrest/Pomonok\",\n\t\t\t\"Boro Zone\"\n\t\t],\n\t\t[\n\t\t\t\"122\",\n\t\t\t\"Queens\",\n\t\t\t\"Hollis\",\n\t\t\t\"Boro Zone\"\n\t\t],\n\t\t[\n\t\t\t\"123\",\n\t\t\t\"Brooklyn\",\n\t\t\t\"Homecrest\",\n\t\t\t\"Boro Zone\"\n\t\t],\n\t\t[\n\t\t\t\"124\",\n\t\t\t\"Queens\",\n\t\t\t\"Howard Beach\",\n\t\t\t\"Boro Zone\"\n\t\t],\n\t\t[\n\t\t\t\"125\",\n\t\t\t\"Manhattan\",\n\t\t\t\"Hudson Sq\",\n\t\t\t\"Yellow Zone\"\n\t\t],\n\t\t[\n\t\t\t\"126\",\n\t\t\t\"Bronx\",\n\t\t\t\"Hunts Point\",\n\t\t\t\"Boro Zone\"\n\t\t],\n\t\t[\n\t\t\t\"127\",\n\t\t\t\"Manhattan\",\n\t\t\t\"Inwood\",\n\t\t\t\"Boro Zone\"\n\t\t],\n\t\t[\n\t\t\t\"128\",\n\t\t\t\"Manhattan\",\n\t\t\t\"Inwood Hill Park\",\n\t\t\t\"Boro Zone\"\n\t\t],\n\t\t[\n\t\t\t\"129\",\n\t\t\t\"Queens\",\n\t\t\t\"Jackson Heights\",\n\t\t\t\"Boro Zone\"\n\t\t],\n\t\t[\n\t\t\t\"130\",\n\t\t\t\"Queens\",\n\t\t\t\"Jamaica\",\n\t\t\t\"Boro Zone\"\n\t\t],\n\t\t[\n\t\t\t\"131\",\n\t\t\t\"Queens\",\n\t\t\t\"Jamaica Estates\",\n\t\t\t\"Boro Zone\"\n\t\t],\n\t\t[\n\t\t\t\"132\",\n\t\t\t\"Queens\",\n\t\t\t\"JFK Airport\",\n\t\t\t\"Airports\"\n\t\t],\n\t\t[\n\t\t\t\"133\",\n\t\t\t\"Brooklyn\",\n\t\t\t\"Kensington\",\n\t\t\t\"Boro Zone\"\n\t\t],\n\t\t[\n\t\t\t\"134\",\n\t\t\t\"Queens\",\n\t\t\t\"Kew Gardens\",\n\t\t\t\"Boro Zone\"\n\t\t],\n\t\t[\n\t\t\t\"135\",\n\t\t\t\"Queens\",\n\t\t\t\"Kew Gardens Hills\",\n\t\t\t\"Boro Zone\"\n\t\t],\n\t\t[\n\t\t\t\"136\",\n\t\t\t\"Bronx\",\n\t\t\t\"Kingsbridge Heights\",\n\t\t\t\"Boro Zone\"\n\t\t],\n\t\t[\n\t\t\t\"137\",\n\t\t\t\"Manhattan\",\n\t\t\t\"Kips Bay\",\n\t\t\t\"Yellow Zone\"\n\t\t],\n\t\t[\n\t\t\t\"138\",\n\t\t\t\"Queens\",\n\t\t\t\"LaGuardia Airport\",\n\t\t\t\"Airports\"\n\t\t],\n\t\t[\n\t\t\t\"139\",\n\t\t\t\"Queens\",\n\t\t\t\"Laurelton\",\n\t\t\t\"Boro Zone\"\n\t\t],\n\t\t[\n\t\t\t\"140\",\n\t\t\t\"Manhattan\",\n\t\t\t\"Lenox Hill East\",\n\t\t\t\"Yellow Zone\"\n\t\t],\n\t\t[\n\t\t\t\"141\",\n\t\t\t\"Manhattan\",\n\t\t\t\"Lenox Hill West\",\n\t\t\t\"Yellow Zone\"\n\t\t],\n\t\t[\n\t\t\t\"142\",\n\t\t\t\"Manhattan\",\n\t\t\t\"Lincoln Square East\",\n\t\t\t\"Yellow Zone\"\n\t\t],\n\t\t[\n\t\t\t\"143\",\n\t\t\t\"Manhattan\",\n\t\t\t\"Lincoln Square West\",\n\t\t\t\"Yellow Zone\"\n\t\t],\n\t\t[\n\t\t\t\"144\",\n\t\t\t\"Manhattan\",\n\t\t\t\"Little Italy/NoLiTa\",\n\t\t\t\"Yellow Zone\"\n\t\t],\n\t\t[\n\t\t\t\"145\",\n\t\t\t\"Queens\",\n\t\t\t\"Long Island City/Hunters Point\",\n\t\t\t\"Boro Zone\"\n\t\t],\n\t\t[\n\t\t\t\"146\",\n\t\t\t\"Queens\",\n\t\t\t\"Long Island City/Queens Plaza\",\n\t\t\t\"Boro Zone\"\n\t\t],\n\t\t[\n\t\t\t\"147\",\n\t\t\t\"Bronx\",\n\t\t\t\"Longwood\",\n\t\t\t\"Boro Zone\"\n\t\t],\n\t\t[\n\t\t\t\"148\",\n\t\t\t\"Manhattan\",\n\t\t\t\"Lower East Side\",\n\t\t\t\"Yellow Zone\"\n\t\t],\n\t\t[\n\t\t\t\"149\",\n\t\t\t\"Brooklyn\",\n\t\t\t\"Madison\",\n\t\t\t\"Boro Zone\"\n\t\t],\n\t\t[\n\t\t\t\"150\",\n\t\t\t\"Brooklyn\",\n\t\t\t\"Manhattan Beach\",\n\t\t\t\"Boro Zone\"\n\t\t],\n\t\t[\n\t\t\t\"151\",\n\t\t\t\"Manhattan\",\n\t\t\t\"Manhattan Valley\",\n\t\t\t\"Yellow Zone\"\n\t\t],\n\t\t[\n\t\t\t\"152\",\n\t\t\t\"Manhattan\",\n\t\t\t\"Manhattanville\",\n\t\t\t\"Boro Zone\"\n\t\t],\n\t\t[\n\t\t\t\"153\",\n\t\t\t\"Manhattan\",\n\t\t\t\"Marble Hill\",\n\t\t\t\"Boro Zone\"\n\t\t],\n\t\t[\n\t\t\t\"154\",\n\t\t\t\"Brooklyn\",\n\t\t\t\"Marine Park/Floyd Bennett Field\",\n\t\t\t\"Boro Zone\"\n\t\t],\n\t\t[\n\t\t\t\"155\",\n\t\t\t\"Brooklyn\",\n\t\t\t\"Marine Park/Mill Basin\",\n\t\t\t\"Boro Zone\"\n\t\t],\n\t\t[\n\t\t\t\"156\",\n\t\t\t\"Staten Island\",\n\t\t\t\"Mariners Harbor\",\n\t\t\t\"Boro Zone\"\n\t\t],\n\t\t[\n\t\t\t\"157\",\n\t\t\t\"Queens\",\n\t\t\t\"Maspeth\",\n\t\t\t\"Boro Zone\"\n\t\t],\n\t\t[\n\t\t\t\"158\",\n\t\t\t\"Manhattan\",\n\t\t\t\"Meatpacking/West Village West\",\n\t\t\t\"Yellow Zone\"\n\t\t],\n\t\t[\n\t\t\t\"159\",\n\t\t\t\"Bronx\",\n\t\t\t\"Melrose South\",\n\t\t\t\"Boro Zone\"\n\t\t],\n\t\t[\n\t\t\t\"160\",\n\t\t\t\"Queens\",\n\t\t\t\"Middle Village\",\n\t\t\t\"Boro Zone\"\n\t\t],\n\t\t[\n\t\t\t\"161\",\n\t\t\t\"Manhattan\",\n\t\t\t\"Midtown Center\",\n\t\t\t\"Yellow Zone\"\n\t\t],\n\t\t[\n\t\t\t\"162\",\n\t\t\t\"Manhattan\",\n\t\t\t\"Midtown East\",\n\t\t\t\"Yellow Zone\"\n\t\t],\n\t\t[\n\t\t\t\"163\",\n\t\t\t\"Manhattan\",\n\t\t\t\"Midtown North\",\n\t\t\t\"Yellow Zone\"\n\t\t],\n\t\t[\n\t\t\t\"164\",\n\t\t\t\"Manhattan\",\n\t\t\t\"Midtown South\",\n\t\t\t\"Yellow Zone\"\n\t\t],\n\t\t[\n\t\t\t\"165\",\n\t\t\t\"Brooklyn\",\n\t\t\t\"Midwood\",\n\t\t\t\"Boro Zone\"\n\t\t],\n\t\t[\n\t\t\t\"166\",\n\t\t\t\"Manhattan\",\n\t\t\t\"Morningside Heights\",\n\t\t\t\"Boro Zone\"\n\t\t],\n\t\t[\n\t\t\t\"167\",\n\t\t\t\"Bronx\",\n\t\t\t\"Morrisania/Melrose\",\n\t\t\t\"Boro Zone\"\n\t\t],\n\t\t[\n\t\t\t\"168\",\n\t\t\t\"Bronx\",\n\t\t\t\"Mott Haven/Port Morris\",\n\t\t\t\"Boro Zone\"\n\t\t],\n\t\t[\n\t\t\t\"169\",\n\t\t\t\"Bronx\",\n\t\t\t\"Mount Hope\",\n\t\t\t\"Boro Zone\"\n\t\t],\n\t\t[\n\t\t\t\"170\",\n\t\t\t\"Manhattan\",\n\t\t\t\"Murray Hill\",\n\t\t\t\"Yellow Zone\"\n\t\t],\n\t\t[\n\t\t\t\"171\",\n\t\t\t\"Queens\",\n\t\t\t\"Murray Hill-Queens\",\n\t\t\t\"Boro Zone\"\n\t\t],\n\t\t[\n\t\t\t\"172\",\n\t\t\t\"Staten Island\",\n\t\t\t\"New Dorp/Midland Beach\",\n\t\t\t\"Boro Zone\"\n\t\t],\n\t\t[\n\t\t\t\"173\",\n\t\t\t\"Queens\",\n\t\t\t\"North Corona\",\n\t\t\t\"Boro Zone\"\n\t\t],\n\t\t[\n\t\t\t\"174\",\n\t\t\t\"Bronx\",\n\t\t\t\"Norwood\",\n\t\t\t\"Boro Zone\"\n\t\t],\n\t\t[\n\t\t\t\"175\",\n\t\t\t\"Queens\",\n\t\t\t\"Oakland Gardens\",\n\t\t\t\"Boro Zone\"\n\t\t],\n\t\t[\n\t\t\t\"176\",\n\t\t\t\"Staten Island\",\n\t\t\t\"Oakwood\",\n\t\t\t\"Boro Zone\"\n\t\t],\n\t\t[\n\t\t\t\"177\",\n\t\t\t\"Brooklyn\",\n\t\t\t\"Ocean Hill\",\n\t\t\t\"Boro Zone\"\n\t\t],\n\t\t[\n\t\t\t\"178\",\n\t\t\t\"Brooklyn\",\n\t\t\t\"Ocean Parkway South\",\n\t\t\t\"Boro Zone\"\n\t\t],\n\t\t[\n\t\t\t\"179\",\n\t\t\t\"Queens\",\n\t\t\t\"Old Astoria\",\n\t\t\t\"Boro Zone\"\n\t\t],\n\t\t[\n\t\t\t\"180\",\n\t\t\t\"Queens\",\n\t\t\t\"Ozone Park\",\n\t\t\t\"Boro Zone\"\n\t\t],\n\t\t[\n\t\t\t\"181\",\n\t\t\t\"Brooklyn\",\n\t\t\t\"Park Slope\",\n\t\t\t\"Boro Zone\"\n\t\t],\n\t\t[\n\t\t\t\"182\",\n\t\t\t\"Bronx\",\n\t\t\t\"Parkchester\",\n\t\t\t\"Boro Zone\"\n\t\t],\n\t\t[\n\t\t\t\"183\",\n\t\t\t\"Bronx\",\n\t\t\t\"Pelham Bay\",\n\t\t\t\"Boro Zone\"\n\t\t],\n\t\t[\n\t\t\t\"184\",\n\t\t\t\"Bronx\",\n\t\t\t\"Pelham Bay Park\",\n\t\t\t\"Boro Zone\"\n\t\t],\n\t\t[\n\t\t\t\"185\",\n\t\t\t\"Bronx\",\n\t\t\t\"Pelham Parkway\",\n\t\t\t\"Boro Zone\"\n\t\t],\n\t\t[\n\t\t\t\"186\",\n\t\t\t\"Manhattan\",\n\t\t\t\"Penn Station/Madison Sq West\",\n\t\t\t\"Yellow Zone\"\n\t\t],\n\t\t[\n\t\t\t\"187\",\n\t\t\t\"Staten Island\",\n\t\t\t\"Port Richmond\",\n\t\t\t\"Boro Zone\"\n\t\t],\n\t\t[\n\t\t\t\"188\",\n\t\t\t\"Brooklyn\",\n\t\t\t\"Prospect-Lefferts Gardens\",\n\t\t\t\"Boro Zone\"\n\t\t],\n\t\t[\n\t\t\t\"189\",\n\t\t\t\"Brooklyn\",\n\t\t\t\"Prospect Heights\",\n\t\t\t\"Boro Zone\"\n\t\t],\n\t\t[\n\t\t\t\"190\",\n\t\t\t\"Brooklyn\",\n\t\t\t\"Prospect Park\",\n\t\t\t\"Boro Zone\"\n\t\t],\n\t\t[\n\t\t\t\"191\",\n\t\t\t\"Queens\",\n\t\t\t\"Queens Village\",\n\t\t\t\"Boro Zone\"\n\t\t],\n\t\t[\n\t\t\t\"192\",\n\t\t\t\"Queens\",\n\t\t\t\"Queensboro Hill\",\n\t\t\t\"Boro Zone\"\n\t\t],\n\t\t[\n\t\t\t\"193\",\n\t\t\t\"Queens\",\n\t\t\t\"Queensbridge/Ravenswood\",\n\t\t\t\"Boro Zone\"\n\t\t],\n\t\t[\n\t\t\t\"194\",\n\t\t\t\"Manhattan\",\n\t\t\t\"Randalls Island\",\n\t\t\t\"Yellow Zone\"\n\t\t],\n\t\t[\n\t\t\t\"195\",\n\t\t\t\"Brooklyn\",\n\t\t\t\"Red Hook\",\n\t\t\t\"Boro Zone\"\n\t\t],\n\t\t[\n\t\t\t\"196\",\n\t\t\t\"Queens\",\n\t\t\t\"Rego Park\",\n\t\t\t\"Boro Zone\"\n\t\t],\n\t\t[\n\t\t\t\"197\",\n\t\t\t\"Queens\",\n\t\t\t\"Richmond Hill\",\n\t\t\t\"Boro Zone\"\n\t\t],\n\t\t[\n\t\t\t\"198\",\n\t\t\t\"Queens\",\n\t\t\t\"Ridgewood\",\n\t\t\t\"Boro Zone\"\n\t\t],\n\t\t[\n\t\t\t\"199\",\n\t\t\t\"Bronx\",\n\t\t\t\"Rikers Island\",\n\t\t\t\"Boro Zone\"\n\t\t],\n\t\t[\n\t\t\t\"200\",\n\t\t\t\"Bronx\",\n\t\t\t\"Riverdale/North Riverdale/Fieldston\",\n\t\t\t\"Boro Zone\"\n\t\t],\n\t\t[\n\t\t\t\"201\",\n\t\t\t\"Queens\",\n\t\t\t\"Rockaway Park\",\n\t\t\t\"Boro Zone\"\n\t\t],\n\t\t[\n\t\t\t\"202\",\n\t\t\t\"Manhattan\",\n\t\t\t\"Roosevelt Island\",\n\t\t\t\"Boro Zone\"\n\t\t],\n\t\t[\n\t\t\t\"203\",\n\t\t\t\"Queens\",\n\t\t\t\"Rosedale\",\n\t\t\t\"Boro Zone\"\n\t\t],\n\t\t[\n\t\t\t\"204\",\n\t\t\t\"Staten Island\",\n\t\t\t\"Rossville/Woodrow\",\n\t\t\t\"Boro Zone\"\n\t\t],\n\t\t[\n\t\t\t\"205\",\n\t\t\t\"Queens\",\n\t\t\t\"Saint Albans\",\n\t\t\t\"Boro Zone\"\n\t\t],\n\t\t[\n\t\t\t\"206\",\n\t\t\t\"Staten Island\",\n\t\t\t\"Saint George/New Brighton\",\n\t\t\t\"Boro Zone\"\n\t\t],\n\t\t[\n\t\t\t\"207\",\n\t\t\t\"Queens\",\n\t\t\t\"Saint Michaels Cemetery/Woodside\",\n\t\t\t\"Boro Zone\"\n\t\t],\n\t\t[\n\t\t\t\"208\",\n\t\t\t\"Bronx\",\n\t\t\t\"Schuylerville/Edgewater Park\",\n\t\t\t\"Boro Zone\"\n\t\t],\n\t\t[\n\t\t\t\"209\",\n\t\t\t\"Manhattan\",\n\t\t\t\"Seaport\",\n\t\t\t\"Yellow Zone\"\n\t\t],\n\t\t[\n\t\t\t\"210\",\n\t\t\t\"Brooklyn\",\n\t\t\t\"Sheepshead Bay\",\n\t\t\t\"Boro Zone\"\n\t\t],\n\t\t[\n\t\t\t\"211\",\n\t\t\t\"Manhattan\",\n\t\t\t\"SoHo\",\n\t\t\t\"Yellow Zone\"\n\t\t],\n\t\t[\n\t\t\t\"212\",\n\t\t\t\"Bronx\",\n\t\t\t\"Soundview/Bruckner\",\n\t\t\t\"Boro Zone\"\n\t\t],\n\t\t[\n\t\t\t\"213\",\n\t\t\t\"Bronx\",\n\t\t\t\"Soundview/Castle Hill\",\n\t\t\t\"Boro Zone\"\n\t\t],\n\t\t[\n\t\t\t\"214\",\n\t\t\t\"Staten Island\",\n\t\t\t\"South Beach/Dongan Hills\",\n\t\t\t\"Boro Zone\"\n\t\t],\n\t\t[\n\t\t\t\"215\",\n\t\t\t\"Queens\",\n\t\t\t\"South Jamaica\",\n\t\t\t\"Boro Zone\"\n\t\t],\n\t\t[\n\t\t\t\"216\",\n\t\t\t\"Queens\",\n\t\t\t\"South Ozone Park\",\n\t\t\t\"Boro Zone\"\n\t\t],\n\t\t[\n\t\t\t\"217\",\n\t\t\t\"Brooklyn\",\n\t\t\t\"South Williamsburg\",\n\t\t\t\"Boro Zone\"\n\t\t],\n\t\t[\n\t\t\t\"218\",\n\t\t\t\"Queens\",\n\t\t\t\"Springfield Gardens North\",\n\t\t\t\"Boro Zone\"\n\t\t],\n\t\t[\n\t\t\t\"219\",\n\t\t\t\"Queens\",\n\t\t\t\"Springfield Gardens South\",\n\t\t\t\"Boro Zone\"\n\t\t],\n\t\t[\n\t\t\t\"220\",\n\t\t\t\"Bronx\",\n\t\t\t\"Spuyten Duyvil/Kingsbridge\",\n\t\t\t\"Boro Zone\"\n\t\t],\n\t\t[\n\t\t\t\"221\",\n\t\t\t\"Staten Island\",\n\t\t\t\"Stapleton\",\n\t\t\t\"Boro Zone\"\n\t\t],\n\t\t[\n\t\t\t\"222\",\n\t\t\t\"Brooklyn\",\n\t\t\t\"Starrett City\",\n\t\t\t\"Boro Zone\"\n\t\t],\n\t\t[\n\t\t\t\"223\",\n\t\t\t\"Queens\",\n\t\t\t\"Steinway\",\n\t\t\t\"Boro Zone\"\n\t\t],\n\t\t[\n\t\t\t\"224\",\n\t\t\t\"Manhattan\",\n\t\t\t\"Stuy Town/Peter Cooper Village\",\n\t\t\t\"Yellow Zone\"\n\t\t],\n\t\t[\n\t\t\t\"225\",\n\t\t\t\"Brooklyn\",\n\t\t\t\"Stuyvesant Heights\",\n\t\t\t\"Boro Zone\"\n\t\t],\n\t\t[\n\t\t\t\"226\",\n\t\t\t\"Queens\",\n\t\t\t\"Sunnyside\",\n\t\t\t\"Boro Zone\"\n\t\t],\n\t\t[\n\t\t\t\"227\",\n\t\t\t\"Brooklyn\",\n\t\t\t\"Sunset Park East\",\n\t\t\t\"Boro Zone\"\n\t\t],\n\t\t[\n\t\t\t\"228\",\n\t\t\t\"Brooklyn\",\n\t\t\t\"Sunset Park West\",\n\t\t\t\"Boro Zone\"\n\t\t],\n\t\t[\n\t\t\t\"229\",\n\t\t\t\"Manhattan\",\n\t\t\t\"Sutton Place/Turtle Bay North\",\n\t\t\t\"Yellow Zone\"\n\t\t],\n\t\t[\n\t\t\t\"230\",\n\t\t\t\"Manhattan\",\n\t\t\t\"Times Sq/Theatre District\",\n\t\t\t\"Yellow Zone\"\n\t\t],\n\t\t[\n\t\t\t\"231\",\n\t\t\t\"Manhattan\",\n\t\t\t\"TriBeCa/Civic Center\",\n\t\t\t\"Yellow Zone\"\n\t\t],\n\t\t[\n\t\t\t\"232\",\n\t\t\t\"Manhattan\",\n\t\t\t\"Two Bridges/Seward Park\",\n\t\t\t\"Yellow Zone\"\n\t\t],\n\t\t[\n\t\t\t\"233\",\n\t\t\t\"Manhattan\",\n\t\t\t\"UN/Turtle Bay South\",\n\t\t\t\"Yellow Zone\"\n\t\t],\n\t\t[\n\t\t\t\"234\",\n\t\t\t\"Manhattan\",\n\t\t\t\"Union Sq\",\n\t\t\t\"Yellow Zone\"\n\t\t],\n\t\t[\n\t\t\t\"235\",\n\t\t\t\"Bronx\",\n\t\t\t\"University Heights/Morris Heights\",\n\t\t\t\"Boro Zone\"\n\t\t],\n\t\t[\n\t\t\t\"236\",\n\t\t\t\"Manhattan\",\n\t\t\t\"Upper East Side North\",\n\t\t\t\"Yellow Zone\"\n\t\t],\n\t\t[\n\t\t\t\"237\",\n\t\t\t\"Manhattan\",\n\t\t\t\"Upper East Side South\",\n\t\t\t\"Yellow Zone\"\n\t\t],\n\t\t[\n\t\t\t\"238\",\n\t\t\t\"Manhattan\",\n\t\t\t\"Upper West Side North\",\n\t\t\t\"Yellow Zone\"\n\t\t],\n\t\t[\n\t\t\t\"239\",\n\t\t\t\"Manhattan\",\n\t\t\t\"Upper West Side South\",\n\t\t\t\"Yellow Zone\"\n\t\t],\n\t\t[\n\t\t\t\"240\",\n\t\t\t\"Bronx\",\n\t\t\t\"Van Cortlandt Park\",\n\t\t\t\"Boro Zone\"\n\t\t],\n\t\t[\n\t\t\t\"241\",\n\t\t\t\"Bronx\",\n\t\t\t\"Van Cortlandt Village\",\n\t\t\t\"Boro Zone\"\n\t\t],\n\t\t[\n\t\t\t\"242\",\n\t\t\t\"Bronx\",\n\t\t\t\"Van Nest/Morris Park\",\n\t\t\t\"Boro Zone\"\n\t\t],\n\t\t[\n\t\t\t\"243\",\n\t\t\t\"Manhattan\",\n\t\t\t\"Washington Heights North\",\n\t\t\t\"Boro Zone\"\n\t\t],\n\t\t[\n\t\t\t\"244\",\n\t\t\t\"Manhattan\",\n\t\t\t\"Washington Heights South\",\n\t\t\t\"Boro Zone\"\n\t\t],\n\t\t[\n\t\t\t\"245\",\n\t\t\t\"Staten Island\",\n\t\t\t\"West Brighton\",\n\t\t\t\"Boro Zone\"\n\t\t],\n\t\t[\n\t\t\t\"246\",\n\t\t\t\"Manhattan\",\n\t\t\t\"West Chelsea/Hudson Yards\",\n\t\t\t\"Yellow Zone\"\n\t\t],\n\t\t[\n\t\t\t\"247\",\n\t\t\t\"Bronx\",\n\t\t\t\"West Concourse\",\n\t\t\t\"Boro Zone\"\n\t\t],\n\t\t[\n\t\t\t\"248\",\n\t\t\t\"Bronx\",\n\t\t\t\"West Farms/Bronx River\",\n\t\t\t\"Boro Zone\"\n\t\t],\n\t\t[\n\t\t\t\"249\",\n\t\t\t\"Manhattan\",\n\t\t\t\"West Village\",\n\t\t\t\"Yellow Zone\"\n\t\t],\n\t\t[\n\t\t\t\"250\",\n\t\t\t\"Bronx\",\n\t\t\t\"Westchester Village/Unionport\",\n\t\t\t\"Boro Zone\"\n\t\t],\n\t\t[\n\t\t\t\"251\",\n\t\t\t\"Staten Island\",\n\t\t\t\"Westerleigh\",\n\t\t\t\"Boro Zone\"\n\t\t],\n\t\t[\n\t\t\t\"252\",\n\t\t\t\"Queens\",\n\t\t\t\"Whitestone\",\n\t\t\t\"Boro Zone\"\n\t\t],\n\t\t[\n\t\t\t\"253\",\n\t\t\t\"Queens\",\n\t\t\t\"Willets Point\",\n\t\t\t\"Boro Zone\"\n\t\t],\n\t\t[\n\t\t\t\"254\",\n\t\t\t\"Bronx\",\n\t\t\t\"Williamsbridge/Olinville\",\n\t\t\t\"Boro Zone\"\n\t\t],\n\t\t[\n\t\t\t\"255\",\n\t\t\t\"Brooklyn\",\n\t\t\t\"Williamsburg (North Side)\",\n\t\t\t\"Boro Zone\"\n\t\t],\n\t\t[\n\t\t\t\"256\",\n\t\t\t\"Brooklyn\",\n\t\t\t\"Williamsburg (South Side)\",\n\t\t\t\"Boro Zone\"\n\t\t],\n\t\t[\n\t\t\t\"257\",\n\t\t\t\"Brooklyn\",\n\t\t\t\"Windsor Terrace\",\n\t\t\t\"Boro Zone\"\n\t\t],\n\t\t[\n\t\t\t\"258\",\n\t\t\t\"Queens\",\n\t\t\t\"Woodhaven\",\n\t\t\t\"Boro Zone\"\n\t\t],\n\t\t[\n\t\t\t\"259\",\n\t\t\t\"Bronx\",\n\t\t\t\"Woodlawn/Wakefield\",\n\t\t\t\"Boro Zone\"\n\t\t],\n\t\t[\n\t\t\t\"260\",\n\t\t\t\"Queens\",\n\t\t\t\"Woodside\",\n\t\t\t\"Boro Zone\"\n\t\t],\n\t\t[\n\t\t\t\"261\",\n\t\t\t\"Manhattan\",\n\t\t\t\"World Trade Center\",\n\t\t\t\"Yellow Zone\"\n\t\t],\n\t\t[\n\t\t\t\"262\",\n\t\t\t\"Manhattan\",\n\t\t\t\"Yorkville East\",\n\t\t\t\"Yellow Zone\"\n\t\t],\n\t\t[\n\t\t\t\"263\",\n\t\t\t\"Manhattan\",\n\t\t\t\"Yorkville West\",\n\t\t\t\"Yellow Zone\"\n\t\t],\n\t\t[\n\t\t\t\"264\",\n\t\t\t\"Unknown\",\n\t\t\t\"NV\",\n\t\t\t\"N/A\"\n\t\t],\n\t\t[\n\t\t\t\"265\",\n\t\t\t\"Unknown\",\n\t\t\t\"NA\",\n\t\t\t\"N/A\"\n\t\t]\n\t],\n\t\"schema\": [\n\t\t{\n\t\t\t\"name\": \"location_id\",\n\t\t\t\"type\": \"\\\"string\\\"\",\n\t\t\t\"metadata\": \"{}\"\n\t\t},\n\t\t{\n\t\t\t\"name\": \"borough\",\n\t\t\t\"type\": \"\\\"string\\\"\",\n\t\t\t\"metadata\": \"{}\"\n\t\t},\n\t\t{\n\t\t\t\"name\": \"zone\",\n\t\t\t\"type\": \"\\\"string\\\"\",\n\t\t\t\"metadata\": \"{}\"\n\t\t},\n\t\t{\n\t\t\t\"name\": \"service_zone\",\n\t\t\t\"type\": \"\\\"string\\\"\",\n\t\t\t\"metadata\": \"{}\"\n\t\t}\n\t],\n\t\"truncated\": false,\n\t\"isJsonSchema\": true\n}",
            "application/json": [
              {
                "borough": "EWR",
                "location_id": "1",
                "service_zone": "EWR",
                "zone": "Newark Airport"
              },
              {
                "borough": "Queens",
                "location_id": "2",
                "service_zone": "Boro Zone",
                "zone": "Jamaica Bay"
              },
              {
                "borough": "Bronx",
                "location_id": "3",
                "service_zone": "Boro Zone",
                "zone": "Allerton/Pelham Gardens"
              },
              {
                "borough": "Manhattan",
                "location_id": "4",
                "service_zone": "Yellow Zone",
                "zone": "Alphabet City"
              },
              {
                "borough": "Staten Island",
                "location_id": "5",
                "service_zone": "Boro Zone",
                "zone": "Arden Heights"
              },
              {
                "borough": "Staten Island",
                "location_id": "6",
                "service_zone": "Boro Zone",
                "zone": "Arrochar/Fort Wadsworth"
              },
              {
                "borough": "Queens",
                "location_id": "7",
                "service_zone": "Boro Zone",
                "zone": "Astoria"
              },
              {
                "borough": "Queens",
                "location_id": "8",
                "service_zone": "Boro Zone",
                "zone": "Astoria Park"
              },
              {
                "borough": "Queens",
                "location_id": "9",
                "service_zone": "Boro Zone",
                "zone": "Auburndale"
              },
              {
                "borough": "Queens",
                "location_id": "10",
                "service_zone": "Boro Zone",
                "zone": "Baisley Park"
              },
              {
                "borough": "Brooklyn",
                "location_id": "11",
                "service_zone": "Boro Zone",
                "zone": "Bath Beach"
              },
              {
                "borough": "Manhattan",
                "location_id": "12",
                "service_zone": "Yellow Zone",
                "zone": "Battery Park"
              },
              {
                "borough": "Manhattan",
                "location_id": "13",
                "service_zone": "Yellow Zone",
                "zone": "Battery Park City"
              },
              {
                "borough": "Brooklyn",
                "location_id": "14",
                "service_zone": "Boro Zone",
                "zone": "Bay Ridge"
              },
              {
                "borough": "Queens",
                "location_id": "15",
                "service_zone": "Boro Zone",
                "zone": "Bay Terrace/Fort Totten"
              },
              {
                "borough": "Queens",
                "location_id": "16",
                "service_zone": "Boro Zone",
                "zone": "Bayside"
              },
              {
                "borough": "Brooklyn",
                "location_id": "17",
                "service_zone": "Boro Zone",
                "zone": "Bedford"
              },
              {
                "borough": "Bronx",
                "location_id": "18",
                "service_zone": "Boro Zone",
                "zone": "Bedford Park"
              },
              {
                "borough": "Queens",
                "location_id": "19",
                "service_zone": "Boro Zone",
                "zone": "Bellerose"
              },
              {
                "borough": "Bronx",
                "location_id": "20",
                "service_zone": "Boro Zone",
                "zone": "Belmont"
              },
              {
                "borough": "Brooklyn",
                "location_id": "21",
                "service_zone": "Boro Zone",
                "zone": "Bensonhurst East"
              },
              {
                "borough": "Brooklyn",
                "location_id": "22",
                "service_zone": "Boro Zone",
                "zone": "Bensonhurst West"
              },
              {
                "borough": "Staten Island",
                "location_id": "23",
                "service_zone": "Boro Zone",
                "zone": "Bloomfield/Emerson Hill"
              },
              {
                "borough": "Manhattan",
                "location_id": "24",
                "service_zone": "Yellow Zone",
                "zone": "Bloomingdale"
              },
              {
                "borough": "Brooklyn",
                "location_id": "25",
                "service_zone": "Boro Zone",
                "zone": "Boerum Hill"
              },
              {
                "borough": "Brooklyn",
                "location_id": "26",
                "service_zone": "Boro Zone",
                "zone": "Borough Park"
              },
              {
                "borough": "Queens",
                "location_id": "27",
                "service_zone": "Boro Zone",
                "zone": "Breezy Point/Fort Tilden/Riis Beach"
              },
              {
                "borough": "Queens",
                "location_id": "28",
                "service_zone": "Boro Zone",
                "zone": "Briarwood/Jamaica Hills"
              },
              {
                "borough": "Brooklyn",
                "location_id": "29",
                "service_zone": "Boro Zone",
                "zone": "Brighton Beach"
              },
              {
                "borough": "Queens",
                "location_id": "30",
                "service_zone": "Boro Zone",
                "zone": "Broad Channel"
              },
              {
                "borough": "Bronx",
                "location_id": "31",
                "service_zone": "Boro Zone",
                "zone": "Bronx Park"
              },
              {
                "borough": "Bronx",
                "location_id": "32",
                "service_zone": "Boro Zone",
                "zone": "Bronxdale"
              },
              {
                "borough": "Brooklyn",
                "location_id": "33",
                "service_zone": "Boro Zone",
                "zone": "Brooklyn Heights"
              },
              {
                "borough": "Brooklyn",
                "location_id": "34",
                "service_zone": "Boro Zone",
                "zone": "Brooklyn Navy Yard"
              },
              {
                "borough": "Brooklyn",
                "location_id": "35",
                "service_zone": "Boro Zone",
                "zone": "Brownsville"
              },
              {
                "borough": "Brooklyn",
                "location_id": "36",
                "service_zone": "Boro Zone",
                "zone": "Bushwick North"
              },
              {
                "borough": "Brooklyn",
                "location_id": "37",
                "service_zone": "Boro Zone",
                "zone": "Bushwick South"
              },
              {
                "borough": "Queens",
                "location_id": "38",
                "service_zone": "Boro Zone",
                "zone": "Cambria Heights"
              },
              {
                "borough": "Brooklyn",
                "location_id": "39",
                "service_zone": "Boro Zone",
                "zone": "Canarsie"
              },
              {
                "borough": "Brooklyn",
                "location_id": "40",
                "service_zone": "Boro Zone",
                "zone": "Carroll Gardens"
              },
              {
                "borough": "Manhattan",
                "location_id": "41",
                "service_zone": "Boro Zone",
                "zone": "Central Harlem"
              },
              {
                "borough": "Manhattan",
                "location_id": "42",
                "service_zone": "Boro Zone",
                "zone": "Central Harlem North"
              },
              {
                "borough": "Manhattan",
                "location_id": "43",
                "service_zone": "Yellow Zone",
                "zone": "Central Park"
              },
              {
                "borough": "Staten Island",
                "location_id": "44",
                "service_zone": "Boro Zone",
                "zone": "Charleston/Tottenville"
              },
              {
                "borough": "Manhattan",
                "location_id": "45",
                "service_zone": "Yellow Zone",
                "zone": "Chinatown"
              },
              {
                "borough": "Bronx",
                "location_id": "46",
                "service_zone": "Boro Zone",
                "zone": "City Island"
              },
              {
                "borough": "Bronx",
                "location_id": "47",
                "service_zone": "Boro Zone",
                "zone": "Claremont/Bathgate"
              },
              {
                "borough": "Manhattan",
                "location_id": "48",
                "service_zone": "Yellow Zone",
                "zone": "Clinton East"
              },
              {
                "borough": "Brooklyn",
                "location_id": "49",
                "service_zone": "Boro Zone",
                "zone": "Clinton Hill"
              },
              {
                "borough": "Manhattan",
                "location_id": "50",
                "service_zone": "Yellow Zone",
                "zone": "Clinton West"
              },
              {
                "borough": "Bronx",
                "location_id": "51",
                "service_zone": "Boro Zone",
                "zone": "Co-Op City"
              },
              {
                "borough": "Brooklyn",
                "location_id": "52",
                "service_zone": "Boro Zone",
                "zone": "Cobble Hill"
              },
              {
                "borough": "Queens",
                "location_id": "53",
                "service_zone": "Boro Zone",
                "zone": "College Point"
              },
              {
                "borough": "Brooklyn",
                "location_id": "54",
                "service_zone": "Boro Zone",
                "zone": "Columbia Street"
              },
              {
                "borough": "Brooklyn",
                "location_id": "55",
                "service_zone": "Boro Zone",
                "zone": "Coney Island"
              },
              {
                "borough": "Queens",
                "location_id": "56",
                "service_zone": "Boro Zone",
                "zone": "Corona"
              },
              {
                "borough": "Queens",
                "location_id": "57",
                "service_zone": "Boro Zone",
                "zone": "Corona"
              },
              {
                "borough": "Bronx",
                "location_id": "58",
                "service_zone": "Boro Zone",
                "zone": "Country Club"
              },
              {
                "borough": "Bronx",
                "location_id": "59",
                "service_zone": "Boro Zone",
                "zone": "Crotona Park"
              },
              {
                "borough": "Bronx",
                "location_id": "60",
                "service_zone": "Boro Zone",
                "zone": "Crotona Park East"
              },
              {
                "borough": "Brooklyn",
                "location_id": "61",
                "service_zone": "Boro Zone",
                "zone": "Crown Heights North"
              },
              {
                "borough": "Brooklyn",
                "location_id": "62",
                "service_zone": "Boro Zone",
                "zone": "Crown Heights South"
              },
              {
                "borough": "Brooklyn",
                "location_id": "63",
                "service_zone": "Boro Zone",
                "zone": "Cypress Hills"
              },
              {
                "borough": "Queens",
                "location_id": "64",
                "service_zone": "Boro Zone",
                "zone": "Douglaston"
              },
              {
                "borough": "Brooklyn",
                "location_id": "65",
                "service_zone": "Boro Zone",
                "zone": "Downtown Brooklyn/MetroTech"
              },
              {
                "borough": "Brooklyn",
                "location_id": "66",
                "service_zone": "Boro Zone",
                "zone": "DUMBO/Vinegar Hill"
              },
              {
                "borough": "Brooklyn",
                "location_id": "67",
                "service_zone": "Boro Zone",
                "zone": "Dyker Heights"
              },
              {
                "borough": "Manhattan",
                "location_id": "68",
                "service_zone": "Yellow Zone",
                "zone": "East Chelsea"
              },
              {
                "borough": "Bronx",
                "location_id": "69",
                "service_zone": "Boro Zone",
                "zone": "East Concourse/Concourse Village"
              },
              {
                "borough": "Queens",
                "location_id": "70",
                "service_zone": "Boro Zone",
                "zone": "East Elmhurst"
              },
              {
                "borough": "Brooklyn",
                "location_id": "71",
                "service_zone": "Boro Zone",
                "zone": "East Flatbush/Farragut"
              },
              {
                "borough": "Brooklyn",
                "location_id": "72",
                "service_zone": "Boro Zone",
                "zone": "East Flatbush/Remsen Village"
              },
              {
                "borough": "Queens",
                "location_id": "73",
                "service_zone": "Boro Zone",
                "zone": "East Flushing"
              },
              {
                "borough": "Manhattan",
                "location_id": "74",
                "service_zone": "Boro Zone",
                "zone": "East Harlem North"
              },
              {
                "borough": "Manhattan",
                "location_id": "75",
                "service_zone": "Boro Zone",
                "zone": "East Harlem South"
              },
              {
                "borough": "Brooklyn",
                "location_id": "76",
                "service_zone": "Boro Zone",
                "zone": "East New York"
              },
              {
                "borough": "Brooklyn",
                "location_id": "77",
                "service_zone": "Boro Zone",
                "zone": "East New York/Pennsylvania Avenue"
              },
              {
                "borough": "Bronx",
                "location_id": "78",
                "service_zone": "Boro Zone",
                "zone": "East Tremont"
              },
              {
                "borough": "Manhattan",
                "location_id": "79",
                "service_zone": "Yellow Zone",
                "zone": "East Village"
              },
              {
                "borough": "Brooklyn",
                "location_id": "80",
                "service_zone": "Boro Zone",
                "zone": "East Williamsburg"
              },
              {
                "borough": "Bronx",
                "location_id": "81",
                "service_zone": "Boro Zone",
                "zone": "Eastchester"
              },
              {
                "borough": "Queens",
                "location_id": "82",
                "service_zone": "Boro Zone",
                "zone": "Elmhurst"
              },
              {
                "borough": "Queens",
                "location_id": "83",
                "service_zone": "Boro Zone",
                "zone": "Elmhurst/Maspeth"
              },
              {
                "borough": "Staten Island",
                "location_id": "84",
                "service_zone": "Boro Zone",
                "zone": "Eltingville/Annadale/Prince's Bay"
              },
              {
                "borough": "Brooklyn",
                "location_id": "85",
                "service_zone": "Boro Zone",
                "zone": "Erasmus"
              },
              {
                "borough": "Queens",
                "location_id": "86",
                "service_zone": "Boro Zone",
                "zone": "Far Rockaway"
              },
              {
                "borough": "Manhattan",
                "location_id": "87",
                "service_zone": "Yellow Zone",
                "zone": "Financial District North"
              },
              {
                "borough": "Manhattan",
                "location_id": "88",
                "service_zone": "Yellow Zone",
                "zone": "Financial District South"
              },
              {
                "borough": "Brooklyn",
                "location_id": "89",
                "service_zone": "Boro Zone",
                "zone": "Flatbush/Ditmas Park"
              },
              {
                "borough": "Manhattan",
                "location_id": "90",
                "service_zone": "Yellow Zone",
                "zone": "Flatiron"
              },
              {
                "borough": "Brooklyn",
                "location_id": "91",
                "service_zone": "Boro Zone",
                "zone": "Flatlands"
              },
              {
                "borough": "Queens",
                "location_id": "92",
                "service_zone": "Boro Zone",
                "zone": "Flushing"
              },
              {
                "borough": "Queens",
                "location_id": "93",
                "service_zone": "Boro Zone",
                "zone": "Flushing Meadows-Corona Park"
              },
              {
                "borough": "Bronx",
                "location_id": "94",
                "service_zone": "Boro Zone",
                "zone": "Fordham South"
              },
              {
                "borough": "Queens",
                "location_id": "95",
                "service_zone": "Boro Zone",
                "zone": "Forest Hills"
              },
              {
                "borough": "Queens",
                "location_id": "96",
                "service_zone": "Boro Zone",
                "zone": "Forest Park/Highland Park"
              },
              {
                "borough": "Brooklyn",
                "location_id": "97",
                "service_zone": "Boro Zone",
                "zone": "Fort Greene"
              },
              {
                "borough": "Queens",
                "location_id": "98",
                "service_zone": "Boro Zone",
                "zone": "Fresh Meadows"
              },
              {
                "borough": "Staten Island",
                "location_id": "99",
                "service_zone": "Boro Zone",
                "zone": "Freshkills Park"
              },
              {
                "borough": "Manhattan",
                "location_id": "100",
                "service_zone": "Yellow Zone",
                "zone": "Garment District"
              },
              {
                "borough": "Queens",
                "location_id": "101",
                "service_zone": "Boro Zone",
                "zone": "Glen Oaks"
              },
              {
                "borough": "Queens",
                "location_id": "102",
                "service_zone": "Boro Zone",
                "zone": "Glendale"
              },
              {
                "borough": "Manhattan",
                "location_id": "103",
                "service_zone": "Yellow Zone",
                "zone": "Governor's Island/Ellis Island/Liberty Island"
              },
              {
                "borough": "Manhattan",
                "location_id": "104",
                "service_zone": "Yellow Zone",
                "zone": "Governor's Island/Ellis Island/Liberty Island"
              },
              {
                "borough": "Manhattan",
                "location_id": "105",
                "service_zone": "Yellow Zone",
                "zone": "Governor's Island/Ellis Island/Liberty Island"
              },
              {
                "borough": "Brooklyn",
                "location_id": "106",
                "service_zone": "Boro Zone",
                "zone": "Gowanus"
              },
              {
                "borough": "Manhattan",
                "location_id": "107",
                "service_zone": "Yellow Zone",
                "zone": "Gramercy"
              },
              {
                "borough": "Brooklyn",
                "location_id": "108",
                "service_zone": "Boro Zone",
                "zone": "Gravesend"
              },
              {
                "borough": "Staten Island",
                "location_id": "109",
                "service_zone": "Boro Zone",
                "zone": "Great Kills"
              },
              {
                "borough": "Staten Island",
                "location_id": "110",
                "service_zone": "Boro Zone",
                "zone": "Great Kills Park"
              },
              {
                "borough": "Brooklyn",
                "location_id": "111",
                "service_zone": "Boro Zone",
                "zone": "Green-Wood Cemetery"
              },
              {
                "borough": "Brooklyn",
                "location_id": "112",
                "service_zone": "Boro Zone",
                "zone": "Greenpoint"
              },
              {
                "borough": "Manhattan",
                "location_id": "113",
                "service_zone": "Yellow Zone",
                "zone": "Greenwich Village North"
              },
              {
                "borough": "Manhattan",
                "location_id": "114",
                "service_zone": "Yellow Zone",
                "zone": "Greenwich Village South"
              },
              {
                "borough": "Staten Island",
                "location_id": "115",
                "service_zone": "Boro Zone",
                "zone": "Grymes Hill/Clifton"
              },
              {
                "borough": "Manhattan",
                "location_id": "116",
                "service_zone": "Boro Zone",
                "zone": "Hamilton Heights"
              },
              {
                "borough": "Queens",
                "location_id": "117",
                "service_zone": "Boro Zone",
                "zone": "Hammels/Arverne"
              },
              {
                "borough": "Staten Island",
                "location_id": "118",
                "service_zone": "Boro Zone",
                "zone": "Heartland Village/Todt Hill"
              },
              {
                "borough": "Bronx",
                "location_id": "119",
                "service_zone": "Boro Zone",
                "zone": "Highbridge"
              },
              {
                "borough": "Manhattan",
                "location_id": "120",
                "service_zone": "Boro Zone",
                "zone": "Highbridge Park"
              },
              {
                "borough": "Queens",
                "location_id": "121",
                "service_zone": "Boro Zone",
                "zone": "Hillcrest/Pomonok"
              },
              {
                "borough": "Queens",
                "location_id": "122",
                "service_zone": "Boro Zone",
                "zone": "Hollis"
              },
              {
                "borough": "Brooklyn",
                "location_id": "123",
                "service_zone": "Boro Zone",
                "zone": "Homecrest"
              },
              {
                "borough": "Queens",
                "location_id": "124",
                "service_zone": "Boro Zone",
                "zone": "Howard Beach"
              },
              {
                "borough": "Manhattan",
                "location_id": "125",
                "service_zone": "Yellow Zone",
                "zone": "Hudson Sq"
              },
              {
                "borough": "Bronx",
                "location_id": "126",
                "service_zone": "Boro Zone",
                "zone": "Hunts Point"
              },
              {
                "borough": "Manhattan",
                "location_id": "127",
                "service_zone": "Boro Zone",
                "zone": "Inwood"
              },
              {
                "borough": "Manhattan",
                "location_id": "128",
                "service_zone": "Boro Zone",
                "zone": "Inwood Hill Park"
              },
              {
                "borough": "Queens",
                "location_id": "129",
                "service_zone": "Boro Zone",
                "zone": "Jackson Heights"
              },
              {
                "borough": "Queens",
                "location_id": "130",
                "service_zone": "Boro Zone",
                "zone": "Jamaica"
              },
              {
                "borough": "Queens",
                "location_id": "131",
                "service_zone": "Boro Zone",
                "zone": "Jamaica Estates"
              },
              {
                "borough": "Queens",
                "location_id": "132",
                "service_zone": "Airports",
                "zone": "JFK Airport"
              },
              {
                "borough": "Brooklyn",
                "location_id": "133",
                "service_zone": "Boro Zone",
                "zone": "Kensington"
              },
              {
                "borough": "Queens",
                "location_id": "134",
                "service_zone": "Boro Zone",
                "zone": "Kew Gardens"
              },
              {
                "borough": "Queens",
                "location_id": "135",
                "service_zone": "Boro Zone",
                "zone": "Kew Gardens Hills"
              },
              {
                "borough": "Bronx",
                "location_id": "136",
                "service_zone": "Boro Zone",
                "zone": "Kingsbridge Heights"
              },
              {
                "borough": "Manhattan",
                "location_id": "137",
                "service_zone": "Yellow Zone",
                "zone": "Kips Bay"
              },
              {
                "borough": "Queens",
                "location_id": "138",
                "service_zone": "Airports",
                "zone": "LaGuardia Airport"
              },
              {
                "borough": "Queens",
                "location_id": "139",
                "service_zone": "Boro Zone",
                "zone": "Laurelton"
              },
              {
                "borough": "Manhattan",
                "location_id": "140",
                "service_zone": "Yellow Zone",
                "zone": "Lenox Hill East"
              },
              {
                "borough": "Manhattan",
                "location_id": "141",
                "service_zone": "Yellow Zone",
                "zone": "Lenox Hill West"
              },
              {
                "borough": "Manhattan",
                "location_id": "142",
                "service_zone": "Yellow Zone",
                "zone": "Lincoln Square East"
              },
              {
                "borough": "Manhattan",
                "location_id": "143",
                "service_zone": "Yellow Zone",
                "zone": "Lincoln Square West"
              },
              {
                "borough": "Manhattan",
                "location_id": "144",
                "service_zone": "Yellow Zone",
                "zone": "Little Italy/NoLiTa"
              },
              {
                "borough": "Queens",
                "location_id": "145",
                "service_zone": "Boro Zone",
                "zone": "Long Island City/Hunters Point"
              },
              {
                "borough": "Queens",
                "location_id": "146",
                "service_zone": "Boro Zone",
                "zone": "Long Island City/Queens Plaza"
              },
              {
                "borough": "Bronx",
                "location_id": "147",
                "service_zone": "Boro Zone",
                "zone": "Longwood"
              },
              {
                "borough": "Manhattan",
                "location_id": "148",
                "service_zone": "Yellow Zone",
                "zone": "Lower East Side"
              },
              {
                "borough": "Brooklyn",
                "location_id": "149",
                "service_zone": "Boro Zone",
                "zone": "Madison"
              },
              {
                "borough": "Brooklyn",
                "location_id": "150",
                "service_zone": "Boro Zone",
                "zone": "Manhattan Beach"
              },
              {
                "borough": "Manhattan",
                "location_id": "151",
                "service_zone": "Yellow Zone",
                "zone": "Manhattan Valley"
              },
              {
                "borough": "Manhattan",
                "location_id": "152",
                "service_zone": "Boro Zone",
                "zone": "Manhattanville"
              },
              {
                "borough": "Manhattan",
                "location_id": "153",
                "service_zone": "Boro Zone",
                "zone": "Marble Hill"
              },
              {
                "borough": "Brooklyn",
                "location_id": "154",
                "service_zone": "Boro Zone",
                "zone": "Marine Park/Floyd Bennett Field"
              },
              {
                "borough": "Brooklyn",
                "location_id": "155",
                "service_zone": "Boro Zone",
                "zone": "Marine Park/Mill Basin"
              },
              {
                "borough": "Staten Island",
                "location_id": "156",
                "service_zone": "Boro Zone",
                "zone": "Mariners Harbor"
              },
              {
                "borough": "Queens",
                "location_id": "157",
                "service_zone": "Boro Zone",
                "zone": "Maspeth"
              },
              {
                "borough": "Manhattan",
                "location_id": "158",
                "service_zone": "Yellow Zone",
                "zone": "Meatpacking/West Village West"
              },
              {
                "borough": "Bronx",
                "location_id": "159",
                "service_zone": "Boro Zone",
                "zone": "Melrose South"
              },
              {
                "borough": "Queens",
                "location_id": "160",
                "service_zone": "Boro Zone",
                "zone": "Middle Village"
              },
              {
                "borough": "Manhattan",
                "location_id": "161",
                "service_zone": "Yellow Zone",
                "zone": "Midtown Center"
              },
              {
                "borough": "Manhattan",
                "location_id": "162",
                "service_zone": "Yellow Zone",
                "zone": "Midtown East"
              },
              {
                "borough": "Manhattan",
                "location_id": "163",
                "service_zone": "Yellow Zone",
                "zone": "Midtown North"
              },
              {
                "borough": "Manhattan",
                "location_id": "164",
                "service_zone": "Yellow Zone",
                "zone": "Midtown South"
              },
              {
                "borough": "Brooklyn",
                "location_id": "165",
                "service_zone": "Boro Zone",
                "zone": "Midwood"
              },
              {
                "borough": "Manhattan",
                "location_id": "166",
                "service_zone": "Boro Zone",
                "zone": "Morningside Heights"
              },
              {
                "borough": "Bronx",
                "location_id": "167",
                "service_zone": "Boro Zone",
                "zone": "Morrisania/Melrose"
              },
              {
                "borough": "Bronx",
                "location_id": "168",
                "service_zone": "Boro Zone",
                "zone": "Mott Haven/Port Morris"
              },
              {
                "borough": "Bronx",
                "location_id": "169",
                "service_zone": "Boro Zone",
                "zone": "Mount Hope"
              },
              {
                "borough": "Manhattan",
                "location_id": "170",
                "service_zone": "Yellow Zone",
                "zone": "Murray Hill"
              },
              {
                "borough": "Queens",
                "location_id": "171",
                "service_zone": "Boro Zone",
                "zone": "Murray Hill-Queens"
              },
              {
                "borough": "Staten Island",
                "location_id": "172",
                "service_zone": "Boro Zone",
                "zone": "New Dorp/Midland Beach"
              },
              {
                "borough": "Queens",
                "location_id": "173",
                "service_zone": "Boro Zone",
                "zone": "North Corona"
              },
              {
                "borough": "Bronx",
                "location_id": "174",
                "service_zone": "Boro Zone",
                "zone": "Norwood"
              },
              {
                "borough": "Queens",
                "location_id": "175",
                "service_zone": "Boro Zone",
                "zone": "Oakland Gardens"
              },
              {
                "borough": "Staten Island",
                "location_id": "176",
                "service_zone": "Boro Zone",
                "zone": "Oakwood"
              },
              {
                "borough": "Brooklyn",
                "location_id": "177",
                "service_zone": "Boro Zone",
                "zone": "Ocean Hill"
              },
              {
                "borough": "Brooklyn",
                "location_id": "178",
                "service_zone": "Boro Zone",
                "zone": "Ocean Parkway South"
              },
              {
                "borough": "Queens",
                "location_id": "179",
                "service_zone": "Boro Zone",
                "zone": "Old Astoria"
              },
              {
                "borough": "Queens",
                "location_id": "180",
                "service_zone": "Boro Zone",
                "zone": "Ozone Park"
              },
              {
                "borough": "Brooklyn",
                "location_id": "181",
                "service_zone": "Boro Zone",
                "zone": "Park Slope"
              },
              {
                "borough": "Bronx",
                "location_id": "182",
                "service_zone": "Boro Zone",
                "zone": "Parkchester"
              },
              {
                "borough": "Bronx",
                "location_id": "183",
                "service_zone": "Boro Zone",
                "zone": "Pelham Bay"
              },
              {
                "borough": "Bronx",
                "location_id": "184",
                "service_zone": "Boro Zone",
                "zone": "Pelham Bay Park"
              },
              {
                "borough": "Bronx",
                "location_id": "185",
                "service_zone": "Boro Zone",
                "zone": "Pelham Parkway"
              },
              {
                "borough": "Manhattan",
                "location_id": "186",
                "service_zone": "Yellow Zone",
                "zone": "Penn Station/Madison Sq West"
              },
              {
                "borough": "Staten Island",
                "location_id": "187",
                "service_zone": "Boro Zone",
                "zone": "Port Richmond"
              },
              {
                "borough": "Brooklyn",
                "location_id": "188",
                "service_zone": "Boro Zone",
                "zone": "Prospect-Lefferts Gardens"
              },
              {
                "borough": "Brooklyn",
                "location_id": "189",
                "service_zone": "Boro Zone",
                "zone": "Prospect Heights"
              },
              {
                "borough": "Brooklyn",
                "location_id": "190",
                "service_zone": "Boro Zone",
                "zone": "Prospect Park"
              },
              {
                "borough": "Queens",
                "location_id": "191",
                "service_zone": "Boro Zone",
                "zone": "Queens Village"
              },
              {
                "borough": "Queens",
                "location_id": "192",
                "service_zone": "Boro Zone",
                "zone": "Queensboro Hill"
              },
              {
                "borough": "Queens",
                "location_id": "193",
                "service_zone": "Boro Zone",
                "zone": "Queensbridge/Ravenswood"
              },
              {
                "borough": "Manhattan",
                "location_id": "194",
                "service_zone": "Yellow Zone",
                "zone": "Randalls Island"
              },
              {
                "borough": "Brooklyn",
                "location_id": "195",
                "service_zone": "Boro Zone",
                "zone": "Red Hook"
              },
              {
                "borough": "Queens",
                "location_id": "196",
                "service_zone": "Boro Zone",
                "zone": "Rego Park"
              },
              {
                "borough": "Queens",
                "location_id": "197",
                "service_zone": "Boro Zone",
                "zone": "Richmond Hill"
              },
              {
                "borough": "Queens",
                "location_id": "198",
                "service_zone": "Boro Zone",
                "zone": "Ridgewood"
              },
              {
                "borough": "Bronx",
                "location_id": "199",
                "service_zone": "Boro Zone",
                "zone": "Rikers Island"
              },
              {
                "borough": "Bronx",
                "location_id": "200",
                "service_zone": "Boro Zone",
                "zone": "Riverdale/North Riverdale/Fieldston"
              },
              {
                "borough": "Queens",
                "location_id": "201",
                "service_zone": "Boro Zone",
                "zone": "Rockaway Park"
              },
              {
                "borough": "Manhattan",
                "location_id": "202",
                "service_zone": "Boro Zone",
                "zone": "Roosevelt Island"
              },
              {
                "borough": "Queens",
                "location_id": "203",
                "service_zone": "Boro Zone",
                "zone": "Rosedale"
              },
              {
                "borough": "Staten Island",
                "location_id": "204",
                "service_zone": "Boro Zone",
                "zone": "Rossville/Woodrow"
              },
              {
                "borough": "Queens",
                "location_id": "205",
                "service_zone": "Boro Zone",
                "zone": "Saint Albans"
              },
              {
                "borough": "Staten Island",
                "location_id": "206",
                "service_zone": "Boro Zone",
                "zone": "Saint George/New Brighton"
              },
              {
                "borough": "Queens",
                "location_id": "207",
                "service_zone": "Boro Zone",
                "zone": "Saint Michaels Cemetery/Woodside"
              },
              {
                "borough": "Bronx",
                "location_id": "208",
                "service_zone": "Boro Zone",
                "zone": "Schuylerville/Edgewater Park"
              },
              {
                "borough": "Manhattan",
                "location_id": "209",
                "service_zone": "Yellow Zone",
                "zone": "Seaport"
              },
              {
                "borough": "Brooklyn",
                "location_id": "210",
                "service_zone": "Boro Zone",
                "zone": "Sheepshead Bay"
              },
              {
                "borough": "Manhattan",
                "location_id": "211",
                "service_zone": "Yellow Zone",
                "zone": "SoHo"
              },
              {
                "borough": "Bronx",
                "location_id": "212",
                "service_zone": "Boro Zone",
                "zone": "Soundview/Bruckner"
              },
              {
                "borough": "Bronx",
                "location_id": "213",
                "service_zone": "Boro Zone",
                "zone": "Soundview/Castle Hill"
              },
              {
                "borough": "Staten Island",
                "location_id": "214",
                "service_zone": "Boro Zone",
                "zone": "South Beach/Dongan Hills"
              },
              {
                "borough": "Queens",
                "location_id": "215",
                "service_zone": "Boro Zone",
                "zone": "South Jamaica"
              },
              {
                "borough": "Queens",
                "location_id": "216",
                "service_zone": "Boro Zone",
                "zone": "South Ozone Park"
              },
              {
                "borough": "Brooklyn",
                "location_id": "217",
                "service_zone": "Boro Zone",
                "zone": "South Williamsburg"
              },
              {
                "borough": "Queens",
                "location_id": "218",
                "service_zone": "Boro Zone",
                "zone": "Springfield Gardens North"
              },
              {
                "borough": "Queens",
                "location_id": "219",
                "service_zone": "Boro Zone",
                "zone": "Springfield Gardens South"
              },
              {
                "borough": "Bronx",
                "location_id": "220",
                "service_zone": "Boro Zone",
                "zone": "Spuyten Duyvil/Kingsbridge"
              },
              {
                "borough": "Staten Island",
                "location_id": "221",
                "service_zone": "Boro Zone",
                "zone": "Stapleton"
              },
              {
                "borough": "Brooklyn",
                "location_id": "222",
                "service_zone": "Boro Zone",
                "zone": "Starrett City"
              },
              {
                "borough": "Queens",
                "location_id": "223",
                "service_zone": "Boro Zone",
                "zone": "Steinway"
              },
              {
                "borough": "Manhattan",
                "location_id": "224",
                "service_zone": "Yellow Zone",
                "zone": "Stuy Town/Peter Cooper Village"
              },
              {
                "borough": "Brooklyn",
                "location_id": "225",
                "service_zone": "Boro Zone",
                "zone": "Stuyvesant Heights"
              },
              {
                "borough": "Queens",
                "location_id": "226",
                "service_zone": "Boro Zone",
                "zone": "Sunnyside"
              },
              {
                "borough": "Brooklyn",
                "location_id": "227",
                "service_zone": "Boro Zone",
                "zone": "Sunset Park East"
              },
              {
                "borough": "Brooklyn",
                "location_id": "228",
                "service_zone": "Boro Zone",
                "zone": "Sunset Park West"
              },
              {
                "borough": "Manhattan",
                "location_id": "229",
                "service_zone": "Yellow Zone",
                "zone": "Sutton Place/Turtle Bay North"
              },
              {
                "borough": "Manhattan",
                "location_id": "230",
                "service_zone": "Yellow Zone",
                "zone": "Times Sq/Theatre District"
              },
              {
                "borough": "Manhattan",
                "location_id": "231",
                "service_zone": "Yellow Zone",
                "zone": "TriBeCa/Civic Center"
              },
              {
                "borough": "Manhattan",
                "location_id": "232",
                "service_zone": "Yellow Zone",
                "zone": "Two Bridges/Seward Park"
              },
              {
                "borough": "Manhattan",
                "location_id": "233",
                "service_zone": "Yellow Zone",
                "zone": "UN/Turtle Bay South"
              },
              {
                "borough": "Manhattan",
                "location_id": "234",
                "service_zone": "Yellow Zone",
                "zone": "Union Sq"
              },
              {
                "borough": "Bronx",
                "location_id": "235",
                "service_zone": "Boro Zone",
                "zone": "University Heights/Morris Heights"
              },
              {
                "borough": "Manhattan",
                "location_id": "236",
                "service_zone": "Yellow Zone",
                "zone": "Upper East Side North"
              },
              {
                "borough": "Manhattan",
                "location_id": "237",
                "service_zone": "Yellow Zone",
                "zone": "Upper East Side South"
              },
              {
                "borough": "Manhattan",
                "location_id": "238",
                "service_zone": "Yellow Zone",
                "zone": "Upper West Side North"
              },
              {
                "borough": "Manhattan",
                "location_id": "239",
                "service_zone": "Yellow Zone",
                "zone": "Upper West Side South"
              },
              {
                "borough": "Bronx",
                "location_id": "240",
                "service_zone": "Boro Zone",
                "zone": "Van Cortlandt Park"
              },
              {
                "borough": "Bronx",
                "location_id": "241",
                "service_zone": "Boro Zone",
                "zone": "Van Cortlandt Village"
              },
              {
                "borough": "Bronx",
                "location_id": "242",
                "service_zone": "Boro Zone",
                "zone": "Van Nest/Morris Park"
              },
              {
                "borough": "Manhattan",
                "location_id": "243",
                "service_zone": "Boro Zone",
                "zone": "Washington Heights North"
              },
              {
                "borough": "Manhattan",
                "location_id": "244",
                "service_zone": "Boro Zone",
                "zone": "Washington Heights South"
              },
              {
                "borough": "Staten Island",
                "location_id": "245",
                "service_zone": "Boro Zone",
                "zone": "West Brighton"
              },
              {
                "borough": "Manhattan",
                "location_id": "246",
                "service_zone": "Yellow Zone",
                "zone": "West Chelsea/Hudson Yards"
              },
              {
                "borough": "Bronx",
                "location_id": "247",
                "service_zone": "Boro Zone",
                "zone": "West Concourse"
              },
              {
                "borough": "Bronx",
                "location_id": "248",
                "service_zone": "Boro Zone",
                "zone": "West Farms/Bronx River"
              },
              {
                "borough": "Manhattan",
                "location_id": "249",
                "service_zone": "Yellow Zone",
                "zone": "West Village"
              },
              {
                "borough": "Bronx",
                "location_id": "250",
                "service_zone": "Boro Zone",
                "zone": "Westchester Village/Unionport"
              },
              {
                "borough": "Staten Island",
                "location_id": "251",
                "service_zone": "Boro Zone",
                "zone": "Westerleigh"
              },
              {
                "borough": "Queens",
                "location_id": "252",
                "service_zone": "Boro Zone",
                "zone": "Whitestone"
              },
              {
                "borough": "Queens",
                "location_id": "253",
                "service_zone": "Boro Zone",
                "zone": "Willets Point"
              },
              {
                "borough": "Bronx",
                "location_id": "254",
                "service_zone": "Boro Zone",
                "zone": "Williamsbridge/Olinville"
              },
              {
                "borough": "Brooklyn",
                "location_id": "255",
                "service_zone": "Boro Zone",
                "zone": "Williamsburg (North Side)"
              },
              {
                "borough": "Brooklyn",
                "location_id": "256",
                "service_zone": "Boro Zone",
                "zone": "Williamsburg (South Side)"
              },
              {
                "borough": "Brooklyn",
                "location_id": "257",
                "service_zone": "Boro Zone",
                "zone": "Windsor Terrace"
              },
              {
                "borough": "Queens",
                "location_id": "258",
                "service_zone": "Boro Zone",
                "zone": "Woodhaven"
              },
              {
                "borough": "Bronx",
                "location_id": "259",
                "service_zone": "Boro Zone",
                "zone": "Woodlawn/Wakefield"
              },
              {
                "borough": "Queens",
                "location_id": "260",
                "service_zone": "Boro Zone",
                "zone": "Woodside"
              },
              {
                "borough": "Manhattan",
                "location_id": "261",
                "service_zone": "Yellow Zone",
                "zone": "World Trade Center"
              },
              {
                "borough": "Manhattan",
                "location_id": "262",
                "service_zone": "Yellow Zone",
                "zone": "Yorkville East"
              },
              {
                "borough": "Manhattan",
                "location_id": "263",
                "service_zone": "Yellow Zone",
                "zone": "Yorkville West"
              },
              {
                "borough": "Unknown",
                "location_id": "264",
                "service_zone": "N/A",
                "zone": "NV"
              },
              {
                "borough": "Unknown",
                "location_id": "265",
                "service_zone": "N/A",
                "zone": "NA"
              }
            ],
            "text/html": [
              "<div style=\"height:300px;overflow:auto;resize:both;\"><table style=\"width:100%\" class=\"searchable sortable\"><thead><tr><th>location_id</th><th>borough</th><th>zone</th><th>service_zone</th></tr></thead><tbody><tr><td>1</td><td>EWR</td><td>Newark Airport</td><td>EWR</td></tr><tr><td>2</td><td>Queens</td><td>Jamaica Bay</td><td>Boro Zone</td></tr><tr><td>3</td><td>Bronx</td><td>Allerton/Pelham Gardens</td><td>Boro Zone</td></tr><tr><td>4</td><td>Manhattan</td><td>Alphabet City</td><td>Yellow Zone</td></tr><tr><td>5</td><td>Staten Island</td><td>Arden Heights</td><td>Boro Zone</td></tr><tr><td>6</td><td>Staten Island</td><td>Arrochar/Fort Wadsworth</td><td>Boro Zone</td></tr><tr><td>7</td><td>Queens</td><td>Astoria</td><td>Boro Zone</td></tr><tr><td>8</td><td>Queens</td><td>Astoria Park</td><td>Boro Zone</td></tr><tr><td>9</td><td>Queens</td><td>Auburndale</td><td>Boro Zone</td></tr><tr><td>10</td><td>Queens</td><td>Baisley Park</td><td>Boro Zone</td></tr><tr><td>11</td><td>Brooklyn</td><td>Bath Beach</td><td>Boro Zone</td></tr><tr><td>12</td><td>Manhattan</td><td>Battery Park</td><td>Yellow Zone</td></tr><tr><td>13</td><td>Manhattan</td><td>Battery Park City</td><td>Yellow Zone</td></tr><tr><td>14</td><td>Brooklyn</td><td>Bay Ridge</td><td>Boro Zone</td></tr><tr><td>15</td><td>Queens</td><td>Bay Terrace/Fort Totten</td><td>Boro Zone</td></tr><tr><td>16</td><td>Queens</td><td>Bayside</td><td>Boro Zone</td></tr><tr><td>17</td><td>Brooklyn</td><td>Bedford</td><td>Boro Zone</td></tr><tr><td>18</td><td>Bronx</td><td>Bedford Park</td><td>Boro Zone</td></tr><tr><td>19</td><td>Queens</td><td>Bellerose</td><td>Boro Zone</td></tr><tr><td>20</td><td>Bronx</td><td>Belmont</td><td>Boro Zone</td></tr><tr><td>21</td><td>Brooklyn</td><td>Bensonhurst East</td><td>Boro Zone</td></tr><tr><td>22</td><td>Brooklyn</td><td>Bensonhurst West</td><td>Boro Zone</td></tr><tr><td>23</td><td>Staten Island</td><td>Bloomfield/Emerson Hill</td><td>Boro Zone</td></tr><tr><td>24</td><td>Manhattan</td><td>Bloomingdale</td><td>Yellow Zone</td></tr><tr><td>25</td><td>Brooklyn</td><td>Boerum Hill</td><td>Boro Zone</td></tr><tr><td>26</td><td>Brooklyn</td><td>Borough Park</td><td>Boro Zone</td></tr><tr><td>27</td><td>Queens</td><td>Breezy Point/Fort Tilden/Riis Beach</td><td>Boro Zone</td></tr><tr><td>28</td><td>Queens</td><td>Briarwood/Jamaica Hills</td><td>Boro Zone</td></tr><tr><td>29</td><td>Brooklyn</td><td>Brighton Beach</td><td>Boro Zone</td></tr><tr><td>30</td><td>Queens</td><td>Broad Channel</td><td>Boro Zone</td></tr><tr><td>31</td><td>Bronx</td><td>Bronx Park</td><td>Boro Zone</td></tr><tr><td>32</td><td>Bronx</td><td>Bronxdale</td><td>Boro Zone</td></tr><tr><td>33</td><td>Brooklyn</td><td>Brooklyn Heights</td><td>Boro Zone</td></tr><tr><td>34</td><td>Brooklyn</td><td>Brooklyn Navy Yard</td><td>Boro Zone</td></tr><tr><td>35</td><td>Brooklyn</td><td>Brownsville</td><td>Boro Zone</td></tr><tr><td>36</td><td>Brooklyn</td><td>Bushwick North</td><td>Boro Zone</td></tr><tr><td>37</td><td>Brooklyn</td><td>Bushwick South</td><td>Boro Zone</td></tr><tr><td>38</td><td>Queens</td><td>Cambria Heights</td><td>Boro Zone</td></tr><tr><td>39</td><td>Brooklyn</td><td>Canarsie</td><td>Boro Zone</td></tr><tr><td>40</td><td>Brooklyn</td><td>Carroll Gardens</td><td>Boro Zone</td></tr><tr><td>41</td><td>Manhattan</td><td>Central Harlem</td><td>Boro Zone</td></tr><tr><td>42</td><td>Manhattan</td><td>Central Harlem North</td><td>Boro Zone</td></tr><tr><td>43</td><td>Manhattan</td><td>Central Park</td><td>Yellow Zone</td></tr><tr><td>44</td><td>Staten Island</td><td>Charleston/Tottenville</td><td>Boro Zone</td></tr><tr><td>45</td><td>Manhattan</td><td>Chinatown</td><td>Yellow Zone</td></tr><tr><td>46</td><td>Bronx</td><td>City Island</td><td>Boro Zone</td></tr><tr><td>47</td><td>Bronx</td><td>Claremont/Bathgate</td><td>Boro Zone</td></tr><tr><td>48</td><td>Manhattan</td><td>Clinton East</td><td>Yellow Zone</td></tr><tr><td>49</td><td>Brooklyn</td><td>Clinton Hill</td><td>Boro Zone</td></tr><tr><td>50</td><td>Manhattan</td><td>Clinton West</td><td>Yellow Zone</td></tr><tr><td>51</td><td>Bronx</td><td>Co-Op City</td><td>Boro Zone</td></tr><tr><td>52</td><td>Brooklyn</td><td>Cobble Hill</td><td>Boro Zone</td></tr><tr><td>53</td><td>Queens</td><td>College Point</td><td>Boro Zone</td></tr><tr><td>54</td><td>Brooklyn</td><td>Columbia Street</td><td>Boro Zone</td></tr><tr><td>55</td><td>Brooklyn</td><td>Coney Island</td><td>Boro Zone</td></tr><tr><td>56</td><td>Queens</td><td>Corona</td><td>Boro Zone</td></tr><tr><td>57</td><td>Queens</td><td>Corona</td><td>Boro Zone</td></tr><tr><td>58</td><td>Bronx</td><td>Country Club</td><td>Boro Zone</td></tr><tr><td>59</td><td>Bronx</td><td>Crotona Park</td><td>Boro Zone</td></tr><tr><td>60</td><td>Bronx</td><td>Crotona Park East</td><td>Boro Zone</td></tr><tr><td>61</td><td>Brooklyn</td><td>Crown Heights North</td><td>Boro Zone</td></tr><tr><td>62</td><td>Brooklyn</td><td>Crown Heights South</td><td>Boro Zone</td></tr><tr><td>63</td><td>Brooklyn</td><td>Cypress Hills</td><td>Boro Zone</td></tr><tr><td>64</td><td>Queens</td><td>Douglaston</td><td>Boro Zone</td></tr><tr><td>65</td><td>Brooklyn</td><td>Downtown Brooklyn/MetroTech</td><td>Boro Zone</td></tr><tr><td>66</td><td>Brooklyn</td><td>DUMBO/Vinegar Hill</td><td>Boro Zone</td></tr><tr><td>67</td><td>Brooklyn</td><td>Dyker Heights</td><td>Boro Zone</td></tr><tr><td>68</td><td>Manhattan</td><td>East Chelsea</td><td>Yellow Zone</td></tr><tr><td>69</td><td>Bronx</td><td>East Concourse/Concourse Village</td><td>Boro Zone</td></tr><tr><td>70</td><td>Queens</td><td>East Elmhurst</td><td>Boro Zone</td></tr><tr><td>71</td><td>Brooklyn</td><td>East Flatbush/Farragut</td><td>Boro Zone</td></tr><tr><td>72</td><td>Brooklyn</td><td>East Flatbush/Remsen Village</td><td>Boro Zone</td></tr><tr><td>73</td><td>Queens</td><td>East Flushing</td><td>Boro Zone</td></tr><tr><td>74</td><td>Manhattan</td><td>East Harlem North</td><td>Boro Zone</td></tr><tr><td>75</td><td>Manhattan</td><td>East Harlem South</td><td>Boro Zone</td></tr><tr><td>76</td><td>Brooklyn</td><td>East New York</td><td>Boro Zone</td></tr><tr><td>77</td><td>Brooklyn</td><td>East New York/Pennsylvania Avenue</td><td>Boro Zone</td></tr><tr><td>78</td><td>Bronx</td><td>East Tremont</td><td>Boro Zone</td></tr><tr><td>79</td><td>Manhattan</td><td>East Village</td><td>Yellow Zone</td></tr><tr><td>80</td><td>Brooklyn</td><td>East Williamsburg</td><td>Boro Zone</td></tr><tr><td>81</td><td>Bronx</td><td>Eastchester</td><td>Boro Zone</td></tr><tr><td>82</td><td>Queens</td><td>Elmhurst</td><td>Boro Zone</td></tr><tr><td>83</td><td>Queens</td><td>Elmhurst/Maspeth</td><td>Boro Zone</td></tr><tr><td>84</td><td>Staten Island</td><td>Eltingville/Annadale/Prince's Bay</td><td>Boro Zone</td></tr><tr><td>85</td><td>Brooklyn</td><td>Erasmus</td><td>Boro Zone</td></tr><tr><td>86</td><td>Queens</td><td>Far Rockaway</td><td>Boro Zone</td></tr><tr><td>87</td><td>Manhattan</td><td>Financial District North</td><td>Yellow Zone</td></tr><tr><td>88</td><td>Manhattan</td><td>Financial District South</td><td>Yellow Zone</td></tr><tr><td>89</td><td>Brooklyn</td><td>Flatbush/Ditmas Park</td><td>Boro Zone</td></tr><tr><td>90</td><td>Manhattan</td><td>Flatiron</td><td>Yellow Zone</td></tr><tr><td>91</td><td>Brooklyn</td><td>Flatlands</td><td>Boro Zone</td></tr><tr><td>92</td><td>Queens</td><td>Flushing</td><td>Boro Zone</td></tr><tr><td>93</td><td>Queens</td><td>Flushing Meadows-Corona Park</td><td>Boro Zone</td></tr><tr><td>94</td><td>Bronx</td><td>Fordham South</td><td>Boro Zone</td></tr><tr><td>95</td><td>Queens</td><td>Forest Hills</td><td>Boro Zone</td></tr><tr><td>96</td><td>Queens</td><td>Forest Park/Highland Park</td><td>Boro Zone</td></tr><tr><td>97</td><td>Brooklyn</td><td>Fort Greene</td><td>Boro Zone</td></tr><tr><td>98</td><td>Queens</td><td>Fresh Meadows</td><td>Boro Zone</td></tr><tr><td>99</td><td>Staten Island</td><td>Freshkills Park</td><td>Boro Zone</td></tr><tr><td>100</td><td>Manhattan</td><td>Garment District</td><td>Yellow Zone</td></tr><tr><td>101</td><td>Queens</td><td>Glen Oaks</td><td>Boro Zone</td></tr><tr><td>102</td><td>Queens</td><td>Glendale</td><td>Boro Zone</td></tr><tr><td>103</td><td>Manhattan</td><td>Governor's Island/Ellis Island/Liberty Island</td><td>Yellow Zone</td></tr><tr><td>104</td><td>Manhattan</td><td>Governor's Island/Ellis Island/Liberty Island</td><td>Yellow Zone</td></tr><tr><td>105</td><td>Manhattan</td><td>Governor's Island/Ellis Island/Liberty Island</td><td>Yellow Zone</td></tr><tr><td>106</td><td>Brooklyn</td><td>Gowanus</td><td>Boro Zone</td></tr><tr><td>107</td><td>Manhattan</td><td>Gramercy</td><td>Yellow Zone</td></tr><tr><td>108</td><td>Brooklyn</td><td>Gravesend</td><td>Boro Zone</td></tr><tr><td>109</td><td>Staten Island</td><td>Great Kills</td><td>Boro Zone</td></tr><tr><td>110</td><td>Staten Island</td><td>Great Kills Park</td><td>Boro Zone</td></tr><tr><td>111</td><td>Brooklyn</td><td>Green-Wood Cemetery</td><td>Boro Zone</td></tr><tr><td>112</td><td>Brooklyn</td><td>Greenpoint</td><td>Boro Zone</td></tr><tr><td>113</td><td>Manhattan</td><td>Greenwich Village North</td><td>Yellow Zone</td></tr><tr><td>114</td><td>Manhattan</td><td>Greenwich Village South</td><td>Yellow Zone</td></tr><tr><td>115</td><td>Staten Island</td><td>Grymes Hill/Clifton</td><td>Boro Zone</td></tr><tr><td>116</td><td>Manhattan</td><td>Hamilton Heights</td><td>Boro Zone</td></tr><tr><td>117</td><td>Queens</td><td>Hammels/Arverne</td><td>Boro Zone</td></tr><tr><td>118</td><td>Staten Island</td><td>Heartland Village/Todt Hill</td><td>Boro Zone</td></tr><tr><td>119</td><td>Bronx</td><td>Highbridge</td><td>Boro Zone</td></tr><tr><td>120</td><td>Manhattan</td><td>Highbridge Park</td><td>Boro Zone</td></tr><tr><td>121</td><td>Queens</td><td>Hillcrest/Pomonok</td><td>Boro Zone</td></tr><tr><td>122</td><td>Queens</td><td>Hollis</td><td>Boro Zone</td></tr><tr><td>123</td><td>Brooklyn</td><td>Homecrest</td><td>Boro Zone</td></tr><tr><td>124</td><td>Queens</td><td>Howard Beach</td><td>Boro Zone</td></tr><tr><td>125</td><td>Manhattan</td><td>Hudson Sq</td><td>Yellow Zone</td></tr><tr><td>126</td><td>Bronx</td><td>Hunts Point</td><td>Boro Zone</td></tr><tr><td>127</td><td>Manhattan</td><td>Inwood</td><td>Boro Zone</td></tr><tr><td>128</td><td>Manhattan</td><td>Inwood Hill Park</td><td>Boro Zone</td></tr><tr><td>129</td><td>Queens</td><td>Jackson Heights</td><td>Boro Zone</td></tr><tr><td>130</td><td>Queens</td><td>Jamaica</td><td>Boro Zone</td></tr><tr><td>131</td><td>Queens</td><td>Jamaica Estates</td><td>Boro Zone</td></tr><tr><td>132</td><td>Queens</td><td>JFK Airport</td><td>Airports</td></tr><tr><td>133</td><td>Brooklyn</td><td>Kensington</td><td>Boro Zone</td></tr><tr><td>134</td><td>Queens</td><td>Kew Gardens</td><td>Boro Zone</td></tr><tr><td>135</td><td>Queens</td><td>Kew Gardens Hills</td><td>Boro Zone</td></tr><tr><td>136</td><td>Bronx</td><td>Kingsbridge Heights</td><td>Boro Zone</td></tr><tr><td>137</td><td>Manhattan</td><td>Kips Bay</td><td>Yellow Zone</td></tr><tr><td>138</td><td>Queens</td><td>LaGuardia Airport</td><td>Airports</td></tr><tr><td>139</td><td>Queens</td><td>Laurelton</td><td>Boro Zone</td></tr><tr><td>140</td><td>Manhattan</td><td>Lenox Hill East</td><td>Yellow Zone</td></tr><tr><td>141</td><td>Manhattan</td><td>Lenox Hill West</td><td>Yellow Zone</td></tr><tr><td>142</td><td>Manhattan</td><td>Lincoln Square East</td><td>Yellow Zone</td></tr><tr><td>143</td><td>Manhattan</td><td>Lincoln Square West</td><td>Yellow Zone</td></tr><tr><td>144</td><td>Manhattan</td><td>Little Italy/NoLiTa</td><td>Yellow Zone</td></tr><tr><td>145</td><td>Queens</td><td>Long Island City/Hunters Point</td><td>Boro Zone</td></tr><tr><td>146</td><td>Queens</td><td>Long Island City/Queens Plaza</td><td>Boro Zone</td></tr><tr><td>147</td><td>Bronx</td><td>Longwood</td><td>Boro Zone</td></tr><tr><td>148</td><td>Manhattan</td><td>Lower East Side</td><td>Yellow Zone</td></tr><tr><td>149</td><td>Brooklyn</td><td>Madison</td><td>Boro Zone</td></tr><tr><td>150</td><td>Brooklyn</td><td>Manhattan Beach</td><td>Boro Zone</td></tr><tr><td>151</td><td>Manhattan</td><td>Manhattan Valley</td><td>Yellow Zone</td></tr><tr><td>152</td><td>Manhattan</td><td>Manhattanville</td><td>Boro Zone</td></tr><tr><td>153</td><td>Manhattan</td><td>Marble Hill</td><td>Boro Zone</td></tr><tr><td>154</td><td>Brooklyn</td><td>Marine Park/Floyd Bennett Field</td><td>Boro Zone</td></tr><tr><td>155</td><td>Brooklyn</td><td>Marine Park/Mill Basin</td><td>Boro Zone</td></tr><tr><td>156</td><td>Staten Island</td><td>Mariners Harbor</td><td>Boro Zone</td></tr><tr><td>157</td><td>Queens</td><td>Maspeth</td><td>Boro Zone</td></tr><tr><td>158</td><td>Manhattan</td><td>Meatpacking/West Village West</td><td>Yellow Zone</td></tr><tr><td>159</td><td>Bronx</td><td>Melrose South</td><td>Boro Zone</td></tr><tr><td>160</td><td>Queens</td><td>Middle Village</td><td>Boro Zone</td></tr><tr><td>161</td><td>Manhattan</td><td>Midtown Center</td><td>Yellow Zone</td></tr><tr><td>162</td><td>Manhattan</td><td>Midtown East</td><td>Yellow Zone</td></tr><tr><td>163</td><td>Manhattan</td><td>Midtown North</td><td>Yellow Zone</td></tr><tr><td>164</td><td>Manhattan</td><td>Midtown South</td><td>Yellow Zone</td></tr><tr><td>165</td><td>Brooklyn</td><td>Midwood</td><td>Boro Zone</td></tr><tr><td>166</td><td>Manhattan</td><td>Morningside Heights</td><td>Boro Zone</td></tr><tr><td>167</td><td>Bronx</td><td>Morrisania/Melrose</td><td>Boro Zone</td></tr><tr><td>168</td><td>Bronx</td><td>Mott Haven/Port Morris</td><td>Boro Zone</td></tr><tr><td>169</td><td>Bronx</td><td>Mount Hope</td><td>Boro Zone</td></tr><tr><td>170</td><td>Manhattan</td><td>Murray Hill</td><td>Yellow Zone</td></tr><tr><td>171</td><td>Queens</td><td>Murray Hill-Queens</td><td>Boro Zone</td></tr><tr><td>172</td><td>Staten Island</td><td>New Dorp/Midland Beach</td><td>Boro Zone</td></tr><tr><td>173</td><td>Queens</td><td>North Corona</td><td>Boro Zone</td></tr><tr><td>174</td><td>Bronx</td><td>Norwood</td><td>Boro Zone</td></tr><tr><td>175</td><td>Queens</td><td>Oakland Gardens</td><td>Boro Zone</td></tr><tr><td>176</td><td>Staten Island</td><td>Oakwood</td><td>Boro Zone</td></tr><tr><td>177</td><td>Brooklyn</td><td>Ocean Hill</td><td>Boro Zone</td></tr><tr><td>178</td><td>Brooklyn</td><td>Ocean Parkway South</td><td>Boro Zone</td></tr><tr><td>179</td><td>Queens</td><td>Old Astoria</td><td>Boro Zone</td></tr><tr><td>180</td><td>Queens</td><td>Ozone Park</td><td>Boro Zone</td></tr><tr><td>181</td><td>Brooklyn</td><td>Park Slope</td><td>Boro Zone</td></tr><tr><td>182</td><td>Bronx</td><td>Parkchester</td><td>Boro Zone</td></tr><tr><td>183</td><td>Bronx</td><td>Pelham Bay</td><td>Boro Zone</td></tr><tr><td>184</td><td>Bronx</td><td>Pelham Bay Park</td><td>Boro Zone</td></tr><tr><td>185</td><td>Bronx</td><td>Pelham Parkway</td><td>Boro Zone</td></tr><tr><td>186</td><td>Manhattan</td><td>Penn Station/Madison Sq West</td><td>Yellow Zone</td></tr><tr><td>187</td><td>Staten Island</td><td>Port Richmond</td><td>Boro Zone</td></tr><tr><td>188</td><td>Brooklyn</td><td>Prospect-Lefferts Gardens</td><td>Boro Zone</td></tr><tr><td>189</td><td>Brooklyn</td><td>Prospect Heights</td><td>Boro Zone</td></tr><tr><td>190</td><td>Brooklyn</td><td>Prospect Park</td><td>Boro Zone</td></tr><tr><td>191</td><td>Queens</td><td>Queens Village</td><td>Boro Zone</td></tr><tr><td>192</td><td>Queens</td><td>Queensboro Hill</td><td>Boro Zone</td></tr><tr><td>193</td><td>Queens</td><td>Queensbridge/Ravenswood</td><td>Boro Zone</td></tr><tr><td>194</td><td>Manhattan</td><td>Randalls Island</td><td>Yellow Zone</td></tr><tr><td>195</td><td>Brooklyn</td><td>Red Hook</td><td>Boro Zone</td></tr><tr><td>196</td><td>Queens</td><td>Rego Park</td><td>Boro Zone</td></tr><tr><td>197</td><td>Queens</td><td>Richmond Hill</td><td>Boro Zone</td></tr><tr><td>198</td><td>Queens</td><td>Ridgewood</td><td>Boro Zone</td></tr><tr><td>199</td><td>Bronx</td><td>Rikers Island</td><td>Boro Zone</td></tr><tr><td>200</td><td>Bronx</td><td>Riverdale/North Riverdale/Fieldston</td><td>Boro Zone</td></tr><tr><td>201</td><td>Queens</td><td>Rockaway Park</td><td>Boro Zone</td></tr><tr><td>202</td><td>Manhattan</td><td>Roosevelt Island</td><td>Boro Zone</td></tr><tr><td>203</td><td>Queens</td><td>Rosedale</td><td>Boro Zone</td></tr><tr><td>204</td><td>Staten Island</td><td>Rossville/Woodrow</td><td>Boro Zone</td></tr><tr><td>205</td><td>Queens</td><td>Saint Albans</td><td>Boro Zone</td></tr><tr><td>206</td><td>Staten Island</td><td>Saint George/New Brighton</td><td>Boro Zone</td></tr><tr><td>207</td><td>Queens</td><td>Saint Michaels Cemetery/Woodside</td><td>Boro Zone</td></tr><tr><td>208</td><td>Bronx</td><td>Schuylerville/Edgewater Park</td><td>Boro Zone</td></tr><tr><td>209</td><td>Manhattan</td><td>Seaport</td><td>Yellow Zone</td></tr><tr><td>210</td><td>Brooklyn</td><td>Sheepshead Bay</td><td>Boro Zone</td></tr><tr><td>211</td><td>Manhattan</td><td>SoHo</td><td>Yellow Zone</td></tr><tr><td>212</td><td>Bronx</td><td>Soundview/Bruckner</td><td>Boro Zone</td></tr><tr><td>213</td><td>Bronx</td><td>Soundview/Castle Hill</td><td>Boro Zone</td></tr><tr><td>214</td><td>Staten Island</td><td>South Beach/Dongan Hills</td><td>Boro Zone</td></tr><tr><td>215</td><td>Queens</td><td>South Jamaica</td><td>Boro Zone</td></tr><tr><td>216</td><td>Queens</td><td>South Ozone Park</td><td>Boro Zone</td></tr><tr><td>217</td><td>Brooklyn</td><td>South Williamsburg</td><td>Boro Zone</td></tr><tr><td>218</td><td>Queens</td><td>Springfield Gardens North</td><td>Boro Zone</td></tr><tr><td>219</td><td>Queens</td><td>Springfield Gardens South</td><td>Boro Zone</td></tr><tr><td>220</td><td>Bronx</td><td>Spuyten Duyvil/Kingsbridge</td><td>Boro Zone</td></tr><tr><td>221</td><td>Staten Island</td><td>Stapleton</td><td>Boro Zone</td></tr><tr><td>222</td><td>Brooklyn</td><td>Starrett City</td><td>Boro Zone</td></tr><tr><td>223</td><td>Queens</td><td>Steinway</td><td>Boro Zone</td></tr><tr><td>224</td><td>Manhattan</td><td>Stuy Town/Peter Cooper Village</td><td>Yellow Zone</td></tr><tr><td>225</td><td>Brooklyn</td><td>Stuyvesant Heights</td><td>Boro Zone</td></tr><tr><td>226</td><td>Queens</td><td>Sunnyside</td><td>Boro Zone</td></tr><tr><td>227</td><td>Brooklyn</td><td>Sunset Park East</td><td>Boro Zone</td></tr><tr><td>228</td><td>Brooklyn</td><td>Sunset Park West</td><td>Boro Zone</td></tr><tr><td>229</td><td>Manhattan</td><td>Sutton Place/Turtle Bay North</td><td>Yellow Zone</td></tr><tr><td>230</td><td>Manhattan</td><td>Times Sq/Theatre District</td><td>Yellow Zone</td></tr><tr><td>231</td><td>Manhattan</td><td>TriBeCa/Civic Center</td><td>Yellow Zone</td></tr><tr><td>232</td><td>Manhattan</td><td>Two Bridges/Seward Park</td><td>Yellow Zone</td></tr><tr><td>233</td><td>Manhattan</td><td>UN/Turtle Bay South</td><td>Yellow Zone</td></tr><tr><td>234</td><td>Manhattan</td><td>Union Sq</td><td>Yellow Zone</td></tr><tr><td>235</td><td>Bronx</td><td>University Heights/Morris Heights</td><td>Boro Zone</td></tr><tr><td>236</td><td>Manhattan</td><td>Upper East Side North</td><td>Yellow Zone</td></tr><tr><td>237</td><td>Manhattan</td><td>Upper East Side South</td><td>Yellow Zone</td></tr><tr><td>238</td><td>Manhattan</td><td>Upper West Side North</td><td>Yellow Zone</td></tr><tr><td>239</td><td>Manhattan</td><td>Upper West Side South</td><td>Yellow Zone</td></tr><tr><td>240</td><td>Bronx</td><td>Van Cortlandt Park</td><td>Boro Zone</td></tr><tr><td>241</td><td>Bronx</td><td>Van Cortlandt Village</td><td>Boro Zone</td></tr><tr><td>242</td><td>Bronx</td><td>Van Nest/Morris Park</td><td>Boro Zone</td></tr><tr><td>243</td><td>Manhattan</td><td>Washington Heights North</td><td>Boro Zone</td></tr><tr><td>244</td><td>Manhattan</td><td>Washington Heights South</td><td>Boro Zone</td></tr><tr><td>245</td><td>Staten Island</td><td>West Brighton</td><td>Boro Zone</td></tr><tr><td>246</td><td>Manhattan</td><td>West Chelsea/Hudson Yards</td><td>Yellow Zone</td></tr><tr><td>247</td><td>Bronx</td><td>West Concourse</td><td>Boro Zone</td></tr><tr><td>248</td><td>Bronx</td><td>West Farms/Bronx River</td><td>Boro Zone</td></tr><tr><td>249</td><td>Manhattan</td><td>West Village</td><td>Yellow Zone</td></tr><tr><td>250</td><td>Bronx</td><td>Westchester Village/Unionport</td><td>Boro Zone</td></tr><tr><td>251</td><td>Staten Island</td><td>Westerleigh</td><td>Boro Zone</td></tr><tr><td>252</td><td>Queens</td><td>Whitestone</td><td>Boro Zone</td></tr><tr><td>253</td><td>Queens</td><td>Willets Point</td><td>Boro Zone</td></tr><tr><td>254</td><td>Bronx</td><td>Williamsbridge/Olinville</td><td>Boro Zone</td></tr><tr><td>255</td><td>Brooklyn</td><td>Williamsburg (North Side)</td><td>Boro Zone</td></tr><tr><td>256</td><td>Brooklyn</td><td>Williamsburg (South Side)</td><td>Boro Zone</td></tr><tr><td>257</td><td>Brooklyn</td><td>Windsor Terrace</td><td>Boro Zone</td></tr><tr><td>258</td><td>Queens</td><td>Woodhaven</td><td>Boro Zone</td></tr><tr><td>259</td><td>Bronx</td><td>Woodlawn/Wakefield</td><td>Boro Zone</td></tr><tr><td>260</td><td>Queens</td><td>Woodside</td><td>Boro Zone</td></tr><tr><td>261</td><td>Manhattan</td><td>World Trade Center</td><td>Yellow Zone</td></tr><tr><td>262</td><td>Manhattan</td><td>Yorkville East</td><td>Yellow Zone</td></tr><tr><td>263</td><td>Manhattan</td><td>Yorkville West</td><td>Yellow Zone</td></tr><tr><td>264</td><td>Unknown</td><td>NV</td><td>N/A</td></tr><tr><td>265</td><td>Unknown</td><td>NA</td><td>N/A</td></tr></tbody></table></div>"
            ],
            "text/x-json": [
              "[\n",
              "\t{\n",
              "\t\t\"location_id\": \"1\",\n",
              "\t\t\"borough\": \"EWR\",\n",
              "\t\t\"zone\": \"Newark Airport\",\n",
              "\t\t\"service_zone\": \"EWR\"\n",
              "\t},\n",
              "\t{\n",
              "\t\t\"location_id\": \"2\",\n",
              "\t\t\"borough\": \"Queens\",\n",
              "\t\t\"zone\": \"Jamaica Bay\",\n",
              "\t\t\"service_zone\": \"Boro Zone\"\n",
              "\t},\n",
              "\t{\n",
              "\t\t\"location_id\": \"3\",\n",
              "\t\t\"borough\": \"Bronx\",\n",
              "\t\t\"zone\": \"Allerton/Pelham Gardens\",\n",
              "\t\t\"service_zone\": \"Boro Zone\"\n",
              "\t},\n",
              "\t{\n",
              "\t\t\"location_id\": \"4\",\n",
              "\t\t\"borough\": \"Manhattan\",\n",
              "\t\t\"zone\": \"Alphabet City\",\n",
              "\t\t\"service_zone\": \"Yellow Zone\"\n",
              "\t},\n",
              "\t{\n",
              "\t\t\"location_id\": \"5\",\n",
              "\t\t\"borough\": \"Staten Island\",\n",
              "\t\t\"zone\": \"Arden Heights\",\n",
              "\t\t\"service_zone\": \"Boro Zone\"\n",
              "\t},\n",
              "\t{\n",
              "\t\t\"location_id\": \"6\",\n",
              "\t\t\"borough\": \"Staten Island\",\n",
              "\t\t\"zone\": \"Arrochar/Fort Wadsworth\",\n",
              "\t\t\"service_zone\": \"Boro Zone\"\n",
              "\t},\n",
              "\t{\n",
              "\t\t\"location_id\": \"7\",\n",
              "\t\t\"borough\": \"Queens\",\n",
              "\t\t\"zone\": \"Astoria\",\n",
              "\t\t\"service_zone\": \"Boro Zone\"\n",
              "\t},\n",
              "\t{\n",
              "\t\t\"location_id\": \"8\",\n",
              "\t\t\"borough\": \"Queens\",\n",
              "\t\t\"zone\": \"Astoria Park\",\n",
              "\t\t\"service_zone\": \"Boro Zone\"\n",
              "\t},\n",
              "\t{\n",
              "\t\t\"location_id\": \"9\",\n",
              "\t\t\"borough\": \"Queens\",\n",
              "\t\t\"zone\": \"Auburndale\",\n",
              "\t\t\"service_zone\": \"Boro Zone\"\n",
              "\t},\n",
              "\t{\n",
              "\t\t\"location_id\": \"10\",\n",
              "\t\t\"borough\": \"Queens\",\n",
              "\t\t\"zone\": \"Baisley Park\",\n",
              "\t\t\"service_zone\": \"Boro Zone\"\n",
              "\t},\n",
              "\t{\n",
              "\t\t\"location_id\": \"11\",\n",
              "\t\t\"borough\": \"Brooklyn\",\n",
              "\t\t\"zone\": \"Bath Beach\",\n",
              "\t\t\"service_zone\": \"Boro Zone\"\n",
              "\t},\n",
              "\t{\n",
              "\t\t\"location_id\": \"12\",\n",
              "\t\t\"borough\": \"Manhattan\",\n",
              "\t\t\"zone\": \"Battery Park\",\n",
              "\t\t\"service_zone\": \"Yellow Zone\"\n",
              "\t},\n",
              "\t{\n",
              "\t\t\"location_id\": \"13\",\n",
              "\t\t\"borough\": \"Manhattan\",\n",
              "\t\t\"zone\": \"Battery Park City\",\n",
              "\t\t\"service_zone\": \"Yellow Zone\"\n",
              "\t},\n",
              "\t{\n",
              "\t\t\"location_id\": \"14\",\n",
              "\t\t\"borough\": \"Brooklyn\",\n",
              "\t\t\"zone\": \"Bay Ridge\",\n",
              "\t\t\"service_zone\": \"Boro Zone\"\n",
              "\t},\n",
              "\t{\n",
              "\t\t\"location_id\": \"15\",\n",
              "\t\t\"borough\": \"Queens\",\n",
              "\t\t\"zone\": \"Bay Terrace/Fort Totten\",\n",
              "\t\t\"service_zone\": \"Boro Zone\"\n",
              "\t},\n",
              "\t{\n",
              "\t\t\"location_id\": \"16\",\n",
              "\t\t\"borough\": \"Queens\",\n",
              "\t\t\"zone\": \"Bayside\",\n",
              "\t\t\"service_zone\": \"Boro Zone\"\n",
              "\t},\n",
              "\t{\n",
              "\t\t\"location_id\": \"17\",\n",
              "\t\t\"borough\": \"Brooklyn\",\n",
              "\t\t\"zone\": \"Bedford\",\n",
              "\t\t\"service_zone\": \"Boro Zone\"\n",
              "\t},\n",
              "\t{\n",
              "\t\t\"location_id\": \"18\",\n",
              "\t\t\"borough\": \"Bronx\",\n",
              "\t\t\"zone\": \"Bedford Park\",\n",
              "\t\t\"service_zone\": \"Boro Zone\"\n",
              "\t},\n",
              "\t{\n",
              "\t\t\"location_id\": \"19\",\n",
              "\t\t\"borough\": \"Queens\",\n",
              "\t\t\"zone\": \"Bellerose\",\n",
              "\t\t\"service_zone\": \"Boro Zone\"\n",
              "\t},\n",
              "\t{\n",
              "\t\t\"location_id\": \"20\",\n",
              "\t\t\"borough\": \"Bronx\",\n",
              "\t\t\"zone\": \"Belmont\",\n",
              "\t\t\"service_zone\": \"Boro Zone\"\n",
              "\t},\n",
              "\t{\n",
              "\t\t\"location_id\": \"21\",\n",
              "\t\t\"borough\": \"Brooklyn\",\n",
              "\t\t\"zone\": \"Bensonhurst East\",\n",
              "\t\t\"service_zone\": \"Boro Zone\"\n",
              "\t},\n",
              "\t{\n",
              "\t\t\"location_id\": \"22\",\n",
              "\t\t\"borough\": \"Brooklyn\",\n",
              "\t\t\"zone\": \"Bensonhurst West\",\n",
              "\t\t\"service_zone\": \"Boro Zone\"\n",
              "\t},\n",
              "\t{\n",
              "\t\t\"location_id\": \"23\",\n",
              "\t\t\"borough\": \"Staten Island\",\n",
              "\t\t\"zone\": \"Bloomfield/Emerson Hill\",\n",
              "\t\t\"service_zone\": \"Boro Zone\"\n",
              "\t},\n",
              "\t{\n",
              "\t\t\"location_id\": \"24\",\n",
              "\t\t\"borough\": \"Manhattan\",\n",
              "\t\t\"zone\": \"Bloomingdale\",\n",
              "\t\t\"service_zone\": \"Yellow Zone\"\n",
              "\t},\n",
              "\t{\n",
              "\t\t\"location_id\": \"25\",\n",
              "\t\t\"borough\": \"Brooklyn\",\n",
              "\t\t\"zone\": \"Boerum Hill\",\n",
              "\t\t\"service_zone\": \"Boro Zone\"\n",
              "\t},\n",
              "\t{\n",
              "\t\t\"location_id\": \"26\",\n",
              "\t\t\"borough\": \"Brooklyn\",\n",
              "\t\t\"zone\": \"Borough Park\",\n",
              "\t\t\"service_zone\": \"Boro Zone\"\n",
              "\t},\n",
              "\t{\n",
              "\t\t\"location_id\": \"27\",\n",
              "\t\t\"borough\": \"Queens\",\n",
              "\t\t\"zone\": \"Breezy Point/Fort Tilden/Riis Beach\",\n",
              "\t\t\"service_zone\": \"Boro Zone\"\n",
              "\t},\n",
              "\t{\n",
              "\t\t\"location_id\": \"28\",\n",
              "\t\t\"borough\": \"Queens\",\n",
              "\t\t\"zone\": \"Briarwood/Jamaica Hills\",\n",
              "\t\t\"service_zone\": \"Boro Zone\"\n",
              "\t},\n",
              "\t{\n",
              "\t\t\"location_id\": \"29\",\n",
              "\t\t\"borough\": \"Brooklyn\",\n",
              "\t\t\"zone\": \"Brighton Beach\",\n",
              "\t\t\"service_zone\": \"Boro Zone\"\n",
              "\t},\n",
              "\t{\n",
              "\t\t\"location_id\": \"30\",\n",
              "\t\t\"borough\": \"Queens\",\n",
              "\t\t\"zone\": \"Broad Channel\",\n",
              "\t\t\"service_zone\": \"Boro Zone\"\n",
              "\t},\n",
              "\t{\n",
              "\t\t\"location_id\": \"31\",\n",
              "\t\t\"borough\": \"Bronx\",\n",
              "\t\t\"zone\": \"Bronx Park\",\n",
              "\t\t\"service_zone\": \"Boro Zone\"\n",
              "\t},\n",
              "\t{\n",
              "\t\t\"location_id\": \"32\",\n",
              "\t\t\"borough\": \"Bronx\",\n",
              "\t\t\"zone\": \"Bronxdale\",\n",
              "\t\t\"service_zone\": \"Boro Zone\"\n",
              "\t},\n",
              "\t{\n",
              "\t\t\"location_id\": \"33\",\n",
              "\t\t\"borough\": \"Brooklyn\",\n",
              "\t\t\"zone\": \"Brooklyn Heights\",\n",
              "\t\t\"service_zone\": \"Boro Zone\"\n",
              "\t},\n",
              "\t{\n",
              "\t\t\"location_id\": \"34\",\n",
              "\t\t\"borough\": \"Brooklyn\",\n",
              "\t\t\"zone\": \"Brooklyn Navy Yard\",\n",
              "\t\t\"service_zone\": \"Boro Zone\"\n",
              "\t},\n",
              "\t{\n",
              "\t\t\"location_id\": \"35\",\n",
              "\t\t\"borough\": \"Brooklyn\",\n",
              "\t\t\"zone\": \"Brownsville\",\n",
              "\t\t\"service_zone\": \"Boro Zone\"\n",
              "\t},\n",
              "\t{\n",
              "\t\t\"location_id\": \"36\",\n",
              "\t\t\"borough\": \"Brooklyn\",\n",
              "\t\t\"zone\": \"Bushwick North\",\n",
              "\t\t\"service_zone\": \"Boro Zone\"\n",
              "\t},\n",
              "\t{\n",
              "\t\t\"location_id\": \"37\",\n",
              "\t\t\"borough\": \"Brooklyn\",\n",
              "\t\t\"zone\": \"Bushwick South\",\n",
              "\t\t\"service_zone\": \"Boro Zone\"\n",
              "\t},\n",
              "\t{\n",
              "\t\t\"location_id\": \"38\",\n",
              "\t\t\"borough\": \"Queens\",\n",
              "\t\t\"zone\": \"Cambria Heights\",\n",
              "\t\t\"service_zone\": \"Boro Zone\"\n",
              "\t},\n",
              "\t{\n",
              "\t\t\"location_id\": \"39\",\n",
              "\t\t\"borough\": \"Brooklyn\",\n",
              "\t\t\"zone\": \"Canarsie\",\n",
              "\t\t\"service_zone\": \"Boro Zone\"\n",
              "\t},\n",
              "\t{\n",
              "\t\t\"location_id\": \"40\",\n",
              "\t\t\"borough\": \"Brooklyn\",\n",
              "\t\t\"zone\": \"Carroll Gardens\",\n",
              "\t\t\"service_zone\": \"Boro Zone\"\n",
              "\t},\n",
              "\t{\n",
              "\t\t\"location_id\": \"41\",\n",
              "\t\t\"borough\": \"Manhattan\",\n",
              "\t\t\"zone\": \"Central Harlem\",\n",
              "\t\t\"service_zone\": \"Boro Zone\"\n",
              "\t},\n",
              "\t{\n",
              "\t\t\"location_id\": \"42\",\n",
              "\t\t\"borough\": \"Manhattan\",\n",
              "\t\t\"zone\": \"Central Harlem North\",\n",
              "\t\t\"service_zone\": \"Boro Zone\"\n",
              "\t},\n",
              "\t{\n",
              "\t\t\"location_id\": \"43\",\n",
              "\t\t\"borough\": \"Manhattan\",\n",
              "\t\t\"zone\": \"Central Park\",\n",
              "\t\t\"service_zone\": \"Yellow Zone\"\n",
              "\t},\n",
              "\t{\n",
              "\t\t\"location_id\": \"44\",\n",
              "\t\t\"borough\": \"Staten Island\",\n",
              "\t\t\"zone\": \"Charleston/Tottenville\",\n",
              "\t\t\"service_zone\": \"Boro Zone\"\n",
              "\t},\n",
              "\t{\n",
              "\t\t\"location_id\": \"45\",\n",
              "\t\t\"borough\": \"Manhattan\",\n",
              "\t\t\"zone\": \"Chinatown\",\n",
              "\t\t\"service_zone\": \"Yellow Zone\"\n",
              "\t},\n",
              "\t{\n",
              "\t\t\"location_id\": \"46\",\n",
              "\t\t\"borough\": \"Bronx\",\n",
              "\t\t\"zone\": \"City Island\",\n",
              "\t\t\"service_zone\": \"Boro Zone\"\n",
              "\t},\n",
              "\t{\n",
              "\t\t\"location_id\": \"47\",\n",
              "\t\t\"borough\": \"Bronx\",\n",
              "\t\t\"zone\": \"Claremont/Bathgate\",\n",
              "\t\t\"service_zone\": \"Boro Zone\"\n",
              "\t},\n",
              "\t{\n",
              "\t\t\"location_id\": \"48\",\n",
              "\t\t\"borough\": \"Manhattan\",\n",
              "\t\t\"zone\": \"Clinton East\",\n",
              "\t\t\"service_zone\": \"Yellow Zone\"\n",
              "\t},\n",
              "\t{\n",
              "\t\t\"location_id\": \"49\",\n",
              "\t\t\"borough\": \"Brooklyn\",\n",
              "\t\t\"zone\": \"Clinton Hill\",\n",
              "\t\t\"service_zone\": \"Boro Zone\"\n",
              "\t},\n",
              "\t{\n",
              "\t\t\"location_id\": \"50\",\n",
              "\t\t\"borough\": \"Manhattan\",\n",
              "\t\t\"zone\": \"Clinton West\",\n",
              "\t\t\"service_zone\": \"Yellow Zone\"\n",
              "\t},\n",
              "\t{\n",
              "\t\t\"location_id\": \"51\",\n",
              "\t\t\"borough\": \"Bronx\",\n",
              "\t\t\"zone\": \"Co-Op City\",\n",
              "\t\t\"service_zone\": \"Boro Zone\"\n",
              "\t},\n",
              "\t{\n",
              "\t\t\"location_id\": \"52\",\n",
              "\t\t\"borough\": \"Brooklyn\",\n",
              "\t\t\"zone\": \"Cobble Hill\",\n",
              "\t\t\"service_zone\": \"Boro Zone\"\n",
              "\t},\n",
              "\t{\n",
              "\t\t\"location_id\": \"53\",\n",
              "\t\t\"borough\": \"Queens\",\n",
              "\t\t\"zone\": \"College Point\",\n",
              "\t\t\"service_zone\": \"Boro Zone\"\n",
              "\t},\n",
              "\t{\n",
              "\t\t\"location_id\": \"54\",\n",
              "\t\t\"borough\": \"Brooklyn\",\n",
              "\t\t\"zone\": \"Columbia Street\",\n",
              "\t\t\"service_zone\": \"Boro Zone\"\n",
              "\t},\n",
              "\t{\n",
              "\t\t\"location_id\": \"55\",\n",
              "\t\t\"borough\": \"Brooklyn\",\n",
              "\t\t\"zone\": \"Coney Island\",\n",
              "\t\t\"service_zone\": \"Boro Zone\"\n",
              "\t},\n",
              "\t{\n",
              "\t\t\"location_id\": \"56\",\n",
              "\t\t\"borough\": \"Queens\",\n",
              "\t\t\"zone\": \"Corona\",\n",
              "\t\t\"service_zone\": \"Boro Zone\"\n",
              "\t},\n",
              "\t{\n",
              "\t\t\"location_id\": \"57\",\n",
              "\t\t\"borough\": \"Queens\",\n",
              "\t\t\"zone\": \"Corona\",\n",
              "\t\t\"service_zone\": \"Boro Zone\"\n",
              "\t},\n",
              "\t{\n",
              "\t\t\"location_id\": \"58\",\n",
              "\t\t\"borough\": \"Bronx\",\n",
              "\t\t\"zone\": \"Country Club\",\n",
              "\t\t\"service_zone\": \"Boro Zone\"\n",
              "\t},\n",
              "\t{\n",
              "\t\t\"location_id\": \"59\",\n",
              "\t\t\"borough\": \"Bronx\",\n",
              "\t\t\"zone\": \"Crotona Park\",\n",
              "\t\t\"service_zone\": \"Boro Zone\"\n",
              "\t},\n",
              "\t{\n",
              "\t\t\"location_id\": \"60\",\n",
              "\t\t\"borough\": \"Bronx\",\n",
              "\t\t\"zone\": \"Crotona Park East\",\n",
              "\t\t\"service_zone\": \"Boro Zone\"\n",
              "\t},\n",
              "\t{\n",
              "\t\t\"location_id\": \"61\",\n",
              "\t\t\"borough\": \"Brooklyn\",\n",
              "\t\t\"zone\": \"Crown Heights North\",\n",
              "\t\t\"service_zone\": \"Boro Zone\"\n",
              "\t},\n",
              "\t{\n",
              "\t\t\"location_id\": \"62\",\n",
              "\t\t\"borough\": \"Brooklyn\",\n",
              "\t\t\"zone\": \"Crown Heights South\",\n",
              "\t\t\"service_zone\": \"Boro Zone\"\n",
              "\t},\n",
              "\t{\n",
              "\t\t\"location_id\": \"63\",\n",
              "\t\t\"borough\": \"Brooklyn\",\n",
              "\t\t\"zone\": \"Cypress Hills\",\n",
              "\t\t\"service_zone\": \"Boro Zone\"\n",
              "\t},\n",
              "\t{\n",
              "\t\t\"location_id\": \"64\",\n",
              "\t\t\"borough\": \"Queens\",\n",
              "\t\t\"zone\": \"Douglaston\",\n",
              "\t\t\"service_zone\": \"Boro Zone\"\n",
              "\t},\n",
              "\t{\n",
              "\t\t\"location_id\": \"65\",\n",
              "\t\t\"borough\": \"Brooklyn\",\n",
              "\t\t\"zone\": \"Downtown Brooklyn/MetroTech\",\n",
              "\t\t\"service_zone\": \"Boro Zone\"\n",
              "\t},\n",
              "\t{\n",
              "\t\t\"location_id\": \"66\",\n",
              "\t\t\"borough\": \"Brooklyn\",\n",
              "\t\t\"zone\": \"DUMBO/Vinegar Hill\",\n",
              "\t\t\"service_zone\": \"Boro Zone\"\n",
              "\t},\n",
              "\t{\n",
              "\t\t\"location_id\": \"67\",\n",
              "\t\t\"borough\": \"Brooklyn\",\n",
              "\t\t\"zone\": \"Dyker Heights\",\n",
              "\t\t\"service_zone\": \"Boro Zone\"\n",
              "\t},\n",
              "\t{\n",
              "\t\t\"location_id\": \"68\",\n",
              "\t\t\"borough\": \"Manhattan\",\n",
              "\t\t\"zone\": \"East Chelsea\",\n",
              "\t\t\"service_zone\": \"Yellow Zone\"\n",
              "\t},\n",
              "\t{\n",
              "\t\t\"location_id\": \"69\",\n",
              "\t\t\"borough\": \"Bronx\",\n",
              "\t\t\"zone\": \"East Concourse/Concourse Village\",\n",
              "\t\t\"service_zone\": \"Boro Zone\"\n",
              "\t},\n",
              "\t{\n",
              "\t\t\"location_id\": \"70\",\n",
              "\t\t\"borough\": \"Queens\",\n",
              "\t\t\"zone\": \"East Elmhurst\",\n",
              "\t\t\"service_zone\": \"Boro Zone\"\n",
              "\t},\n",
              "\t{\n",
              "\t\t\"location_id\": \"71\",\n",
              "\t\t\"borough\": \"Brooklyn\",\n",
              "\t\t\"zone\": \"East Flatbush/Farragut\",\n",
              "\t\t\"service_zone\": \"Boro Zone\"\n",
              "\t},\n",
              "\t{\n",
              "\t\t\"location_id\": \"72\",\n",
              "\t\t\"borough\": \"Brooklyn\",\n",
              "\t\t\"zone\": \"East Flatbush/Remsen Village\",\n",
              "\t\t\"service_zone\": \"Boro Zone\"\n",
              "\t},\n",
              "\t{\n",
              "\t\t\"location_id\": \"73\",\n",
              "\t\t\"borough\": \"Queens\",\n",
              "\t\t\"zone\": \"East Flushing\",\n",
              "\t\t\"service_zone\": \"Boro Zone\"\n",
              "\t},\n",
              "\t{\n",
              "\t\t\"location_id\": \"74\",\n",
              "\t\t\"borough\": \"Manhattan\",\n",
              "\t\t\"zone\": \"East Harlem North\",\n",
              "\t\t\"service_zone\": \"Boro Zone\"\n",
              "\t},\n",
              "\t{\n",
              "\t\t\"location_id\": \"75\",\n",
              "\t\t\"borough\": \"Manhattan\",\n",
              "\t\t\"zone\": \"East Harlem South\",\n",
              "\t\t\"service_zone\": \"Boro Zone\"\n",
              "\t},\n",
              "\t{\n",
              "\t\t\"location_id\": \"76\",\n",
              "\t\t\"borough\": \"Brooklyn\",\n",
              "\t\t\"zone\": \"East New York\",\n",
              "\t\t\"service_zone\": \"Boro Zone\"\n",
              "\t},\n",
              "\t{\n",
              "\t\t\"location_id\": \"77\",\n",
              "\t\t\"borough\": \"Brooklyn\",\n",
              "\t\t\"zone\": \"East New York/Pennsylvania Avenue\",\n",
              "\t\t\"service_zone\": \"Boro Zone\"\n",
              "\t},\n",
              "\t{\n",
              "\t\t\"location_id\": \"78\",\n",
              "\t\t\"borough\": \"Bronx\",\n",
              "\t\t\"zone\": \"East Tremont\",\n",
              "\t\t\"service_zone\": \"Boro Zone\"\n",
              "\t},\n",
              "\t{\n",
              "\t\t\"location_id\": \"79\",\n",
              "\t\t\"borough\": \"Manhattan\",\n",
              "\t\t\"zone\": \"East Village\",\n",
              "\t\t\"service_zone\": \"Yellow Zone\"\n",
              "\t},\n",
              "\t{\n",
              "\t\t\"location_id\": \"80\",\n",
              "\t\t\"borough\": \"Brooklyn\",\n",
              "\t\t\"zone\": \"East Williamsburg\",\n",
              "\t\t\"service_zone\": \"Boro Zone\"\n",
              "\t},\n",
              "\t{\n",
              "\t\t\"location_id\": \"81\",\n",
              "\t\t\"borough\": \"Bronx\",\n",
              "\t\t\"zone\": \"Eastchester\",\n",
              "\t\t\"service_zone\": \"Boro Zone\"\n",
              "\t},\n",
              "\t{\n",
              "\t\t\"location_id\": \"82\",\n",
              "\t\t\"borough\": \"Queens\",\n",
              "\t\t\"zone\": \"Elmhurst\",\n",
              "\t\t\"service_zone\": \"Boro Zone\"\n",
              "\t},\n",
              "\t{\n",
              "\t\t\"location_id\": \"83\",\n",
              "\t\t\"borough\": \"Queens\",\n",
              "\t\t\"zone\": \"Elmhurst/Maspeth\",\n",
              "\t\t\"service_zone\": \"Boro Zone\"\n",
              "\t},\n",
              "\t{\n",
              "\t\t\"location_id\": \"84\",\n",
              "\t\t\"borough\": \"Staten Island\",\n",
              "\t\t\"zone\": \"Eltingville/Annadale/Prince's Bay\",\n",
              "\t\t\"service_zone\": \"Boro Zone\"\n",
              "\t},\n",
              "\t{\n",
              "\t\t\"location_id\": \"85\",\n",
              "\t\t\"borough\": \"Brooklyn\",\n",
              "\t\t\"zone\": \"Erasmus\",\n",
              "\t\t\"service_zone\": \"Boro Zone\"\n",
              "\t},\n",
              "\t{\n",
              "\t\t\"location_id\": \"86\",\n",
              "\t\t\"borough\": \"Queens\",\n",
              "\t\t\"zone\": \"Far Rockaway\",\n",
              "\t\t\"service_zone\": \"Boro Zone\"\n",
              "\t},\n",
              "\t{\n",
              "\t\t\"location_id\": \"87\",\n",
              "\t\t\"borough\": \"Manhattan\",\n",
              "\t\t\"zone\": \"Financial District North\",\n",
              "\t\t\"service_zone\": \"Yellow Zone\"\n",
              "\t},\n",
              "\t{\n",
              "\t\t\"location_id\": \"88\",\n",
              "\t\t\"borough\": \"Manhattan\",\n",
              "\t\t\"zone\": \"Financial District South\",\n",
              "\t\t\"service_zone\": \"Yellow Zone\"\n",
              "\t},\n",
              "\t{\n",
              "\t\t\"location_id\": \"89\",\n",
              "\t\t\"borough\": \"Brooklyn\",\n",
              "\t\t\"zone\": \"Flatbush/Ditmas Park\",\n",
              "\t\t\"service_zone\": \"Boro Zone\"\n",
              "\t},\n",
              "\t{\n",
              "\t\t\"location_id\": \"90\",\n",
              "\t\t\"borough\": \"Manhattan\",\n",
              "\t\t\"zone\": \"Flatiron\",\n",
              "\t\t\"service_zone\": \"Yellow Zone\"\n",
              "\t},\n",
              "\t{\n",
              "\t\t\"location_id\": \"91\",\n",
              "\t\t\"borough\": \"Brooklyn\",\n",
              "\t\t\"zone\": \"Flatlands\",\n",
              "\t\t\"service_zone\": \"Boro Zone\"\n",
              "\t},\n",
              "\t{\n",
              "\t\t\"location_id\": \"92\",\n",
              "\t\t\"borough\": \"Queens\",\n",
              "\t\t\"zone\": \"Flushing\",\n",
              "\t\t\"service_zone\": \"Boro Zone\"\n",
              "\t},\n",
              "\t{\n",
              "\t\t\"location_id\": \"93\",\n",
              "\t\t\"borough\": \"Queens\",\n",
              "\t\t\"zone\": \"Flushing Meadows-Corona Park\",\n",
              "\t\t\"service_zone\": \"Boro Zone\"\n",
              "\t},\n",
              "\t{\n",
              "\t\t\"location_id\": \"94\",\n",
              "\t\t\"borough\": \"Bronx\",\n",
              "\t\t\"zone\": \"Fordham South\",\n",
              "\t\t\"service_zone\": \"Boro Zone\"\n",
              "\t},\n",
              "\t{\n",
              "\t\t\"location_id\": \"95\",\n",
              "\t\t\"borough\": \"Queens\",\n",
              "\t\t\"zone\": \"Forest Hills\",\n",
              "\t\t\"service_zone\": \"Boro Zone\"\n",
              "\t},\n",
              "\t{\n",
              "\t\t\"location_id\": \"96\",\n",
              "\t\t\"borough\": \"Queens\",\n",
              "\t\t\"zone\": \"Forest Park/Highland Park\",\n",
              "\t\t\"service_zone\": \"Boro Zone\"\n",
              "\t},\n",
              "\t{\n",
              "\t\t\"location_id\": \"97\",\n",
              "\t\t\"borough\": \"Brooklyn\",\n",
              "\t\t\"zone\": \"Fort Greene\",\n",
              "\t\t\"service_zone\": \"Boro Zone\"\n",
              "\t},\n",
              "\t{\n",
              "\t\t\"location_id\": \"98\",\n",
              "\t\t\"borough\": \"Queens\",\n",
              "\t\t\"zone\": \"Fresh Meadows\",\n",
              "\t\t\"service_zone\": \"Boro Zone\"\n",
              "\t},\n",
              "\t{\n",
              "\t\t\"location_id\": \"99\",\n",
              "\t\t\"borough\": \"Staten Island\",\n",
              "\t\t\"zone\": \"Freshkills Park\",\n",
              "\t\t\"service_zone\": \"Boro Zone\"\n",
              "\t},\n",
              "\t{\n",
              "\t\t\"location_id\": \"100\",\n",
              "\t\t\"borough\": \"Manhattan\",\n",
              "\t\t\"zone\": \"Garment District\",\n",
              "\t\t\"service_zone\": \"Yellow Zone\"\n",
              "\t},\n",
              "\t{\n",
              "\t\t\"location_id\": \"101\",\n",
              "\t\t\"borough\": \"Queens\",\n",
              "\t\t\"zone\": \"Glen Oaks\",\n",
              "\t\t\"service_zone\": \"Boro Zone\"\n",
              "\t},\n",
              "\t{\n",
              "\t\t\"location_id\": \"102\",\n",
              "\t\t\"borough\": \"Queens\",\n",
              "\t\t\"zone\": \"Glendale\",\n",
              "\t\t\"service_zone\": \"Boro Zone\"\n",
              "\t},\n",
              "\t{\n",
              "\t\t\"location_id\": \"103\",\n",
              "\t\t\"borough\": \"Manhattan\",\n",
              "\t\t\"zone\": \"Governor's Island/Ellis Island/Liberty Island\",\n",
              "\t\t\"service_zone\": \"Yellow Zone\"\n",
              "\t},\n",
              "\t{\n",
              "\t\t\"location_id\": \"104\",\n",
              "\t\t\"borough\": \"Manhattan\",\n",
              "\t\t\"zone\": \"Governor's Island/Ellis Island/Liberty Island\",\n",
              "\t\t\"service_zone\": \"Yellow Zone\"\n",
              "\t},\n",
              "\t{\n",
              "\t\t\"location_id\": \"105\",\n",
              "\t\t\"borough\": \"Manhattan\",\n",
              "\t\t\"zone\": \"Governor's Island/Ellis Island/Liberty Island\",\n",
              "\t\t\"service_zone\": \"Yellow Zone\"\n",
              "\t},\n",
              "\t{\n",
              "\t\t\"location_id\": \"106\",\n",
              "\t\t\"borough\": \"Brooklyn\",\n",
              "\t\t\"zone\": \"Gowanus\",\n",
              "\t\t\"service_zone\": \"Boro Zone\"\n",
              "\t},\n",
              "\t{\n",
              "\t\t\"location_id\": \"107\",\n",
              "\t\t\"borough\": \"Manhattan\",\n",
              "\t\t\"zone\": \"Gramercy\",\n",
              "\t\t\"service_zone\": \"Yellow Zone\"\n",
              "\t},\n",
              "\t{\n",
              "\t\t\"location_id\": \"108\",\n",
              "\t\t\"borough\": \"Brooklyn\",\n",
              "\t\t\"zone\": \"Gravesend\",\n",
              "\t\t\"service_zone\": \"Boro Zone\"\n",
              "\t},\n",
              "\t{\n",
              "\t\t\"location_id\": \"109\",\n",
              "\t\t\"borough\": \"Staten Island\",\n",
              "\t\t\"zone\": \"Great Kills\",\n",
              "\t\t\"service_zone\": \"Boro Zone\"\n",
              "\t},\n",
              "\t{\n",
              "\t\t\"location_id\": \"110\",\n",
              "\t\t\"borough\": \"Staten Island\",\n",
              "\t\t\"zone\": \"Great Kills Park\",\n",
              "\t\t\"service_zone\": \"Boro Zone\"\n",
              "\t},\n",
              "\t{\n",
              "\t\t\"location_id\": \"111\",\n",
              "\t\t\"borough\": \"Brooklyn\",\n",
              "\t\t\"zone\": \"Green-Wood Cemetery\",\n",
              "\t\t\"service_zone\": \"Boro Zone\"\n",
              "\t},\n",
              "\t{\n",
              "\t\t\"location_id\": \"112\",\n",
              "\t\t\"borough\": \"Brooklyn\",\n",
              "\t\t\"zone\": \"Greenpoint\",\n",
              "\t\t\"service_zone\": \"Boro Zone\"\n",
              "\t},\n",
              "\t{\n",
              "\t\t\"location_id\": \"113\",\n",
              "\t\t\"borough\": \"Manhattan\",\n",
              "\t\t\"zone\": \"Greenwich Village North\",\n",
              "\t\t\"service_zone\": \"Yellow Zone\"\n",
              "\t},\n",
              "\t{\n",
              "\t\t\"location_id\": \"114\",\n",
              "\t\t\"borough\": \"Manhattan\",\n",
              "\t\t\"zone\": \"Greenwich Village South\",\n",
              "\t\t\"service_zone\": \"Yellow Zone\"\n",
              "\t},\n",
              "\t{\n",
              "\t\t\"location_id\": \"115\",\n",
              "\t\t\"borough\": \"Staten Island\",\n",
              "\t\t\"zone\": \"Grymes Hill/Clifton\",\n",
              "\t\t\"service_zone\": \"Boro Zone\"\n",
              "\t},\n",
              "\t{\n",
              "\t\t\"location_id\": \"116\",\n",
              "\t\t\"borough\": \"Manhattan\",\n",
              "\t\t\"zone\": \"Hamilton Heights\",\n",
              "\t\t\"service_zone\": \"Boro Zone\"\n",
              "\t},\n",
              "\t{\n",
              "\t\t\"location_id\": \"117\",\n",
              "\t\t\"borough\": \"Queens\",\n",
              "\t\t\"zone\": \"Hammels/Arverne\",\n",
              "\t\t\"service_zone\": \"Boro Zone\"\n",
              "\t},\n",
              "\t{\n",
              "\t\t\"location_id\": \"118\",\n",
              "\t\t\"borough\": \"Staten Island\",\n",
              "\t\t\"zone\": \"Heartland Village/Todt Hill\",\n",
              "\t\t\"service_zone\": \"Boro Zone\"\n",
              "\t},\n",
              "\t{\n",
              "\t\t\"location_id\": \"119\",\n",
              "\t\t\"borough\": \"Bronx\",\n",
              "\t\t\"zone\": \"Highbridge\",\n",
              "\t\t\"service_zone\": \"Boro Zone\"\n",
              "\t},\n",
              "\t{\n",
              "\t\t\"location_id\": \"120\",\n",
              "\t\t\"borough\": \"Manhattan\",\n",
              "\t\t\"zone\": \"Highbridge Park\",\n",
              "\t\t\"service_zone\": \"Boro Zone\"\n",
              "\t},\n",
              "\t{\n",
              "\t\t\"location_id\": \"121\",\n",
              "\t\t\"borough\": \"Queens\",\n",
              "\t\t\"zone\": \"Hillcrest/Pomonok\",\n",
              "\t\t\"service_zone\": \"Boro Zone\"\n",
              "\t},\n",
              "\t{\n",
              "\t\t\"location_id\": \"122\",\n",
              "\t\t\"borough\": \"Queens\",\n",
              "\t\t\"zone\": \"Hollis\",\n",
              "\t\t\"service_zone\": \"Boro Zone\"\n",
              "\t},\n",
              "\t{\n",
              "\t\t\"location_id\": \"123\",\n",
              "\t\t\"borough\": \"Brooklyn\",\n",
              "\t\t\"zone\": \"Homecrest\",\n",
              "\t\t\"service_zone\": \"Boro Zone\"\n",
              "\t},\n",
              "\t{\n",
              "\t\t\"location_id\": \"124\",\n",
              "\t\t\"borough\": \"Queens\",\n",
              "\t\t\"zone\": \"Howard Beach\",\n",
              "\t\t\"service_zone\": \"Boro Zone\"\n",
              "\t},\n",
              "\t{\n",
              "\t\t\"location_id\": \"125\",\n",
              "\t\t\"borough\": \"Manhattan\",\n",
              "\t\t\"zone\": \"Hudson Sq\",\n",
              "\t\t\"service_zone\": \"Yellow Zone\"\n",
              "\t},\n",
              "\t{\n",
              "\t\t\"location_id\": \"126\",\n",
              "\t\t\"borough\": \"Bronx\",\n",
              "\t\t\"zone\": \"Hunts Point\",\n",
              "\t\t\"service_zone\": \"Boro Zone\"\n",
              "\t},\n",
              "\t{\n",
              "\t\t\"location_id\": \"127\",\n",
              "\t\t\"borough\": \"Manhattan\",\n",
              "\t\t\"zone\": \"Inwood\",\n",
              "\t\t\"service_zone\": \"Boro Zone\"\n",
              "\t},\n",
              "\t{\n",
              "\t\t\"location_id\": \"128\",\n",
              "\t\t\"borough\": \"Manhattan\",\n",
              "\t\t\"zone\": \"Inwood Hill Park\",\n",
              "\t\t\"service_zone\": \"Boro Zone\"\n",
              "\t},\n",
              "\t{\n",
              "\t\t\"location_id\": \"129\",\n",
              "\t\t\"borough\": \"Queens\",\n",
              "\t\t\"zone\": \"Jackson Heights\",\n",
              "\t\t\"service_zone\": \"Boro Zone\"\n",
              "\t},\n",
              "\t{\n",
              "\t\t\"location_id\": \"130\",\n",
              "\t\t\"borough\": \"Queens\",\n",
              "\t\t\"zone\": \"Jamaica\",\n",
              "\t\t\"service_zone\": \"Boro Zone\"\n",
              "\t},\n",
              "\t{\n",
              "\t\t\"location_id\": \"131\",\n",
              "\t\t\"borough\": \"Queens\",\n",
              "\t\t\"zone\": \"Jamaica Estates\",\n",
              "\t\t\"service_zone\": \"Boro Zone\"\n",
              "\t},\n",
              "\t{\n",
              "\t\t\"location_id\": \"132\",\n",
              "\t\t\"borough\": \"Queens\",\n",
              "\t\t\"zone\": \"JFK Airport\",\n",
              "\t\t\"service_zone\": \"Airports\"\n",
              "\t},\n",
              "\t{\n",
              "\t\t\"location_id\": \"133\",\n",
              "\t\t\"borough\": \"Brooklyn\",\n",
              "\t\t\"zone\": \"Kensington\",\n",
              "\t\t\"service_zone\": \"Boro Zone\"\n",
              "\t},\n",
              "\t{\n",
              "\t\t\"location_id\": \"134\",\n",
              "\t\t\"borough\": \"Queens\",\n",
              "\t\t\"zone\": \"Kew Gardens\",\n",
              "\t\t\"service_zone\": \"Boro Zone\"\n",
              "\t},\n",
              "\t{\n",
              "\t\t\"location_id\": \"135\",\n",
              "\t\t\"borough\": \"Queens\",\n",
              "\t\t\"zone\": \"Kew Gardens Hills\",\n",
              "\t\t\"service_zone\": \"Boro Zone\"\n",
              "\t},\n",
              "\t{\n",
              "\t\t\"location_id\": \"136\",\n",
              "\t\t\"borough\": \"Bronx\",\n",
              "\t\t\"zone\": \"Kingsbridge Heights\",\n",
              "\t\t\"service_zone\": \"Boro Zone\"\n",
              "\t},\n",
              "\t{\n",
              "\t\t\"location_id\": \"137\",\n",
              "\t\t\"borough\": \"Manhattan\",\n",
              "\t\t\"zone\": \"Kips Bay\",\n",
              "\t\t\"service_zone\": \"Yellow Zone\"\n",
              "\t},\n",
              "\t{\n",
              "\t\t\"location_id\": \"138\",\n",
              "\t\t\"borough\": \"Queens\",\n",
              "\t\t\"zone\": \"LaGuardia Airport\",\n",
              "\t\t\"service_zone\": \"Airports\"\n",
              "\t},\n",
              "\t{\n",
              "\t\t\"location_id\": \"139\",\n",
              "\t\t\"borough\": \"Queens\",\n",
              "\t\t\"zone\": \"Laurelton\",\n",
              "\t\t\"service_zone\": \"Boro Zone\"\n",
              "\t},\n",
              "\t{\n",
              "\t\t\"location_id\": \"140\",\n",
              "\t\t\"borough\": \"Manhattan\",\n",
              "\t\t\"zone\": \"Lenox Hill East\",\n",
              "\t\t\"service_zone\": \"Yellow Zone\"\n",
              "\t},\n",
              "\t{\n",
              "\t\t\"location_id\": \"141\",\n",
              "\t\t\"borough\": \"Manhattan\",\n",
              "\t\t\"zone\": \"Lenox Hill West\",\n",
              "\t\t\"service_zone\": \"Yellow Zone\"\n",
              "\t},\n",
              "\t{\n",
              "\t\t\"location_id\": \"142\",\n",
              "\t\t\"borough\": \"Manhattan\",\n",
              "\t\t\"zone\": \"Lincoln Square East\",\n",
              "\t\t\"service_zone\": \"Yellow Zone\"\n",
              "\t},\n",
              "\t{\n",
              "\t\t\"location_id\": \"143\",\n",
              "\t\t\"borough\": \"Manhattan\",\n",
              "\t\t\"zone\": \"Lincoln Square West\",\n",
              "\t\t\"service_zone\": \"Yellow Zone\"\n",
              "\t},\n",
              "\t{\n",
              "\t\t\"location_id\": \"144\",\n",
              "\t\t\"borough\": \"Manhattan\",\n",
              "\t\t\"zone\": \"Little Italy/NoLiTa\",\n",
              "\t\t\"service_zone\": \"Yellow Zone\"\n",
              "\t},\n",
              "\t{\n",
              "\t\t\"location_id\": \"145\",\n",
              "\t\t\"borough\": \"Queens\",\n",
              "\t\t\"zone\": \"Long Island City/Hunters Point\",\n",
              "\t\t\"service_zone\": \"Boro Zone\"\n",
              "\t},\n",
              "\t{\n",
              "\t\t\"location_id\": \"146\",\n",
              "\t\t\"borough\": \"Queens\",\n",
              "\t\t\"zone\": \"Long Island City/Queens Plaza\",\n",
              "\t\t\"service_zone\": \"Boro Zone\"\n",
              "\t},\n",
              "\t{\n",
              "\t\t\"location_id\": \"147\",\n",
              "\t\t\"borough\": \"Bronx\",\n",
              "\t\t\"zone\": \"Longwood\",\n",
              "\t\t\"service_zone\": \"Boro Zone\"\n",
              "\t},\n",
              "\t{\n",
              "\t\t\"location_id\": \"148\",\n",
              "\t\t\"borough\": \"Manhattan\",\n",
              "\t\t\"zone\": \"Lower East Side\",\n",
              "\t\t\"service_zone\": \"Yellow Zone\"\n",
              "\t},\n",
              "\t{\n",
              "\t\t\"location_id\": \"149\",\n",
              "\t\t\"borough\": \"Brooklyn\",\n",
              "\t\t\"zone\": \"Madison\",\n",
              "\t\t\"service_zone\": \"Boro Zone\"\n",
              "\t},\n",
              "\t{\n",
              "\t\t\"location_id\": \"150\",\n",
              "\t\t\"borough\": \"Brooklyn\",\n",
              "\t\t\"zone\": \"Manhattan Beach\",\n",
              "\t\t\"service_zone\": \"Boro Zone\"\n",
              "\t},\n",
              "\t{\n",
              "\t\t\"location_id\": \"151\",\n",
              "\t\t\"borough\": \"Manhattan\",\n",
              "\t\t\"zone\": \"Manhattan Valley\",\n",
              "\t\t\"service_zone\": \"Yellow Zone\"\n",
              "\t},\n",
              "\t{\n",
              "\t\t\"location_id\": \"152\",\n",
              "\t\t\"borough\": \"Manhattan\",\n",
              "\t\t\"zone\": \"Manhattanville\",\n",
              "\t\t\"service_zone\": \"Boro Zone\"\n",
              "\t},\n",
              "\t{\n",
              "\t\t\"location_id\": \"153\",\n",
              "\t\t\"borough\": \"Manhattan\",\n",
              "\t\t\"zone\": \"Marble Hill\",\n",
              "\t\t\"service_zone\": \"Boro Zone\"\n",
              "\t},\n",
              "\t{\n",
              "\t\t\"location_id\": \"154\",\n",
              "\t\t\"borough\": \"Brooklyn\",\n",
              "\t\t\"zone\": \"Marine Park/Floyd Bennett Field\",\n",
              "\t\t\"service_zone\": \"Boro Zone\"\n",
              "\t},\n",
              "\t{\n",
              "\t\t\"location_id\": \"155\",\n",
              "\t\t\"borough\": \"Brooklyn\",\n",
              "\t\t\"zone\": \"Marine Park/Mill Basin\",\n",
              "\t\t\"service_zone\": \"Boro Zone\"\n",
              "\t},\n",
              "\t{\n",
              "\t\t\"location_id\": \"156\",\n",
              "\t\t\"borough\": \"Staten Island\",\n",
              "\t\t\"zone\": \"Mariners Harbor\",\n",
              "\t\t\"service_zone\": \"Boro Zone\"\n",
              "\t},\n",
              "\t{\n",
              "\t\t\"location_id\": \"157\",\n",
              "\t\t\"borough\": \"Queens\",\n",
              "\t\t\"zone\": \"Maspeth\",\n",
              "\t\t\"service_zone\": \"Boro Zone\"\n",
              "\t},\n",
              "\t{\n",
              "\t\t\"location_id\": \"158\",\n",
              "\t\t\"borough\": \"Manhattan\",\n",
              "\t\t\"zone\": \"Meatpacking/West Village West\",\n",
              "\t\t\"service_zone\": \"Yellow Zone\"\n",
              "\t},\n",
              "\t{\n",
              "\t\t\"location_id\": \"159\",\n",
              "\t\t\"borough\": \"Bronx\",\n",
              "\t\t\"zone\": \"Melrose South\",\n",
              "\t\t\"service_zone\": \"Boro Zone\"\n",
              "\t},\n",
              "\t{\n",
              "\t\t\"location_id\": \"160\",\n",
              "\t\t\"borough\": \"Queens\",\n",
              "\t\t\"zone\": \"Middle Village\",\n",
              "\t\t\"service_zone\": \"Boro Zone\"\n",
              "\t},\n",
              "\t{\n",
              "\t\t\"location_id\": \"161\",\n",
              "\t\t\"borough\": \"Manhattan\",\n",
              "\t\t\"zone\": \"Midtown Center\",\n",
              "\t\t\"service_zone\": \"Yellow Zone\"\n",
              "\t},\n",
              "\t{\n",
              "\t\t\"location_id\": \"162\",\n",
              "\t\t\"borough\": \"Manhattan\",\n",
              "\t\t\"zone\": \"Midtown East\",\n",
              "\t\t\"service_zone\": \"Yellow Zone\"\n",
              "\t},\n",
              "\t{\n",
              "\t\t\"location_id\": \"163\",\n",
              "\t\t\"borough\": \"Manhattan\",\n",
              "\t\t\"zone\": \"Midtown North\",\n",
              "\t\t\"service_zone\": \"Yellow Zone\"\n",
              "\t},\n",
              "\t{\n",
              "\t\t\"location_id\": \"164\",\n",
              "\t\t\"borough\": \"Manhattan\",\n",
              "\t\t\"zone\": \"Midtown South\",\n",
              "\t\t\"service_zone\": \"Yellow Zone\"\n",
              "\t},\n",
              "\t{\n",
              "\t\t\"location_id\": \"165\",\n",
              "\t\t\"borough\": \"Brooklyn\",\n",
              "\t\t\"zone\": \"Midwood\",\n",
              "\t\t\"service_zone\": \"Boro Zone\"\n",
              "\t},\n",
              "\t{\n",
              "\t\t\"location_id\": \"166\",\n",
              "\t\t\"borough\": \"Manhattan\",\n",
              "\t\t\"zone\": \"Morningside Heights\",\n",
              "\t\t\"service_zone\": \"Boro Zone\"\n",
              "\t},\n",
              "\t{\n",
              "\t\t\"location_id\": \"167\",\n",
              "\t\t\"borough\": \"Bronx\",\n",
              "\t\t\"zone\": \"Morrisania/Melrose\",\n",
              "\t\t\"service_zone\": \"Boro Zone\"\n",
              "\t},\n",
              "\t{\n",
              "\t\t\"location_id\": \"168\",\n",
              "\t\t\"borough\": \"Bronx\",\n",
              "\t\t\"zone\": \"Mott Haven/Port Morris\",\n",
              "\t\t\"service_zone\": \"Boro Zone\"\n",
              "\t},\n",
              "\t{\n",
              "\t\t\"location_id\": \"169\",\n",
              "\t\t\"borough\": \"Bronx\",\n",
              "\t\t\"zone\": \"Mount Hope\",\n",
              "\t\t\"service_zone\": \"Boro Zone\"\n",
              "\t},\n",
              "\t{\n",
              "\t\t\"location_id\": \"170\",\n",
              "\t\t\"borough\": \"Manhattan\",\n",
              "\t\t\"zone\": \"Murray Hill\",\n",
              "\t\t\"service_zone\": \"Yellow Zone\"\n",
              "\t},\n",
              "\t{\n",
              "\t\t\"location_id\": \"171\",\n",
              "\t\t\"borough\": \"Queens\",\n",
              "\t\t\"zone\": \"Murray Hill-Queens\",\n",
              "\t\t\"service_zone\": \"Boro Zone\"\n",
              "\t},\n",
              "\t{\n",
              "\t\t\"location_id\": \"172\",\n",
              "\t\t\"borough\": \"Staten Island\",\n",
              "\t\t\"zone\": \"New Dorp/Midland Beach\",\n",
              "\t\t\"service_zone\": \"Boro Zone\"\n",
              "\t},\n",
              "\t{\n",
              "\t\t\"location_id\": \"173\",\n",
              "\t\t\"borough\": \"Queens\",\n",
              "\t\t\"zone\": \"North Corona\",\n",
              "\t\t\"service_zone\": \"Boro Zone\"\n",
              "\t},\n",
              "\t{\n",
              "\t\t\"location_id\": \"174\",\n",
              "\t\t\"borough\": \"Bronx\",\n",
              "\t\t\"zone\": \"Norwood\",\n",
              "\t\t\"service_zone\": \"Boro Zone\"\n",
              "\t},\n",
              "\t{\n",
              "\t\t\"location_id\": \"175\",\n",
              "\t\t\"borough\": \"Queens\",\n",
              "\t\t\"zone\": \"Oakland Gardens\",\n",
              "\t\t\"service_zone\": \"Boro Zone\"\n",
              "\t},\n",
              "\t{\n",
              "\t\t\"location_id\": \"176\",\n",
              "\t\t\"borough\": \"Staten Island\",\n",
              "\t\t\"zone\": \"Oakwood\",\n",
              "\t\t\"service_zone\": \"Boro Zone\"\n",
              "\t},\n",
              "\t{\n",
              "\t\t\"location_id\": \"177\",\n",
              "\t\t\"borough\": \"Brooklyn\",\n",
              "\t\t\"zone\": \"Ocean Hill\",\n",
              "\t\t\"service_zone\": \"Boro Zone\"\n",
              "\t},\n",
              "\t{\n",
              "\t\t\"location_id\": \"178\",\n",
              "\t\t\"borough\": \"Brooklyn\",\n",
              "\t\t\"zone\": \"Ocean Parkway South\",\n",
              "\t\t\"service_zone\": \"Boro Zone\"\n",
              "\t},\n",
              "\t{\n",
              "\t\t\"location_id\": \"179\",\n",
              "\t\t\"borough\": \"Queens\",\n",
              "\t\t\"zone\": \"Old Astoria\",\n",
              "\t\t\"service_zone\": \"Boro Zone\"\n",
              "\t},\n",
              "\t{\n",
              "\t\t\"location_id\": \"180\",\n",
              "\t\t\"borough\": \"Queens\",\n",
              "\t\t\"zone\": \"Ozone Park\",\n",
              "\t\t\"service_zone\": \"Boro Zone\"\n",
              "\t},\n",
              "\t{\n",
              "\t\t\"location_id\": \"181\",\n",
              "\t\t\"borough\": \"Brooklyn\",\n",
              "\t\t\"zone\": \"Park Slope\",\n",
              "\t\t\"service_zone\": \"Boro Zone\"\n",
              "\t},\n",
              "\t{\n",
              "\t\t\"location_id\": \"182\",\n",
              "\t\t\"borough\": \"Bronx\",\n",
              "\t\t\"zone\": \"Parkchester\",\n",
              "\t\t\"service_zone\": \"Boro Zone\"\n",
              "\t},\n",
              "\t{\n",
              "\t\t\"location_id\": \"183\",\n",
              "\t\t\"borough\": \"Bronx\",\n",
              "\t\t\"zone\": \"Pelham Bay\",\n",
              "\t\t\"service_zone\": \"Boro Zone\"\n",
              "\t},\n",
              "\t{\n",
              "\t\t\"location_id\": \"184\",\n",
              "\t\t\"borough\": \"Bronx\",\n",
              "\t\t\"zone\": \"Pelham Bay Park\",\n",
              "\t\t\"service_zone\": \"Boro Zone\"\n",
              "\t},\n",
              "\t{\n",
              "\t\t\"location_id\": \"185\",\n",
              "\t\t\"borough\": \"Bronx\",\n",
              "\t\t\"zone\": \"Pelham Parkway\",\n",
              "\t\t\"service_zone\": \"Boro Zone\"\n",
              "\t},\n",
              "\t{\n",
              "\t\t\"location_id\": \"186\",\n",
              "\t\t\"borough\": \"Manhattan\",\n",
              "\t\t\"zone\": \"Penn Station/Madison Sq West\",\n",
              "\t\t\"service_zone\": \"Yellow Zone\"\n",
              "\t},\n",
              "\t{\n",
              "\t\t\"location_id\": \"187\",\n",
              "\t\t\"borough\": \"Staten Island\",\n",
              "\t\t\"zone\": \"Port Richmond\",\n",
              "\t\t\"service_zone\": \"Boro Zone\"\n",
              "\t},\n",
              "\t{\n",
              "\t\t\"location_id\": \"188\",\n",
              "\t\t\"borough\": \"Brooklyn\",\n",
              "\t\t\"zone\": \"Prospect-Lefferts Gardens\",\n",
              "\t\t\"service_zone\": \"Boro Zone\"\n",
              "\t},\n",
              "\t{\n",
              "\t\t\"location_id\": \"189\",\n",
              "\t\t\"borough\": \"Brooklyn\",\n",
              "\t\t\"zone\": \"Prospect Heights\",\n",
              "\t\t\"service_zone\": \"Boro Zone\"\n",
              "\t},\n",
              "\t{\n",
              "\t\t\"location_id\": \"190\",\n",
              "\t\t\"borough\": \"Brooklyn\",\n",
              "\t\t\"zone\": \"Prospect Park\",\n",
              "\t\t\"service_zone\": \"Boro Zone\"\n",
              "\t},\n",
              "\t{\n",
              "\t\t\"location_id\": \"191\",\n",
              "\t\t\"borough\": \"Queens\",\n",
              "\t\t\"zone\": \"Queens Village\",\n",
              "\t\t\"service_zone\": \"Boro Zone\"\n",
              "\t},\n",
              "\t{\n",
              "\t\t\"location_id\": \"192\",\n",
              "\t\t\"borough\": \"Queens\",\n",
              "\t\t\"zone\": \"Queensboro Hill\",\n",
              "\t\t\"service_zone\": \"Boro Zone\"\n",
              "\t},\n",
              "\t{\n",
              "\t\t\"location_id\": \"193\",\n",
              "\t\t\"borough\": \"Queens\",\n",
              "\t\t\"zone\": \"Queensbridge/Ravenswood\",\n",
              "\t\t\"service_zone\": \"Boro Zone\"\n",
              "\t},\n",
              "\t{\n",
              "\t\t\"location_id\": \"194\",\n",
              "\t\t\"borough\": \"Manhattan\",\n",
              "\t\t\"zone\": \"Randalls Island\",\n",
              "\t\t\"service_zone\": \"Yellow Zone\"\n",
              "\t},\n",
              "\t{\n",
              "\t\t\"location_id\": \"195\",\n",
              "\t\t\"borough\": \"Brooklyn\",\n",
              "\t\t\"zone\": \"Red Hook\",\n",
              "\t\t\"service_zone\": \"Boro Zone\"\n",
              "\t},\n",
              "\t{\n",
              "\t\t\"location_id\": \"196\",\n",
              "\t\t\"borough\": \"Queens\",\n",
              "\t\t\"zone\": \"Rego Park\",\n",
              "\t\t\"service_zone\": \"Boro Zone\"\n",
              "\t},\n",
              "\t{\n",
              "\t\t\"location_id\": \"197\",\n",
              "\t\t\"borough\": \"Queens\",\n",
              "\t\t\"zone\": \"Richmond Hill\",\n",
              "\t\t\"service_zone\": \"Boro Zone\"\n",
              "\t},\n",
              "\t{\n",
              "\t\t\"location_id\": \"198\",\n",
              "\t\t\"borough\": \"Queens\",\n",
              "\t\t\"zone\": \"Ridgewood\",\n",
              "\t\t\"service_zone\": \"Boro Zone\"\n",
              "\t},\n",
              "\t{\n",
              "\t\t\"location_id\": \"199\",\n",
              "\t\t\"borough\": \"Bronx\",\n",
              "\t\t\"zone\": \"Rikers Island\",\n",
              "\t\t\"service_zone\": \"Boro Zone\"\n",
              "\t},\n",
              "\t{\n",
              "\t\t\"location_id\": \"200\",\n",
              "\t\t\"borough\": \"Bronx\",\n",
              "\t\t\"zone\": \"Riverdale/North Riverdale/Fieldston\",\n",
              "\t\t\"service_zone\": \"Boro Zone\"\n",
              "\t},\n",
              "\t{\n",
              "\t\t\"location_id\": \"201\",\n",
              "\t\t\"borough\": \"Queens\",\n",
              "\t\t\"zone\": \"Rockaway Park\",\n",
              "\t\t\"service_zone\": \"Boro Zone\"\n",
              "\t},\n",
              "\t{\n",
              "\t\t\"location_id\": \"202\",\n",
              "\t\t\"borough\": \"Manhattan\",\n",
              "\t\t\"zone\": \"Roosevelt Island\",\n",
              "\t\t\"service_zone\": \"Boro Zone\"\n",
              "\t},\n",
              "\t{\n",
              "\t\t\"location_id\": \"203\",\n",
              "\t\t\"borough\": \"Queens\",\n",
              "\t\t\"zone\": \"Rosedale\",\n",
              "\t\t\"service_zone\": \"Boro Zone\"\n",
              "\t},\n",
              "\t{\n",
              "\t\t\"location_id\": \"204\",\n",
              "\t\t\"borough\": \"Staten Island\",\n",
              "\t\t\"zone\": \"Rossville/Woodrow\",\n",
              "\t\t\"service_zone\": \"Boro Zone\"\n",
              "\t},\n",
              "\t{\n",
              "\t\t\"location_id\": \"205\",\n",
              "\t\t\"borough\": \"Queens\",\n",
              "\t\t\"zone\": \"Saint Albans\",\n",
              "\t\t\"service_zone\": \"Boro Zone\"\n",
              "\t},\n",
              "\t{\n",
              "\t\t\"location_id\": \"206\",\n",
              "\t\t\"borough\": \"Staten Island\",\n",
              "\t\t\"zone\": \"Saint George/New Brighton\",\n",
              "\t\t\"service_zone\": \"Boro Zone\"\n",
              "\t},\n",
              "\t{\n",
              "\t\t\"location_id\": \"207\",\n",
              "\t\t\"borough\": \"Queens\",\n",
              "\t\t\"zone\": \"Saint Michaels Cemetery/Woodside\",\n",
              "\t\t\"service_zone\": \"Boro Zone\"\n",
              "\t},\n",
              "\t{\n",
              "\t\t\"location_id\": \"208\",\n",
              "\t\t\"borough\": \"Bronx\",\n",
              "\t\t\"zone\": \"Schuylerville/Edgewater Park\",\n",
              "\t\t\"service_zone\": \"Boro Zone\"\n",
              "\t},\n",
              "\t{\n",
              "\t\t\"location_id\": \"209\",\n",
              "\t\t\"borough\": \"Manhattan\",\n",
              "\t\t\"zone\": \"Seaport\",\n",
              "\t\t\"service_zone\": \"Yellow Zone\"\n",
              "\t},\n",
              "\t{\n",
              "\t\t\"location_id\": \"210\",\n",
              "\t\t\"borough\": \"Brooklyn\",\n",
              "\t\t\"zone\": \"Sheepshead Bay\",\n",
              "\t\t\"service_zone\": \"Boro Zone\"\n",
              "\t},\n",
              "\t{\n",
              "\t\t\"location_id\": \"211\",\n",
              "\t\t\"borough\": \"Manhattan\",\n",
              "\t\t\"zone\": \"SoHo\",\n",
              "\t\t\"service_zone\": \"Yellow Zone\"\n",
              "\t},\n",
              "\t{\n",
              "\t\t\"location_id\": \"212\",\n",
              "\t\t\"borough\": \"Bronx\",\n",
              "\t\t\"zone\": \"Soundview/Bruckner\",\n",
              "\t\t\"service_zone\": \"Boro Zone\"\n",
              "\t},\n",
              "\t{\n",
              "\t\t\"location_id\": \"213\",\n",
              "\t\t\"borough\": \"Bronx\",\n",
              "\t\t\"zone\": \"Soundview/Castle Hill\",\n",
              "\t\t\"service_zone\": \"Boro Zone\"\n",
              "\t},\n",
              "\t{\n",
              "\t\t\"location_id\": \"214\",\n",
              "\t\t\"borough\": \"Staten Island\",\n",
              "\t\t\"zone\": \"South Beach/Dongan Hills\",\n",
              "\t\t\"service_zone\": \"Boro Zone\"\n",
              "\t},\n",
              "\t{\n",
              "\t\t\"location_id\": \"215\",\n",
              "\t\t\"borough\": \"Queens\",\n",
              "\t\t\"zone\": \"South Jamaica\",\n",
              "\t\t\"service_zone\": \"Boro Zone\"\n",
              "\t},\n",
              "\t{\n",
              "\t\t\"location_id\": \"216\",\n",
              "\t\t\"borough\": \"Queens\",\n",
              "\t\t\"zone\": \"South Ozone Park\",\n",
              "\t\t\"service_zone\": \"Boro Zone\"\n",
              "\t},\n",
              "\t{\n",
              "\t\t\"location_id\": \"217\",\n",
              "\t\t\"borough\": \"Brooklyn\",\n",
              "\t\t\"zone\": \"South Williamsburg\",\n",
              "\t\t\"service_zone\": \"Boro Zone\"\n",
              "\t},\n",
              "\t{\n",
              "\t\t\"location_id\": \"218\",\n",
              "\t\t\"borough\": \"Queens\",\n",
              "\t\t\"zone\": \"Springfield Gardens North\",\n",
              "\t\t\"service_zone\": \"Boro Zone\"\n",
              "\t},\n",
              "\t{\n",
              "\t\t\"location_id\": \"219\",\n",
              "\t\t\"borough\": \"Queens\",\n",
              "\t\t\"zone\": \"Springfield Gardens South\",\n",
              "\t\t\"service_zone\": \"Boro Zone\"\n",
              "\t},\n",
              "\t{\n",
              "\t\t\"location_id\": \"220\",\n",
              "\t\t\"borough\": \"Bronx\",\n",
              "\t\t\"zone\": \"Spuyten Duyvil/Kingsbridge\",\n",
              "\t\t\"service_zone\": \"Boro Zone\"\n",
              "\t},\n",
              "\t{\n",
              "\t\t\"location_id\": \"221\",\n",
              "\t\t\"borough\": \"Staten Island\",\n",
              "\t\t\"zone\": \"Stapleton\",\n",
              "\t\t\"service_zone\": \"Boro Zone\"\n",
              "\t},\n",
              "\t{\n",
              "\t\t\"location_id\": \"222\",\n",
              "\t\t\"borough\": \"Brooklyn\",\n",
              "\t\t\"zone\": \"Starrett City\",\n",
              "\t\t\"service_zone\": \"Boro Zone\"\n",
              "\t},\n",
              "\t{\n",
              "\t\t\"location_id\": \"223\",\n",
              "\t\t\"borough\": \"Queens\",\n",
              "\t\t\"zone\": \"Steinway\",\n",
              "\t\t\"service_zone\": \"Boro Zone\"\n",
              "\t},\n",
              "\t{\n",
              "\t\t\"location_id\": \"224\",\n",
              "\t\t\"borough\": \"Manhattan\",\n",
              "\t\t\"zone\": \"Stuy Town/Peter Cooper Village\",\n",
              "\t\t\"service_zone\": \"Yellow Zone\"\n",
              "\t},\n",
              "\t{\n",
              "\t\t\"location_id\": \"225\",\n",
              "\t\t\"borough\": \"Brooklyn\",\n",
              "\t\t\"zone\": \"Stuyvesant Heights\",\n",
              "\t\t\"service_zone\": \"Boro Zone\"\n",
              "\t},\n",
              "\t{\n",
              "\t\t\"location_id\": \"226\",\n",
              "\t\t\"borough\": \"Queens\",\n",
              "\t\t\"zone\": \"Sunnyside\",\n",
              "\t\t\"service_zone\": \"Boro Zone\"\n",
              "\t},\n",
              "\t{\n",
              "\t\t\"location_id\": \"227\",\n",
              "\t\t\"borough\": \"Brooklyn\",\n",
              "\t\t\"zone\": \"Sunset Park East\",\n",
              "\t\t\"service_zone\": \"Boro Zone\"\n",
              "\t},\n",
              "\t{\n",
              "\t\t\"location_id\": \"228\",\n",
              "\t\t\"borough\": \"Brooklyn\",\n",
              "\t\t\"zone\": \"Sunset Park West\",\n",
              "\t\t\"service_zone\": \"Boro Zone\"\n",
              "\t},\n",
              "\t{\n",
              "\t\t\"location_id\": \"229\",\n",
              "\t\t\"borough\": \"Manhattan\",\n",
              "\t\t\"zone\": \"Sutton Place/Turtle Bay North\",\n",
              "\t\t\"service_zone\": \"Yellow Zone\"\n",
              "\t},\n",
              "\t{\n",
              "\t\t\"location_id\": \"230\",\n",
              "\t\t\"borough\": \"Manhattan\",\n",
              "\t\t\"zone\": \"Times Sq/Theatre District\",\n",
              "\t\t\"service_zone\": \"Yellow Zone\"\n",
              "\t},\n",
              "\t{\n",
              "\t\t\"location_id\": \"231\",\n",
              "\t\t\"borough\": \"Manhattan\",\n",
              "\t\t\"zone\": \"TriBeCa/Civic Center\",\n",
              "\t\t\"service_zone\": \"Yellow Zone\"\n",
              "\t},\n",
              "\t{\n",
              "\t\t\"location_id\": \"232\",\n",
              "\t\t\"borough\": \"Manhattan\",\n",
              "\t\t\"zone\": \"Two Bridges/Seward Park\",\n",
              "\t\t\"service_zone\": \"Yellow Zone\"\n",
              "\t},\n",
              "\t{\n",
              "\t\t\"location_id\": \"233\",\n",
              "\t\t\"borough\": \"Manhattan\",\n",
              "\t\t\"zone\": \"UN/Turtle Bay South\",\n",
              "\t\t\"service_zone\": \"Yellow Zone\"\n",
              "\t},\n",
              "\t{\n",
              "\t\t\"location_id\": \"234\",\n",
              "\t\t\"borough\": \"Manhattan\",\n",
              "\t\t\"zone\": \"Union Sq\",\n",
              "\t\t\"service_zone\": \"Yellow Zone\"\n",
              "\t},\n",
              "\t{\n",
              "\t\t\"location_id\": \"235\",\n",
              "\t\t\"borough\": \"Bronx\",\n",
              "\t\t\"zone\": \"University Heights/Morris Heights\",\n",
              "\t\t\"service_zone\": \"Boro Zone\"\n",
              "\t},\n",
              "\t{\n",
              "\t\t\"location_id\": \"236\",\n",
              "\t\t\"borough\": \"Manhattan\",\n",
              "\t\t\"zone\": \"Upper East Side North\",\n",
              "\t\t\"service_zone\": \"Yellow Zone\"\n",
              "\t},\n",
              "\t{\n",
              "\t\t\"location_id\": \"237\",\n",
              "\t\t\"borough\": \"Manhattan\",\n",
              "\t\t\"zone\": \"Upper East Side South\",\n",
              "\t\t\"service_zone\": \"Yellow Zone\"\n",
              "\t},\n",
              "\t{\n",
              "\t\t\"location_id\": \"238\",\n",
              "\t\t\"borough\": \"Manhattan\",\n",
              "\t\t\"zone\": \"Upper West Side North\",\n",
              "\t\t\"service_zone\": \"Yellow Zone\"\n",
              "\t},\n",
              "\t{\n",
              "\t\t\"location_id\": \"239\",\n",
              "\t\t\"borough\": \"Manhattan\",\n",
              "\t\t\"zone\": \"Upper West Side South\",\n",
              "\t\t\"service_zone\": \"Yellow Zone\"\n",
              "\t},\n",
              "\t{\n",
              "\t\t\"location_id\": \"240\",\n",
              "\t\t\"borough\": \"Bronx\",\n",
              "\t\t\"zone\": \"Van Cortlandt Park\",\n",
              "\t\t\"service_zone\": \"Boro Zone\"\n",
              "\t},\n",
              "\t{\n",
              "\t\t\"location_id\": \"241\",\n",
              "\t\t\"borough\": \"Bronx\",\n",
              "\t\t\"zone\": \"Van Cortlandt Village\",\n",
              "\t\t\"service_zone\": \"Boro Zone\"\n",
              "\t},\n",
              "\t{\n",
              "\t\t\"location_id\": \"242\",\n",
              "\t\t\"borough\": \"Bronx\",\n",
              "\t\t\"zone\": \"Van Nest/Morris Park\",\n",
              "\t\t\"service_zone\": \"Boro Zone\"\n",
              "\t},\n",
              "\t{\n",
              "\t\t\"location_id\": \"243\",\n",
              "\t\t\"borough\": \"Manhattan\",\n",
              "\t\t\"zone\": \"Washington Heights North\",\n",
              "\t\t\"service_zone\": \"Boro Zone\"\n",
              "\t},\n",
              "\t{\n",
              "\t\t\"location_id\": \"244\",\n",
              "\t\t\"borough\": \"Manhattan\",\n",
              "\t\t\"zone\": \"Washington Heights South\",\n",
              "\t\t\"service_zone\": \"Boro Zone\"\n",
              "\t},\n",
              "\t{\n",
              "\t\t\"location_id\": \"245\",\n",
              "\t\t\"borough\": \"Staten Island\",\n",
              "\t\t\"zone\": \"West Brighton\",\n",
              "\t\t\"service_zone\": \"Boro Zone\"\n",
              "\t},\n",
              "\t{\n",
              "\t\t\"location_id\": \"246\",\n",
              "\t\t\"borough\": \"Manhattan\",\n",
              "\t\t\"zone\": \"West Chelsea/Hudson Yards\",\n",
              "\t\t\"service_zone\": \"Yellow Zone\"\n",
              "\t},\n",
              "\t{\n",
              "\t\t\"location_id\": \"247\",\n",
              "\t\t\"borough\": \"Bronx\",\n",
              "\t\t\"zone\": \"West Concourse\",\n",
              "\t\t\"service_zone\": \"Boro Zone\"\n",
              "\t},\n",
              "\t{\n",
              "\t\t\"location_id\": \"248\",\n",
              "\t\t\"borough\": \"Bronx\",\n",
              "\t\t\"zone\": \"West Farms/Bronx River\",\n",
              "\t\t\"service_zone\": \"Boro Zone\"\n",
              "\t},\n",
              "\t{\n",
              "\t\t\"location_id\": \"249\",\n",
              "\t\t\"borough\": \"Manhattan\",\n",
              "\t\t\"zone\": \"West Village\",\n",
              "\t\t\"service_zone\": \"Yellow Zone\"\n",
              "\t},\n",
              "\t{\n",
              "\t\t\"location_id\": \"250\",\n",
              "\t\t\"borough\": \"Bronx\",\n",
              "\t\t\"zone\": \"Westchester Village/Unionport\",\n",
              "\t\t\"service_zone\": \"Boro Zone\"\n",
              "\t},\n",
              "\t{\n",
              "\t\t\"location_id\": \"251\",\n",
              "\t\t\"borough\": \"Staten Island\",\n",
              "\t\t\"zone\": \"Westerleigh\",\n",
              "\t\t\"service_zone\": \"Boro Zone\"\n",
              "\t},\n",
              "\t{\n",
              "\t\t\"location_id\": \"252\",\n",
              "\t\t\"borough\": \"Queens\",\n",
              "\t\t\"zone\": \"Whitestone\",\n",
              "\t\t\"service_zone\": \"Boro Zone\"\n",
              "\t},\n",
              "\t{\n",
              "\t\t\"location_id\": \"253\",\n",
              "\t\t\"borough\": \"Queens\",\n",
              "\t\t\"zone\": \"Willets Point\",\n",
              "\t\t\"service_zone\": \"Boro Zone\"\n",
              "\t},\n",
              "\t{\n",
              "\t\t\"location_id\": \"254\",\n",
              "\t\t\"borough\": \"Bronx\",\n",
              "\t\t\"zone\": \"Williamsbridge/Olinville\",\n",
              "\t\t\"service_zone\": \"Boro Zone\"\n",
              "\t},\n",
              "\t{\n",
              "\t\t\"location_id\": \"255\",\n",
              "\t\t\"borough\": \"Brooklyn\",\n",
              "\t\t\"zone\": \"Williamsburg (North Side)\",\n",
              "\t\t\"service_zone\": \"Boro Zone\"\n",
              "\t},\n",
              "\t{\n",
              "\t\t\"location_id\": \"256\",\n",
              "\t\t\"borough\": \"Brooklyn\",\n",
              "\t\t\"zone\": \"Williamsburg (South Side)\",\n",
              "\t\t\"service_zone\": \"Boro Zone\"\n",
              "\t},\n",
              "\t{\n",
              "\t\t\"location_id\": \"257\",\n",
              "\t\t\"borough\": \"Brooklyn\",\n",
              "\t\t\"zone\": \"Windsor Terrace\",\n",
              "\t\t\"service_zone\": \"Boro Zone\"\n",
              "\t},\n",
              "\t{\n",
              "\t\t\"location_id\": \"258\",\n",
              "\t\t\"borough\": \"Queens\",\n",
              "\t\t\"zone\": \"Woodhaven\",\n",
              "\t\t\"service_zone\": \"Boro Zone\"\n",
              "\t},\n",
              "\t{\n",
              "\t\t\"location_id\": \"259\",\n",
              "\t\t\"borough\": \"Bronx\",\n",
              "\t\t\"zone\": \"Woodlawn/Wakefield\",\n",
              "\t\t\"service_zone\": \"Boro Zone\"\n",
              "\t},\n",
              "\t{\n",
              "\t\t\"location_id\": \"260\",\n",
              "\t\t\"borough\": \"Queens\",\n",
              "\t\t\"zone\": \"Woodside\",\n",
              "\t\t\"service_zone\": \"Boro Zone\"\n",
              "\t},\n",
              "\t{\n",
              "\t\t\"location_id\": \"261\",\n",
              "\t\t\"borough\": \"Manhattan\",\n",
              "\t\t\"zone\": \"World Trade Center\",\n",
              "\t\t\"service_zone\": \"Yellow Zone\"\n",
              "\t},\n",
              "\t{\n",
              "\t\t\"location_id\": \"262\",\n",
              "\t\t\"borough\": \"Manhattan\",\n",
              "\t\t\"zone\": \"Yorkville East\",\n",
              "\t\t\"service_zone\": \"Yellow Zone\"\n",
              "\t},\n",
              "\t{\n",
              "\t\t\"location_id\": \"263\",\n",
              "\t\t\"borough\": \"Manhattan\",\n",
              "\t\t\"zone\": \"Yorkville West\",\n",
              "\t\t\"service_zone\": \"Yellow Zone\"\n",
              "\t},\n",
              "\t{\n",
              "\t\t\"location_id\": \"264\",\n",
              "\t\t\"borough\": \"Unknown\",\n",
              "\t\t\"zone\": \"NV\",\n",
              "\t\t\"service_zone\": \"N/A\"\n",
              "\t},\n",
              "\t{\n",
              "\t\t\"location_id\": \"265\",\n",
              "\t\t\"borough\": \"Unknown\",\n",
              "\t\t\"zone\": \"NA\",\n",
              "\t\t\"service_zone\": \"N/A\"\n",
              "\t}\n",
              "]"
            ]
          },
          "metadata": {},
          "output_type": "display_data"
        }
      ],
      "source": [
        "%sql\n",
        "SELECT * FROM synapse_nyc_reference.nyctaxi.taxi_zone_lookup;"
      ]
    },
    {
      "cell_type": "code",
      "execution_count": 21,
      "metadata": {},
      "outputs": [
        {
          "data": {
            "application/databricks-table": "{\n\t\"resultType\": \"table\",\n\t\"data\": [\n\t\t[\n\t\t\t\"01\",\n\t\t\t\"JAN\",\n\t\t\t\"January\"\n\t\t],\n\t\t[\n\t\t\t\"02\",\n\t\t\t\"FEB\",\n\t\t\t\"February\"\n\t\t],\n\t\t[\n\t\t\t\"03\",\n\t\t\t\"MAR\",\n\t\t\t\"March\"\n\t\t],\n\t\t[\n\t\t\t\"04\",\n\t\t\t\"APR\",\n\t\t\t\"April\"\n\t\t],\n\t\t[\n\t\t\t\"05\",\n\t\t\t\"MAY\",\n\t\t\t\"May\"\n\t\t],\n\t\t[\n\t\t\t\"06\",\n\t\t\t\"JUN\",\n\t\t\t\"June\"\n\t\t],\n\t\t[\n\t\t\t\"07\",\n\t\t\t\"JUL\",\n\t\t\t\"July\"\n\t\t],\n\t\t[\n\t\t\t\"08\",\n\t\t\t\"AUG\",\n\t\t\t\"August\"\n\t\t],\n\t\t[\n\t\t\t\"09\",\n\t\t\t\"SEP\",\n\t\t\t\"September\"\n\t\t],\n\t\t[\n\t\t\t\"10\",\n\t\t\t\"OCT\",\n\t\t\t\"October\"\n\t\t],\n\t\t[\n\t\t\t\"11\",\n\t\t\t\"NOV\",\n\t\t\t\"November\"\n\t\t],\n\t\t[\n\t\t\t\"12\",\n\t\t\t\"DEC\",\n\t\t\t\"December\"\n\t\t]\n\t],\n\t\"schema\": [\n\t\t{\n\t\t\t\"name\": \"trip_month\",\n\t\t\t\"type\": \"\\\"string\\\"\",\n\t\t\t\"metadata\": \"{}\"\n\t\t},\n\t\t{\n\t\t\t\"name\": \"month_name_short\",\n\t\t\t\"type\": \"\\\"string\\\"\",\n\t\t\t\"metadata\": \"{}\"\n\t\t},\n\t\t{\n\t\t\t\"name\": \"month_name_full\",\n\t\t\t\"type\": \"\\\"string\\\"\",\n\t\t\t\"metadata\": \"{}\"\n\t\t}\n\t],\n\t\"truncated\": false,\n\t\"isJsonSchema\": true\n}",
            "application/json": [
              {
                "month_name_full": "January",
                "month_name_short": "JAN",
                "trip_month": "01"
              },
              {
                "month_name_full": "February",
                "month_name_short": "FEB",
                "trip_month": "02"
              },
              {
                "month_name_full": "March",
                "month_name_short": "MAR",
                "trip_month": "03"
              },
              {
                "month_name_full": "April",
                "month_name_short": "APR",
                "trip_month": "04"
              },
              {
                "month_name_full": "May",
                "month_name_short": "MAY",
                "trip_month": "05"
              },
              {
                "month_name_full": "June",
                "month_name_short": "JUN",
                "trip_month": "06"
              },
              {
                "month_name_full": "July",
                "month_name_short": "JUL",
                "trip_month": "07"
              },
              {
                "month_name_full": "August",
                "month_name_short": "AUG",
                "trip_month": "08"
              },
              {
                "month_name_full": "September",
                "month_name_short": "SEP",
                "trip_month": "09"
              },
              {
                "month_name_full": "October",
                "month_name_short": "OCT",
                "trip_month": "10"
              },
              {
                "month_name_full": "November",
                "month_name_short": "NOV",
                "trip_month": "11"
              },
              {
                "month_name_full": "December",
                "month_name_short": "DEC",
                "trip_month": "12"
              }
            ],
            "text/html": [
              "<div style=\"height:300px;overflow:auto;resize:both;\"><table style=\"width:100%\" class=\"searchable sortable\"><thead><tr><th>trip_month</th><th>month_name_short</th><th>month_name_full</th></tr></thead><tbody><tr><td>01</td><td>JAN</td><td>January</td></tr><tr><td>02</td><td>FEB</td><td>February</td></tr><tr><td>03</td><td>MAR</td><td>March</td></tr><tr><td>04</td><td>APR</td><td>April</td></tr><tr><td>05</td><td>MAY</td><td>May</td></tr><tr><td>06</td><td>JUN</td><td>June</td></tr><tr><td>07</td><td>JUL</td><td>July</td></tr><tr><td>08</td><td>AUG</td><td>August</td></tr><tr><td>09</td><td>SEP</td><td>September</td></tr><tr><td>10</td><td>OCT</td><td>October</td></tr><tr><td>11</td><td>NOV</td><td>November</td></tr><tr><td>12</td><td>DEC</td><td>December</td></tr></tbody></table></div>"
            ],
            "text/x-json": [
              "[\n",
              "\t{\n",
              "\t\t\"trip_month\": \"01\",\n",
              "\t\t\"month_name_short\": \"JAN\",\n",
              "\t\t\"month_name_full\": \"January\"\n",
              "\t},\n",
              "\t{\n",
              "\t\t\"trip_month\": \"02\",\n",
              "\t\t\"month_name_short\": \"FEB\",\n",
              "\t\t\"month_name_full\": \"February\"\n",
              "\t},\n",
              "\t{\n",
              "\t\t\"trip_month\": \"03\",\n",
              "\t\t\"month_name_short\": \"MAR\",\n",
              "\t\t\"month_name_full\": \"March\"\n",
              "\t},\n",
              "\t{\n",
              "\t\t\"trip_month\": \"04\",\n",
              "\t\t\"month_name_short\": \"APR\",\n",
              "\t\t\"month_name_full\": \"April\"\n",
              "\t},\n",
              "\t{\n",
              "\t\t\"trip_month\": \"05\",\n",
              "\t\t\"month_name_short\": \"MAY\",\n",
              "\t\t\"month_name_full\": \"May\"\n",
              "\t},\n",
              "\t{\n",
              "\t\t\"trip_month\": \"06\",\n",
              "\t\t\"month_name_short\": \"JUN\",\n",
              "\t\t\"month_name_full\": \"June\"\n",
              "\t},\n",
              "\t{\n",
              "\t\t\"trip_month\": \"07\",\n",
              "\t\t\"month_name_short\": \"JUL\",\n",
              "\t\t\"month_name_full\": \"July\"\n",
              "\t},\n",
              "\t{\n",
              "\t\t\"trip_month\": \"08\",\n",
              "\t\t\"month_name_short\": \"AUG\",\n",
              "\t\t\"month_name_full\": \"August\"\n",
              "\t},\n",
              "\t{\n",
              "\t\t\"trip_month\": \"09\",\n",
              "\t\t\"month_name_short\": \"SEP\",\n",
              "\t\t\"month_name_full\": \"September\"\n",
              "\t},\n",
              "\t{\n",
              "\t\t\"trip_month\": \"10\",\n",
              "\t\t\"month_name_short\": \"OCT\",\n",
              "\t\t\"month_name_full\": \"October\"\n",
              "\t},\n",
              "\t{\n",
              "\t\t\"trip_month\": \"11\",\n",
              "\t\t\"month_name_short\": \"NOV\",\n",
              "\t\t\"month_name_full\": \"November\"\n",
              "\t},\n",
              "\t{\n",
              "\t\t\"trip_month\": \"12\",\n",
              "\t\t\"month_name_short\": \"DEC\",\n",
              "\t\t\"month_name_full\": \"December\"\n",
              "\t}\n",
              "]"
            ]
          },
          "metadata": {},
          "output_type": "display_data"
        }
      ],
      "source": [
        "%sql\n",
        "select * from synapse_nyc_reference.nyctaxi.trip_month_lookup;"
      ]
    },
    {
      "cell_type": "code",
      "execution_count": 22,
      "metadata": {},
      "outputs": [
        {
          "data": {
            "application/databricks-table": "{\n\t\"resultType\": \"table\",\n\t\"data\": [\n\t\t[\n\t\t\t1,\n\t\t\t\"Standard rate\"\n\t\t],\n\t\t[\n\t\t\t2,\n\t\t\t\"JFK\"\n\t\t],\n\t\t[\n\t\t\t3,\n\t\t\t\"Newark\"\n\t\t],\n\t\t[\n\t\t\t4,\n\t\t\t\"Nassau or Westchester\"\n\t\t],\n\t\t[\n\t\t\t5,\n\t\t\t\"Negotiated fare\"\n\t\t],\n\t\t[\n\t\t\t6,\n\t\t\t\"Group ride\"\n\t\t]\n\t],\n\t\"schema\": [\n\t\t{\n\t\t\t\"name\": \"rate_code_id\",\n\t\t\t\"type\": \"\\\"integer\\\"\",\n\t\t\t\"metadata\": \"{}\"\n\t\t},\n\t\t{\n\t\t\t\"name\": \"description\",\n\t\t\t\"type\": \"\\\"string\\\"\",\n\t\t\t\"metadata\": \"{}\"\n\t\t}\n\t],\n\t\"truncated\": false,\n\t\"isJsonSchema\": true\n}",
            "application/json": [
              {
                "description": "Standard rate",
                "rate_code_id": 1
              },
              {
                "description": "JFK",
                "rate_code_id": 2
              },
              {
                "description": "Newark",
                "rate_code_id": 3
              },
              {
                "description": "Nassau or Westchester",
                "rate_code_id": 4
              },
              {
                "description": "Negotiated fare",
                "rate_code_id": 5
              },
              {
                "description": "Group ride",
                "rate_code_id": 6
              }
            ],
            "text/html": [
              "<div style=\"height:300px;overflow:auto;resize:both;\"><table style=\"width:100%\" class=\"searchable sortable\"><thead><tr><th>rate_code_id</th><th>description</th></tr></thead><tbody><tr><td>1</td><td>Standard rate</td></tr><tr><td>2</td><td>JFK</td></tr><tr><td>3</td><td>Newark</td></tr><tr><td>4</td><td>Nassau or Westchester</td></tr><tr><td>5</td><td>Negotiated fare</td></tr><tr><td>6</td><td>Group ride</td></tr></tbody></table></div>"
            ],
            "text/x-json": [
              "[\n",
              "\t{\n",
              "\t\t\"rate_code_id\": 1,\n",
              "\t\t\"description\": \"Standard rate\"\n",
              "\t},\n",
              "\t{\n",
              "\t\t\"rate_code_id\": 2,\n",
              "\t\t\"description\": \"JFK\"\n",
              "\t},\n",
              "\t{\n",
              "\t\t\"rate_code_id\": 3,\n",
              "\t\t\"description\": \"Newark\"\n",
              "\t},\n",
              "\t{\n",
              "\t\t\"rate_code_id\": 4,\n",
              "\t\t\"description\": \"Nassau or Westchester\"\n",
              "\t},\n",
              "\t{\n",
              "\t\t\"rate_code_id\": 5,\n",
              "\t\t\"description\": \"Negotiated fare\"\n",
              "\t},\n",
              "\t{\n",
              "\t\t\"rate_code_id\": 6,\n",
              "\t\t\"description\": \"Group ride\"\n",
              "\t}\n",
              "]"
            ]
          },
          "metadata": {},
          "output_type": "display_data"
        }
      ],
      "source": [
        "%sql\n",
        "select * from synapse_nyc_reference.nyctaxi.rate_code_lookup;"
      ]
    },
    {
      "cell_type": "code",
      "execution_count": 23,
      "metadata": {},
      "outputs": [
        {
          "data": {
            "application/databricks-table": "{\n\t\"resultType\": \"table\",\n\t\"data\": [\n\t\t[\n\t\t\t1,\n\t\t\tnull,\n\t\t\t\"Credit card\"\n\t\t],\n\t\t[\n\t\t\t2,\n\t\t\tnull,\n\t\t\t\"Cash\"\n\t\t],\n\t\t[\n\t\t\t3,\n\t\t\tnull,\n\t\t\t\"No charge\"\n\t\t],\n\t\t[\n\t\t\t4,\n\t\t\tnull,\n\t\t\t\"Dispute\"\n\t\t],\n\t\t[\n\t\t\t5,\n\t\t\tnull,\n\t\t\t\"Unknown\"\n\t\t],\n\t\t[\n\t\t\t6,\n\t\t\tnull,\n\t\t\t\"Voided trip\"\n\t\t],\n\t\t[\n\t\t\t7,\n\t\t\t\"CAS\",\n\t\t\t\"Cash\"\n\t\t],\n\t\t[\n\t\t\t8,\n\t\t\t\"CASH\",\n\t\t\t\"Cash\"\n\t\t],\n\t\t[\n\t\t\t9,\n\t\t\t\"CRD\",\n\t\t\t\"Credit card\"\n\t\t],\n\t\t[\n\t\t\t10,\n\t\t\t\"CRE\",\n\t\t\t\"Credit card\"\n\t\t],\n\t\t[\n\t\t\t11,\n\t\t\t\"CREDIT\",\n\t\t\t\"Credit card\"\n\t\t],\n\t\t[\n\t\t\t12,\n\t\t\t\"CSH\",\n\t\t\t\"Cash\"\n\t\t],\n\t\t[\n\t\t\t13,\n\t\t\t\"Cas\",\n\t\t\t\"Cash\"\n\t\t],\n\t\t[\n\t\t\t14,\n\t\t\t\"Cash\",\n\t\t\t\"Cash\"\n\t\t],\n\t\t[\n\t\t\t15,\n\t\t\t\"Cre\",\n\t\t\t\"Credit card\"\n\t\t],\n\t\t[\n\t\t\t16,\n\t\t\t\"Credit\",\n\t\t\t\"Credit card\"\n\t\t],\n\t\t[\n\t\t\t17,\n\t\t\t\"DIS\",\n\t\t\t\"Dispute\"\n\t\t],\n\t\t[\n\t\t\t18,\n\t\t\t\"Dis\",\n\t\t\t\"Dispute\"\n\t\t],\n\t\t[\n\t\t\t19,\n\t\t\t\"Dispute\",\n\t\t\t\"Dispute\"\n\t\t],\n\t\t[\n\t\t\t20,\n\t\t\t\"NA \",\n\t\t\t\"Unknown\"\n\t\t],\n\t\t[\n\t\t\t21,\n\t\t\t\"NOC\",\n\t\t\t\"No charge\"\n\t\t],\n\t\t[\n\t\t\t22,\n\t\t\t\"No \",\n\t\t\t\"No charge\"\n\t\t],\n\t\t[\n\t\t\t23,\n\t\t\t\"No Charge\",\n\t\t\t\"No charge\"\n\t\t],\n\t\t[\n\t\t\t24,\n\t\t\t\"UNK\",\n\t\t\t\"Unknown\"\n\t\t]\n\t],\n\t\"schema\": [\n\t\t{\n\t\t\t\"name\": \"payment_type\",\n\t\t\t\"type\": \"\\\"integer\\\"\",\n\t\t\t\"metadata\": \"{}\"\n\t\t},\n\t\t{\n\t\t\t\"name\": \"abbreviation\",\n\t\t\t\"type\": \"\\\"string\\\"\",\n\t\t\t\"metadata\": \"{}\"\n\t\t},\n\t\t{\n\t\t\t\"name\": \"description\",\n\t\t\t\"type\": \"\\\"string\\\"\",\n\t\t\t\"metadata\": \"{}\"\n\t\t}\n\t],\n\t\"truncated\": false,\n\t\"isJsonSchema\": true\n}",
            "application/json": [
              {
                "abbreviation": null,
                "description": "Credit card",
                "payment_type": 1
              },
              {
                "abbreviation": null,
                "description": "Cash",
                "payment_type": 2
              },
              {
                "abbreviation": null,
                "description": "No charge",
                "payment_type": 3
              },
              {
                "abbreviation": null,
                "description": "Dispute",
                "payment_type": 4
              },
              {
                "abbreviation": null,
                "description": "Unknown",
                "payment_type": 5
              },
              {
                "abbreviation": null,
                "description": "Voided trip",
                "payment_type": 6
              },
              {
                "abbreviation": "CAS",
                "description": "Cash",
                "payment_type": 7
              },
              {
                "abbreviation": "CASH",
                "description": "Cash",
                "payment_type": 8
              },
              {
                "abbreviation": "CRD",
                "description": "Credit card",
                "payment_type": 9
              },
              {
                "abbreviation": "CRE",
                "description": "Credit card",
                "payment_type": 10
              },
              {
                "abbreviation": "CREDIT",
                "description": "Credit card",
                "payment_type": 11
              },
              {
                "abbreviation": "CSH",
                "description": "Cash",
                "payment_type": 12
              },
              {
                "abbreviation": "Cas",
                "description": "Cash",
                "payment_type": 13
              },
              {
                "abbreviation": "Cash",
                "description": "Cash",
                "payment_type": 14
              },
              {
                "abbreviation": "Cre",
                "description": "Credit card",
                "payment_type": 15
              },
              {
                "abbreviation": "Credit",
                "description": "Credit card",
                "payment_type": 16
              },
              {
                "abbreviation": "DIS",
                "description": "Dispute",
                "payment_type": 17
              },
              {
                "abbreviation": "Dis",
                "description": "Dispute",
                "payment_type": 18
              },
              {
                "abbreviation": "Dispute",
                "description": "Dispute",
                "payment_type": 19
              },
              {
                "abbreviation": "NA ",
                "description": "Unknown",
                "payment_type": 20
              },
              {
                "abbreviation": "NOC",
                "description": "No charge",
                "payment_type": 21
              },
              {
                "abbreviation": "No ",
                "description": "No charge",
                "payment_type": 22
              },
              {
                "abbreviation": "No Charge",
                "description": "No charge",
                "payment_type": 23
              },
              {
                "abbreviation": "UNK",
                "description": "Unknown",
                "payment_type": 24
              }
            ],
            "text/html": [
              "<div style=\"height:300px;overflow:auto;resize:both;\"><table style=\"width:100%\" class=\"searchable sortable\"><thead><tr><th>payment_type</th><th>abbreviation</th><th>description</th></tr></thead><tbody><tr><td>1</td><td>null</td><td>Credit card</td></tr><tr><td>2</td><td>null</td><td>Cash</td></tr><tr><td>3</td><td>null</td><td>No charge</td></tr><tr><td>4</td><td>null</td><td>Dispute</td></tr><tr><td>5</td><td>null</td><td>Unknown</td></tr><tr><td>6</td><td>null</td><td>Voided trip</td></tr><tr><td>7</td><td>CAS</td><td>Cash</td></tr><tr><td>8</td><td>CASH</td><td>Cash</td></tr><tr><td>9</td><td>CRD</td><td>Credit card</td></tr><tr><td>10</td><td>CRE</td><td>Credit card</td></tr><tr><td>11</td><td>CREDIT</td><td>Credit card</td></tr><tr><td>12</td><td>CSH</td><td>Cash</td></tr><tr><td>13</td><td>Cas</td><td>Cash</td></tr><tr><td>14</td><td>Cash</td><td>Cash</td></tr><tr><td>15</td><td>Cre</td><td>Credit card</td></tr><tr><td>16</td><td>Credit</td><td>Credit card</td></tr><tr><td>17</td><td>DIS</td><td>Dispute</td></tr><tr><td>18</td><td>Dis</td><td>Dispute</td></tr><tr><td>19</td><td>Dispute</td><td>Dispute</td></tr><tr><td>20</td><td>NA </td><td>Unknown</td></tr><tr><td>21</td><td>NOC</td><td>No charge</td></tr><tr><td>22</td><td>No </td><td>No charge</td></tr><tr><td>23</td><td>No Charge</td><td>No charge</td></tr><tr><td>24</td><td>UNK</td><td>Unknown</td></tr></tbody></table></div>"
            ],
            "text/x-json": [
              "[\n",
              "\t{\n",
              "\t\t\"payment_type\": 1,\n",
              "\t\t\"abbreviation\": null,\n",
              "\t\t\"description\": \"Credit card\"\n",
              "\t},\n",
              "\t{\n",
              "\t\t\"payment_type\": 2,\n",
              "\t\t\"abbreviation\": null,\n",
              "\t\t\"description\": \"Cash\"\n",
              "\t},\n",
              "\t{\n",
              "\t\t\"payment_type\": 3,\n",
              "\t\t\"abbreviation\": null,\n",
              "\t\t\"description\": \"No charge\"\n",
              "\t},\n",
              "\t{\n",
              "\t\t\"payment_type\": 4,\n",
              "\t\t\"abbreviation\": null,\n",
              "\t\t\"description\": \"Dispute\"\n",
              "\t},\n",
              "\t{\n",
              "\t\t\"payment_type\": 5,\n",
              "\t\t\"abbreviation\": null,\n",
              "\t\t\"description\": \"Unknown\"\n",
              "\t},\n",
              "\t{\n",
              "\t\t\"payment_type\": 6,\n",
              "\t\t\"abbreviation\": null,\n",
              "\t\t\"description\": \"Voided trip\"\n",
              "\t},\n",
              "\t{\n",
              "\t\t\"payment_type\": 7,\n",
              "\t\t\"abbreviation\": \"CAS\",\n",
              "\t\t\"description\": \"Cash\"\n",
              "\t},\n",
              "\t{\n",
              "\t\t\"payment_type\": 8,\n",
              "\t\t\"abbreviation\": \"CASH\",\n",
              "\t\t\"description\": \"Cash\"\n",
              "\t},\n",
              "\t{\n",
              "\t\t\"payment_type\": 9,\n",
              "\t\t\"abbreviation\": \"CRD\",\n",
              "\t\t\"description\": \"Credit card\"\n",
              "\t},\n",
              "\t{\n",
              "\t\t\"payment_type\": 10,\n",
              "\t\t\"abbreviation\": \"CRE\",\n",
              "\t\t\"description\": \"Credit card\"\n",
              "\t},\n",
              "\t{\n",
              "\t\t\"payment_type\": 11,\n",
              "\t\t\"abbreviation\": \"CREDIT\",\n",
              "\t\t\"description\": \"Credit card\"\n",
              "\t},\n",
              "\t{\n",
              "\t\t\"payment_type\": 12,\n",
              "\t\t\"abbreviation\": \"CSH\",\n",
              "\t\t\"description\": \"Cash\"\n",
              "\t},\n",
              "\t{\n",
              "\t\t\"payment_type\": 13,\n",
              "\t\t\"abbreviation\": \"Cas\",\n",
              "\t\t\"description\": \"Cash\"\n",
              "\t},\n",
              "\t{\n",
              "\t\t\"payment_type\": 14,\n",
              "\t\t\"abbreviation\": \"Cash\",\n",
              "\t\t\"description\": \"Cash\"\n",
              "\t},\n",
              "\t{\n",
              "\t\t\"payment_type\": 15,\n",
              "\t\t\"abbreviation\": \"Cre\",\n",
              "\t\t\"description\": \"Credit card\"\n",
              "\t},\n",
              "\t{\n",
              "\t\t\"payment_type\": 16,\n",
              "\t\t\"abbreviation\": \"Credit\",\n",
              "\t\t\"description\": \"Credit card\"\n",
              "\t},\n",
              "\t{\n",
              "\t\t\"payment_type\": 17,\n",
              "\t\t\"abbreviation\": \"DIS\",\n",
              "\t\t\"description\": \"Dispute\"\n",
              "\t},\n",
              "\t{\n",
              "\t\t\"payment_type\": 18,\n",
              "\t\t\"abbreviation\": \"Dis\",\n",
              "\t\t\"description\": \"Dispute\"\n",
              "\t},\n",
              "\t{\n",
              "\t\t\"payment_type\": 19,\n",
              "\t\t\"abbreviation\": \"Dispute\",\n",
              "\t\t\"description\": \"Dispute\"\n",
              "\t},\n",
              "\t{\n",
              "\t\t\"payment_type\": 20,\n",
              "\t\t\"abbreviation\": \"NA \",\n",
              "\t\t\"description\": \"Unknown\"\n",
              "\t},\n",
              "\t{\n",
              "\t\t\"payment_type\": 21,\n",
              "\t\t\"abbreviation\": \"NOC\",\n",
              "\t\t\"description\": \"No charge\"\n",
              "\t},\n",
              "\t{\n",
              "\t\t\"payment_type\": 22,\n",
              "\t\t\"abbreviation\": \"No \",\n",
              "\t\t\"description\": \"No charge\"\n",
              "\t},\n",
              "\t{\n",
              "\t\t\"payment_type\": 23,\n",
              "\t\t\"abbreviation\": \"No Charge\",\n",
              "\t\t\"description\": \"No charge\"\n",
              "\t},\n",
              "\t{\n",
              "\t\t\"payment_type\": 24,\n",
              "\t\t\"abbreviation\": \"UNK\",\n",
              "\t\t\"description\": \"Unknown\"\n",
              "\t}\n",
              "]"
            ]
          },
          "metadata": {},
          "output_type": "display_data"
        }
      ],
      "source": [
        "%sql\n",
        "select * from synapse_nyc_reference.nyctaxi.payment_type_lookup;"
      ]
    },
    {
      "cell_type": "code",
      "execution_count": 24,
      "metadata": {},
      "outputs": [
        {
          "data": {
            "application/databricks-table": "{\n\t\"resultType\": \"table\",\n\t\"data\": [\n\t\t[\n\t\t\t1,\n\t\t\t\"Street-hail\"\n\t\t],\n\t\t[\n\t\t\t2,\n\t\t\t\"Dispatch\"\n\t\t]\n\t],\n\t\"schema\": [\n\t\t{\n\t\t\t\"name\": \"trip_type\",\n\t\t\t\"type\": \"\\\"integer\\\"\",\n\t\t\t\"metadata\": \"{}\"\n\t\t},\n\t\t{\n\t\t\t\"name\": \"description\",\n\t\t\t\"type\": \"\\\"string\\\"\",\n\t\t\t\"metadata\": \"{}\"\n\t\t}\n\t],\n\t\"truncated\": false,\n\t\"isJsonSchema\": true\n}",
            "application/json": [
              {
                "description": "Street-hail",
                "trip_type": 1
              },
              {
                "description": "Dispatch",
                "trip_type": 2
              }
            ],
            "text/html": [
              "<div style=\"height:300px;overflow:auto;resize:both;\"><table style=\"width:100%\" class=\"searchable sortable\"><thead><tr><th>trip_type</th><th>description</th></tr></thead><tbody><tr><td>1</td><td>Street-hail</td></tr><tr><td>2</td><td>Dispatch</td></tr></tbody></table></div>"
            ],
            "text/x-json": [
              "[\n",
              "\t{\n",
              "\t\t\"trip_type\": 1,\n",
              "\t\t\"description\": \"Street-hail\"\n",
              "\t},\n",
              "\t{\n",
              "\t\t\"trip_type\": 2,\n",
              "\t\t\"description\": \"Dispatch\"\n",
              "\t}\n",
              "]"
            ]
          },
          "metadata": {},
          "output_type": "display_data"
        }
      ],
      "source": [
        "%sql\n",
        "select * from synapse_nyc_reference.nyctaxi.trip_type_lookup;"
      ]
    },
    {
      "cell_type": "code",
      "execution_count": 25,
      "metadata": {},
      "outputs": [
        {
          "data": {
            "application/databricks-table": "{\n\t\"resultType\": \"table\",\n\t\"data\": [\n\t\t[\n\t\t\t1,\n\t\t\t\"CMT\",\n\t\t\t\"Creative, Mobile Technologies, LLC\"\n\t\t],\n\t\t[\n\t\t\t2,\n\t\t\t\"VTS\",\n\t\t\t\"VeriFone Inc.\"\n\t\t],\n\t\t[\n\t\t\t3,\n\t\t\t\"DDS\",\n\t\t\t\"Digital Dispatch Systems\"\n\t\t]\n\t],\n\t\"schema\": [\n\t\t{\n\t\t\t\"name\": \"vendor_id\",\n\t\t\t\"type\": \"\\\"integer\\\"\",\n\t\t\t\"metadata\": \"{}\"\n\t\t},\n\t\t{\n\t\t\t\"name\": \"abbreviation\",\n\t\t\t\"type\": \"\\\"string\\\"\",\n\t\t\t\"metadata\": \"{}\"\n\t\t},\n\t\t{\n\t\t\t\"name\": \"description\",\n\t\t\t\"type\": \"\\\"string\\\"\",\n\t\t\t\"metadata\": \"{}\"\n\t\t}\n\t],\n\t\"truncated\": false,\n\t\"isJsonSchema\": true\n}",
            "application/json": [
              {
                "abbreviation": "CMT",
                "description": "Creative, Mobile Technologies, LLC",
                "vendor_id": 1
              },
              {
                "abbreviation": "VTS",
                "description": "VeriFone Inc.",
                "vendor_id": 2
              },
              {
                "abbreviation": "DDS",
                "description": "Digital Dispatch Systems",
                "vendor_id": 3
              }
            ],
            "text/html": [
              "<div style=\"height:300px;overflow:auto;resize:both;\"><table style=\"width:100%\" class=\"searchable sortable\"><thead><tr><th>vendor_id</th><th>abbreviation</th><th>description</th></tr></thead><tbody><tr><td>1</td><td>CMT</td><td>Creative, Mobile Technologies, LLC</td></tr><tr><td>2</td><td>VTS</td><td>VeriFone Inc.</td></tr><tr><td>3</td><td>DDS</td><td>Digital Dispatch Systems</td></tr></tbody></table></div>"
            ],
            "text/x-json": [
              "[\n",
              "\t{\n",
              "\t\t\"vendor_id\": 1,\n",
              "\t\t\"abbreviation\": \"CMT\",\n",
              "\t\t\"description\": \"Creative, Mobile Technologies, LLC\"\n",
              "\t},\n",
              "\t{\n",
              "\t\t\"vendor_id\": 2,\n",
              "\t\t\"abbreviation\": \"VTS\",\n",
              "\t\t\"description\": \"VeriFone Inc.\"\n",
              "\t},\n",
              "\t{\n",
              "\t\t\"vendor_id\": 3,\n",
              "\t\t\"abbreviation\": \"DDS\",\n",
              "\t\t\"description\": \"Digital Dispatch Systems\"\n",
              "\t}\n",
              "]"
            ]
          },
          "metadata": {},
          "output_type": "display_data"
        }
      ],
      "source": [
        "%sql\n",
        "select * from synapse_nyc_reference.nyctaxi.vendor_lookup;"
      ]
    }
  ],
  "metadata": {
    "application/vnd.databricks.v1+notebook": {
      "dashboards": [],
      "language": "python",
      "notebookMetadata": {
        "pythonIndentUnit": 4
      },
      "notebookName": "LoadReferenceData",
      "notebookOrigID": 0,
      "widgets": {}
    },
    "kernelspec": {
      "display_name": "Python 3",
      "language": "python",
      "name": "python3"
    },
    "language_info": {
      "codemirror_mode": {
        "name": "ipython",
        "version": 3
      },
      "file_extension": ".py",
      "mimetype": "text/x-python",
      "name": "python",
      "nbconvert_exporter": "python",
      "pygments_lexer": "ipython3",
      "version": "3.8.10"
    }
  },
  "nbformat": 4,
  "nbformat_minor": 5
}
