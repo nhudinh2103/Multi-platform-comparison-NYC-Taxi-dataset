{
  "cells": [
    {
      "cell_type": "markdown",
      "metadata": {},
      "source": [
        "# What's in this exercise?\n",
        "We will run various reports and visualize"
      ]
    },
    {
      "cell_type": "code",
      "execution_count": null,
      "id": "fbd2c60d",
      "metadata": {},
      "outputs": [
        {
          "name": "stdout",
          "output_type": "stream",
          "text": []
        }
      ],
      "source": [
        "from databricks.sdk import WorkspaceClient\n",
        "\n",
        "host = dbutils.secrets.get(scope=\"databricks-warehouse\", key=\"warehouse-sql-host\")\n",
        "token = dbutils.secrets.get(scope=\"databricks-warehouse\", key=\"warehouse-sql-token\")\n",
        "warehouse_id = dbutils.secrets.get(scope=\"databricks-warehouse\", key=\"warehouse-sql-warehouseid\")\n",
        "catalog = dbutils.secrets.get(scope=\"databricks-warehouse\", key=\"warehouse-sql-catalog-nyc\")\n",
        "schema = dbutils.secrets.get(scope=\"databricks-warehouse\", key=\"warehouse-sql-schema-nyc\")\n",
        "\n",
        "w = WorkspaceClient(\n",
        "    host = host,\n",
        "    token = token\n",
        ")"
      ]
    },
    {
      "cell_type": "code",
      "execution_count": null,
      "id": "80fe1638",
      "metadata": {},
      "outputs": [],
      "source": [
        "# import sys\n",
        "# sys.path.append(\"../../utils\")\n",
        "# from utils.databricks_utils import execute_sql_query\n",
        "\n",
        "import pandas as pd\n",
        "from databricks.sdk.service.sql import StatementState\n",
        "\n",
        "def execute_sql_query(\n",
        "    w,\n",
        "    query: str,\n",
        "    warehouse_id: str,\n",
        "    catalog: str = None,\n",
        "    schema: str = None,\n",
        "):\n",
        "    \"\"\"\n",
        "    Execute a SQL query and return formatted results\n",
        "\n",
        "    Args:\n",
        "        w: WorkspaceClient instance\n",
        "        query: SQL query to execute\n",
        "        warehouse_id: SQL warehouse ID\n",
        "        catalog: Optional catalog name\n",
        "        schema: Optional schema name\n",
        "\n",
        "    Returns:\n",
        "        Formatted query results\n",
        "    \"\"\"\n",
        "    try:\n",
        "        # Execute the SQL statement\n",
        "        exe_stt = w.statement_execution.execute_statement(\n",
        "            statement=query, warehouse_id=warehouse_id, catalog=catalog, schema=schema\n",
        "        )\n",
        "\n",
        "        # Get the statement execution result\n",
        "        get_statement = w.statement_execution.get_statement(\n",
        "            statement_id=exe_stt.statement_id\n",
        "        )\n",
        "\n",
        "        # Check if the query failed\n",
        "        if hasattr(get_statement, \"status\") and get_statement.status:\n",
        "            if (\n",
        "                hasattr(get_statement.status, \"state\")\n",
        "                and get_statement.status.state == StatementState.FAILED\n",
        "            ):\n",
        "                \n",
        "                if (\n",
        "                    hasattr(get_statement.status, \"error\")\n",
        "                    and get_statement.status.error\n",
        "                ):\n",
        "                    error_message = get_statement.status.error.message\n",
        "                    error_code = get_statement.status.error.error_code\n",
        "                    return f\"Query execution failed: {error_code} - {error_message}\"\n",
        "                return \"Query execution failed with unknown error.\"\n",
        "\n",
        "        # Check if we have results\n",
        "        if not hasattr(get_statement, \"result\") or not get_statement.result:\n",
        "            return \"Query executed successfully, but no results were returned.\"\n",
        "\n",
        "        # Format the results\n",
        "        if (\n",
        "            hasattr(get_statement.result, \"data_array\")\n",
        "            and get_statement.result.data_array\n",
        "        ):\n",
        "            # Get column names from the manifest\n",
        "            columns = []\n",
        "            if hasattr(get_statement, \"manifest\") and get_statement.manifest:\n",
        "                if (\n",
        "                    hasattr(get_statement.manifest, \"schema\")\n",
        "                    and get_statement.manifest.schema\n",
        "                ):\n",
        "                    # Fixed: Properly handle ResultSchema object\n",
        "                    schema = get_statement.manifest.schema\n",
        "                    if hasattr(schema, \"columns\") and schema.columns:\n",
        "                        # If schema has columns attribute\n",
        "                        columns = [col.name for col in schema.columns]\n",
        "                    elif hasattr(schema, \"fields\") and schema.fields:\n",
        "                        # If schema has fields attribute\n",
        "                        columns = [field.name for field in schema.fields]\n",
        "                    elif isinstance(schema, list):\n",
        "                        # If schema is already a list\n",
        "                        columns = [col.name for col in schema]\n",
        "\n",
        "            # If we couldn't get column names, use generic ones\n",
        "            if not columns and get_statement.result.data_array:\n",
        "                columns = [\n",
        "                    f\"Column_{i}\"\n",
        "                    for i in range(len(get_statement.result.data_array[0]))\n",
        "                ]\n",
        "\n",
        "            # Create a pandas DataFrame for better display\n",
        "            df = pd.DataFrame(get_statement.result.data_array, columns=columns)\n",
        "\n",
        "            # Return formatted table\n",
        "            return df\n",
        "        else:\n",
        "            # Double-check if the query failed but we didn't catch it earlier\n",
        "            if hasattr(get_statement, \"status\") and get_statement.status:\n",
        "                if (\n",
        "                    hasattr(get_statement.status, \"state\")\n",
        "                    and get_statement.status.state == \"FAILED\"\n",
        "                ):\n",
        "                    if (\n",
        "                        hasattr(get_statement.status, \"error\")\n",
        "                        and get_statement.status.error\n",
        "                    ):\n",
        "                        error_message = get_statement.status.error.message\n",
        "                        error_code = get_statement.status.error.error_code\n",
        "                        return f\"Query execution failed: {error_code} - {error_message}\"\n",
        "                    return \"Query execution failed with unknown error.\"\n",
        "            return \"Query executed successfully, but no data was returned.\"\n",
        "\n",
        "    except Exception as e:\n",
        "        return f\"Error executing SQL query: {str(e)}\""
      ]
    },
    {
      "cell_type": "markdown",
      "id": "70fd7cfd",
      "metadata": {},
      "source": [
        "### 1.  Trip count by taxi type"
      ]
    },
    {
      "cell_type": "code",
      "execution_count": 334,
      "id": "c5cb424e",
      "metadata": {},
      "outputs": [
        {
          "data": {
            "application/databricks-table": "{\n\t\"resultType\": \"table\",\n\t\"data\": [\n\t\t[\n\t\t\t\"yellow\",\n\t\t\t\"1367926283\"\n\t\t],\n\t\t[\n\t\t\t\"green\",\n\t\t\t\"59035872\"\n\t\t]\n\t],\n\t\"schema\": [\n\t\t{\n\t\t\t\"name\": \"taxi_type\",\n\t\t\t\"type\": \"\\\"string\\\"\",\n\t\t\t\"metadata\": \"{}\"\n\t\t},\n\t\t{\n\t\t\t\"name\": \"trip_count\",\n\t\t\t\"type\": \"\\\"string\\\"\",\n\t\t\t\"metadata\": \"{}\"\n\t\t}\n\t],\n\t\"truncated\": false,\n\t\"isJsonSchema\": true\n}",
            "application/json": [
              {
                "taxi_type": "yellow",
                "trip_count": "1367926283"
              },
              {
                "taxi_type": "green",
                "trip_count": "59035872"
              }
            ],
            "text/html": [
              "<div style=\"height:300px;overflow:auto;resize:both;\"><table style=\"width:100%\" class=\"searchable sortable\"><thead><tr><th>taxi_type</th><th>trip_count</th></tr></thead><tbody><tr><td>yellow</td><td>1367926283</td></tr><tr><td>green</td><td>59035872</td></tr></tbody></table></div>"
            ],
            "text/x-json": [
              "[\n",
              "\t{\n",
              "\t\t\"taxi_type\": \"yellow\",\n",
              "\t\t\"trip_count\": \"1367926283\"\n",
              "\t},\n",
              "\t{\n",
              "\t\t\"taxi_type\": \"green\",\n",
              "\t\t\"trip_count\": \"59035872\"\n",
              "\t}\n",
              "]"
            ]
          },
          "metadata": {},
          "output_type": "display_data"
        }
      ],
      "source": [
        "sql = \"\"\"\n",
        "select \n",
        "  taxi_type,\n",
        "  count(1) as trip_count\n",
        "from \n",
        "  taxi_trips_mat_view\n",
        "group by taxi_type\n",
        "\"\"\"\n",
        "\n",
        "df_result = execute_sql_query(w=w,query=sql, warehouse_id=warehouse_id, catalog=catalog, schema=schema)\n",
        "display(df_result)"
      ]
    },
    {
      "cell_type": "markdown",
      "metadata": {},
      "source": [
        "### 2.  Revenue including tips by taxi type"
      ]
    },
    {
      "cell_type": "code",
      "execution_count": 335,
      "metadata": {},
      "outputs": [
        {
          "data": {
            "application/databricks-table": "{\n\t\"resultType\": \"table\",\n\t\"data\": [\n\t\t[\n\t\t\t\"yellow\",\n\t\t\t\"1.8801428115072754E10\"\n\t\t],\n\t\t[\n\t\t\t\"green\",\n\t\t\t\"8.621928480288665E8\"\n\t\t]\n\t],\n\t\"schema\": [\n\t\t{\n\t\t\t\"name\": \"taxi_type\",\n\t\t\t\"type\": \"\\\"string\\\"\",\n\t\t\t\"metadata\": \"{}\"\n\t\t},\n\t\t{\n\t\t\t\"name\": \"revenue\",\n\t\t\t\"type\": \"\\\"string\\\"\",\n\t\t\t\"metadata\": \"{}\"\n\t\t}\n\t],\n\t\"truncated\": false,\n\t\"isJsonSchema\": true\n}",
            "application/json": [
              {
                "revenue": "1.8801428115072754E10",
                "taxi_type": "yellow"
              },
              {
                "revenue": "8.621928480288665E8",
                "taxi_type": "green"
              }
            ],
            "text/html": [
              "<div style=\"height:300px;overflow:auto;resize:both;\"><table style=\"width:100%\" class=\"searchable sortable\"><thead><tr><th>taxi_type</th><th>revenue</th></tr></thead><tbody><tr><td>yellow</td><td>1.8801428115072754E10</td></tr><tr><td>green</td><td>8.621928480288665E8</td></tr></tbody></table></div>"
            ],
            "text/x-json": [
              "[\n",
              "\t{\n",
              "\t\t\"taxi_type\": \"yellow\",\n",
              "\t\t\"revenue\": \"1.8801428115072754E10\"\n",
              "\t},\n",
              "\t{\n",
              "\t\t\"taxi_type\": \"green\",\n",
              "\t\t\"revenue\": \"8.621928480288665E8\"\n",
              "\t}\n",
              "]"
            ]
          },
          "metadata": {},
          "output_type": "display_data"
        }
      ],
      "source": [
        "sql = \"\"\"\n",
        "select \n",
        "  taxi_type, sum(total_amount) revenue\n",
        "from \n",
        "  taxi_trips_mat_view\n",
        "group by taxi_type\n",
        "\"\"\"\n",
        "\n",
        "df_result = execute_sql_query(w=w,query=sql, warehouse_id=warehouse_id, catalog=catalog, schema=schema)\n",
        "display(df_result)"
      ]
    },
    {
      "cell_type": "markdown",
      "metadata": {},
      "source": [
        "### 5.  Trip count trend by month, by taxi type, for 2016"
      ]
    },
    {
      "cell_type": "code",
      "execution_count": 336,
      "metadata": {},
      "outputs": [
        {
          "data": {
            "application/databricks-table": "{\n\t\"resultType\": \"table\",\n\t\"data\": [\n\t\t[\n\t\t\t\"yellow\",\n\t\t\t\"01\",\n\t\t\t\"10906857\"\n\t\t],\n\t\t[\n\t\t\t\"green\",\n\t\t\t\"01\",\n\t\t\t\"1445285\"\n\t\t],\n\t\t[\n\t\t\t\"yellow\",\n\t\t\t\"02\",\n\t\t\t\"11382048\"\n\t\t],\n\t\t[\n\t\t\t\"green\",\n\t\t\t\"02\",\n\t\t\t\"1510722\"\n\t\t],\n\t\t[\n\t\t\t\"green\",\n\t\t\t\"03\",\n\t\t\t\"1576393\"\n\t\t],\n\t\t[\n\t\t\t\"yellow\",\n\t\t\t\"03\",\n\t\t\t\"12210951\"\n\t\t],\n\t\t[\n\t\t\t\"green\",\n\t\t\t\"04\",\n\t\t\t\"1543925\"\n\t\t],\n\t\t[\n\t\t\t\"yellow\",\n\t\t\t\"04\",\n\t\t\t\"11934332\"\n\t\t],\n\t\t[\n\t\t\t\"green\",\n\t\t\t\"05\",\n\t\t\t\"1536979\"\n\t\t],\n\t\t[\n\t\t\t\"yellow\",\n\t\t\t\"05\",\n\t\t\t\"11836853\"\n\t\t],\n\t\t[\n\t\t\t\"yellow\",\n\t\t\t\"06\",\n\t\t\t\"11135470\"\n\t\t],\n\t\t[\n\t\t\t\"green\",\n\t\t\t\"06\",\n\t\t\t\"1404725\"\n\t\t],\n\t\t[\n\t\t\t\"green\",\n\t\t\t\"07\",\n\t\t\t\"1332510\"\n\t\t],\n\t\t[\n\t\t\t\"yellow\",\n\t\t\t\"07\",\n\t\t\t\"10294080\"\n\t\t],\n\t\t[\n\t\t\t\"green\",\n\t\t\t\"08\",\n\t\t\t\"1247580\"\n\t\t],\n\t\t[\n\t\t\t\"yellow\",\n\t\t\t\"08\",\n\t\t\t\"9942263\"\n\t\t],\n\t\t[\n\t\t\t\"green\",\n\t\t\t\"09\",\n\t\t\t\"1162373\"\n\t\t],\n\t\t[\n\t\t\t\"yellow\",\n\t\t\t\"09\",\n\t\t\t\"10116017\"\n\t\t],\n\t\t[\n\t\t\t\"green\",\n\t\t\t\"10\",\n\t\t\t\"1252572\"\n\t\t],\n\t\t[\n\t\t\t\"yellow\",\n\t\t\t\"10\",\n\t\t\t\"10854609\"\n\t\t],\n\t\t[\n\t\t\t\"green\",\n\t\t\t\"11\",\n\t\t\t\"1148214\"\n\t\t],\n\t\t[\n\t\t\t\"yellow\",\n\t\t\t\"11\",\n\t\t\t\"10102128\"\n\t\t],\n\t\t[\n\t\t\t\"yellow\",\n\t\t\t\"12\",\n\t\t\t\"10449408\"\n\t\t],\n\t\t[\n\t\t\t\"green\",\n\t\t\t\"12\",\n\t\t\t\"1224158\"\n\t\t]\n\t],\n\t\"schema\": [\n\t\t{\n\t\t\t\"name\": \"taxi_type\",\n\t\t\t\"type\": \"\\\"string\\\"\",\n\t\t\t\"metadata\": \"{}\"\n\t\t},\n\t\t{\n\t\t\t\"name\": \"month\",\n\t\t\t\"type\": \"\\\"string\\\"\",\n\t\t\t\"metadata\": \"{}\"\n\t\t},\n\t\t{\n\t\t\t\"name\": \"trip_count\",\n\t\t\t\"type\": \"\\\"string\\\"\",\n\t\t\t\"metadata\": \"{}\"\n\t\t}\n\t],\n\t\"truncated\": false,\n\t\"isJsonSchema\": true\n}",
            "application/json": [
              {
                "month": "01",
                "taxi_type": "yellow",
                "trip_count": "10906857"
              },
              {
                "month": "01",
                "taxi_type": "green",
                "trip_count": "1445285"
              },
              {
                "month": "02",
                "taxi_type": "yellow",
                "trip_count": "11382048"
              },
              {
                "month": "02",
                "taxi_type": "green",
                "trip_count": "1510722"
              },
              {
                "month": "03",
                "taxi_type": "green",
                "trip_count": "1576393"
              },
              {
                "month": "03",
                "taxi_type": "yellow",
                "trip_count": "12210951"
              },
              {
                "month": "04",
                "taxi_type": "green",
                "trip_count": "1543925"
              },
              {
                "month": "04",
                "taxi_type": "yellow",
                "trip_count": "11934332"
              },
              {
                "month": "05",
                "taxi_type": "green",
                "trip_count": "1536979"
              },
              {
                "month": "05",
                "taxi_type": "yellow",
                "trip_count": "11836853"
              },
              {
                "month": "06",
                "taxi_type": "yellow",
                "trip_count": "11135470"
              },
              {
                "month": "06",
                "taxi_type": "green",
                "trip_count": "1404725"
              },
              {
                "month": "07",
                "taxi_type": "green",
                "trip_count": "1332510"
              },
              {
                "month": "07",
                "taxi_type": "yellow",
                "trip_count": "10294080"
              },
              {
                "month": "08",
                "taxi_type": "green",
                "trip_count": "1247580"
              },
              {
                "month": "08",
                "taxi_type": "yellow",
                "trip_count": "9942263"
              },
              {
                "month": "09",
                "taxi_type": "green",
                "trip_count": "1162373"
              },
              {
                "month": "09",
                "taxi_type": "yellow",
                "trip_count": "10116017"
              },
              {
                "month": "10",
                "taxi_type": "green",
                "trip_count": "1252572"
              },
              {
                "month": "10",
                "taxi_type": "yellow",
                "trip_count": "10854609"
              },
              {
                "month": "11",
                "taxi_type": "green",
                "trip_count": "1148214"
              },
              {
                "month": "11",
                "taxi_type": "yellow",
                "trip_count": "10102128"
              },
              {
                "month": "12",
                "taxi_type": "yellow",
                "trip_count": "10449408"
              },
              {
                "month": "12",
                "taxi_type": "green",
                "trip_count": "1224158"
              }
            ],
            "text/html": [
              "<div style=\"height:300px;overflow:auto;resize:both;\"><table style=\"width:100%\" class=\"searchable sortable\"><thead><tr><th>taxi_type</th><th>month</th><th>trip_count</th></tr></thead><tbody><tr><td>yellow</td><td>01</td><td>10906857</td></tr><tr><td>green</td><td>01</td><td>1445285</td></tr><tr><td>yellow</td><td>02</td><td>11382048</td></tr><tr><td>green</td><td>02</td><td>1510722</td></tr><tr><td>green</td><td>03</td><td>1576393</td></tr><tr><td>yellow</td><td>03</td><td>12210951</td></tr><tr><td>green</td><td>04</td><td>1543925</td></tr><tr><td>yellow</td><td>04</td><td>11934332</td></tr><tr><td>green</td><td>05</td><td>1536979</td></tr><tr><td>yellow</td><td>05</td><td>11836853</td></tr><tr><td>yellow</td><td>06</td><td>11135470</td></tr><tr><td>green</td><td>06</td><td>1404725</td></tr><tr><td>green</td><td>07</td><td>1332510</td></tr><tr><td>yellow</td><td>07</td><td>10294080</td></tr><tr><td>green</td><td>08</td><td>1247580</td></tr><tr><td>yellow</td><td>08</td><td>9942263</td></tr><tr><td>green</td><td>09</td><td>1162373</td></tr><tr><td>yellow</td><td>09</td><td>10116017</td></tr><tr><td>green</td><td>10</td><td>1252572</td></tr><tr><td>yellow</td><td>10</td><td>10854609</td></tr><tr><td>green</td><td>11</td><td>1148214</td></tr><tr><td>yellow</td><td>11</td><td>10102128</td></tr><tr><td>yellow</td><td>12</td><td>10449408</td></tr><tr><td>green</td><td>12</td><td>1224158</td></tr></tbody></table></div>"
            ],
            "text/x-json": [
              "[\n",
              "\t{\n",
              "\t\t\"taxi_type\": \"yellow\",\n",
              "\t\t\"month\": \"01\",\n",
              "\t\t\"trip_count\": \"10906857\"\n",
              "\t},\n",
              "\t{\n",
              "\t\t\"taxi_type\": \"green\",\n",
              "\t\t\"month\": \"01\",\n",
              "\t\t\"trip_count\": \"1445285\"\n",
              "\t},\n",
              "\t{\n",
              "\t\t\"taxi_type\": \"yellow\",\n",
              "\t\t\"month\": \"02\",\n",
              "\t\t\"trip_count\": \"11382048\"\n",
              "\t},\n",
              "\t{\n",
              "\t\t\"taxi_type\": \"green\",\n",
              "\t\t\"month\": \"02\",\n",
              "\t\t\"trip_count\": \"1510722\"\n",
              "\t},\n",
              "\t{\n",
              "\t\t\"taxi_type\": \"green\",\n",
              "\t\t\"month\": \"03\",\n",
              "\t\t\"trip_count\": \"1576393\"\n",
              "\t},\n",
              "\t{\n",
              "\t\t\"taxi_type\": \"yellow\",\n",
              "\t\t\"month\": \"03\",\n",
              "\t\t\"trip_count\": \"12210951\"\n",
              "\t},\n",
              "\t{\n",
              "\t\t\"taxi_type\": \"green\",\n",
              "\t\t\"month\": \"04\",\n",
              "\t\t\"trip_count\": \"1543925\"\n",
              "\t},\n",
              "\t{\n",
              "\t\t\"taxi_type\": \"yellow\",\n",
              "\t\t\"month\": \"04\",\n",
              "\t\t\"trip_count\": \"11934332\"\n",
              "\t},\n",
              "\t{\n",
              "\t\t\"taxi_type\": \"green\",\n",
              "\t\t\"month\": \"05\",\n",
              "\t\t\"trip_count\": \"1536979\"\n",
              "\t},\n",
              "\t{\n",
              "\t\t\"taxi_type\": \"yellow\",\n",
              "\t\t\"month\": \"05\",\n",
              "\t\t\"trip_count\": \"11836853\"\n",
              "\t},\n",
              "\t{\n",
              "\t\t\"taxi_type\": \"yellow\",\n",
              "\t\t\"month\": \"06\",\n",
              "\t\t\"trip_count\": \"11135470\"\n",
              "\t},\n",
              "\t{\n",
              "\t\t\"taxi_type\": \"green\",\n",
              "\t\t\"month\": \"06\",\n",
              "\t\t\"trip_count\": \"1404725\"\n",
              "\t},\n",
              "\t{\n",
              "\t\t\"taxi_type\": \"green\",\n",
              "\t\t\"month\": \"07\",\n",
              "\t\t\"trip_count\": \"1332510\"\n",
              "\t},\n",
              "\t{\n",
              "\t\t\"taxi_type\": \"yellow\",\n",
              "\t\t\"month\": \"07\",\n",
              "\t\t\"trip_count\": \"10294080\"\n",
              "\t},\n",
              "\t{\n",
              "\t\t\"taxi_type\": \"green\",\n",
              "\t\t\"month\": \"08\",\n",
              "\t\t\"trip_count\": \"1247580\"\n",
              "\t},\n",
              "\t{\n",
              "\t\t\"taxi_type\": \"yellow\",\n",
              "\t\t\"month\": \"08\",\n",
              "\t\t\"trip_count\": \"9942263\"\n",
              "\t},\n",
              "\t{\n",
              "\t\t\"taxi_type\": \"green\",\n",
              "\t\t\"month\": \"09\",\n",
              "\t\t\"trip_count\": \"1162373\"\n",
              "\t},\n",
              "\t{\n",
              "\t\t\"taxi_type\": \"yellow\",\n",
              "\t\t\"month\": \"09\",\n",
              "\t\t\"trip_count\": \"10116017\"\n",
              "\t},\n",
              "\t{\n",
              "\t\t\"taxi_type\": \"green\",\n",
              "\t\t\"month\": \"10\",\n",
              "\t\t\"trip_count\": \"1252572\"\n",
              "\t},\n",
              "\t{\n",
              "\t\t\"taxi_type\": \"yellow\",\n",
              "\t\t\"month\": \"10\",\n",
              "\t\t\"trip_count\": \"10854609\"\n",
              "\t},\n",
              "\t{\n",
              "\t\t\"taxi_type\": \"green\",\n",
              "\t\t\"month\": \"11\",\n",
              "\t\t\"trip_count\": \"1148214\"\n",
              "\t},\n",
              "\t{\n",
              "\t\t\"taxi_type\": \"yellow\",\n",
              "\t\t\"month\": \"11\",\n",
              "\t\t\"trip_count\": \"10102128\"\n",
              "\t},\n",
              "\t{\n",
              "\t\t\"taxi_type\": \"yellow\",\n",
              "\t\t\"month\": \"12\",\n",
              "\t\t\"trip_count\": \"10449408\"\n",
              "\t},\n",
              "\t{\n",
              "\t\t\"taxi_type\": \"green\",\n",
              "\t\t\"month\": \"12\",\n",
              "\t\t\"trip_count\": \"1224158\"\n",
              "\t}\n",
              "]"
            ]
          },
          "metadata": {},
          "output_type": "display_data"
        }
      ],
      "source": [
        "sql = \"\"\"\n",
        "select \n",
        "  taxi_type,\n",
        "  trip_month as month,\n",
        "  count(1) as trip_count\n",
        "from \n",
        "  taxi_trips_mat_view\n",
        "where \n",
        "  trip_year=2016\n",
        "group by taxi_type,trip_month\n",
        "order by trip_month\n",
        "\"\"\"\n",
        "\n",
        "df_result = execute_sql_query(w=w,query=sql, warehouse_id=warehouse_id, catalog=catalog, schema=schema)\n",
        "display(df_result)\n"
      ]
    },
    {
      "cell_type": "markdown",
      "metadata": {},
      "source": [
        "### 6.  Average trip distance by taxi type"
      ]
    },
    {
      "cell_type": "code",
      "execution_count": 337,
      "metadata": {},
      "outputs": [
        {
          "data": {
            "application/databricks-table": "{\n\t\"resultType\": \"table\",\n\t\"data\": [\n\t\t[\n\t\t\t\"yellow\",\n\t\t\t\"5.22\"\n\t\t],\n\t\t[\n\t\t\t\"green\",\n\t\t\t\"2.86\"\n\t\t]\n\t],\n\t\"schema\": [\n\t\t{\n\t\t\t\"name\": \"taxi_type\",\n\t\t\t\"type\": \"\\\"string\\\"\",\n\t\t\t\"metadata\": \"{}\"\n\t\t},\n\t\t{\n\t\t\t\"name\": \"trip_distance_miles\",\n\t\t\t\"type\": \"\\\"string\\\"\",\n\t\t\t\"metadata\": \"{}\"\n\t\t}\n\t],\n\t\"truncated\": false,\n\t\"isJsonSchema\": true\n}",
            "application/json": [
              {
                "taxi_type": "yellow",
                "trip_distance_miles": "5.22"
              },
              {
                "taxi_type": "green",
                "trip_distance_miles": "2.86"
              }
            ],
            "text/html": [
              "<div style=\"height:300px;overflow:auto;resize:both;\"><table style=\"width:100%\" class=\"searchable sortable\"><thead><tr><th>taxi_type</th><th>trip_distance_miles</th></tr></thead><tbody><tr><td>yellow</td><td>5.22</td></tr><tr><td>green</td><td>2.86</td></tr></tbody></table></div>"
            ],
            "text/x-json": [
              "[\n",
              "\t{\n",
              "\t\t\"taxi_type\": \"yellow\",\n",
              "\t\t\"trip_distance_miles\": \"5.22\"\n",
              "\t},\n",
              "\t{\n",
              "\t\t\"taxi_type\": \"green\",\n",
              "\t\t\"trip_distance_miles\": \"2.86\"\n",
              "\t}\n",
              "]"
            ]
          },
          "metadata": {},
          "output_type": "display_data"
        }
      ],
      "source": [
        "sql = \"\"\"\n",
        "select \n",
        "  taxi_type, round(avg(trip_distance),2) as trip_distance_miles\n",
        "from \n",
        "  taxi_trips_mat_view\n",
        "group by taxi_type\n",
        "\"\"\"\n",
        "\n",
        "df_result = execute_sql_query(w=w,query=sql, warehouse_id=warehouse_id, catalog=catalog, schema=schema)\n",
        "display(df_result)"
      ]
    },
    {
      "cell_type": "markdown",
      "metadata": {},
      "source": [
        "### 7.  Average trip amount by taxi type"
      ]
    },
    {
      "cell_type": "code",
      "execution_count": 340,
      "metadata": {},
      "outputs": [
        {
          "data": {
            "application/databricks-table": "{\n\t\"resultType\": \"table\",\n\t\"data\": [\n\t\t[\n\t\t\t\"yellow\",\n\t\t\t\"13.74\"\n\t\t],\n\t\t[\n\t\t\t\"green\",\n\t\t\t\"14.6\"\n\t\t]\n\t],\n\t\"schema\": [\n\t\t{\n\t\t\t\"name\": \"taxi_type\",\n\t\t\t\"type\": \"\\\"string\\\"\",\n\t\t\t\"metadata\": \"{}\"\n\t\t},\n\t\t{\n\t\t\t\"name\": \"avg_total_amount\",\n\t\t\t\"type\": \"\\\"string\\\"\",\n\t\t\t\"metadata\": \"{}\"\n\t\t}\n\t],\n\t\"truncated\": false,\n\t\"isJsonSchema\": true\n}",
            "application/json": [
              {
                "avg_total_amount": "13.74",
                "taxi_type": "yellow"
              },
              {
                "avg_total_amount": "14.6",
                "taxi_type": "green"
              }
            ],
            "text/html": [
              "<div style=\"height:300px;overflow:auto;resize:both;\"><table style=\"width:100%\" class=\"searchable sortable\"><thead><tr><th>taxi_type</th><th>avg_total_amount</th></tr></thead><tbody><tr><td>yellow</td><td>13.74</td></tr><tr><td>green</td><td>14.6</td></tr></tbody></table></div>"
            ],
            "text/x-json": [
              "[\n",
              "\t{\n",
              "\t\t\"taxi_type\": \"yellow\",\n",
              "\t\t\"avg_total_amount\": \"13.74\"\n",
              "\t},\n",
              "\t{\n",
              "\t\t\"taxi_type\": \"green\",\n",
              "\t\t\"avg_total_amount\": \"14.6\"\n",
              "\t}\n",
              "]"
            ]
          },
          "metadata": {},
          "output_type": "display_data"
        }
      ],
      "source": [
        "sql = \"\"\"\n",
        "select \n",
        "  taxi_type, round(avg(total_amount),2) as avg_total_amount\n",
        "from \n",
        "  taxi_trips_mat_view\n",
        "group by taxi_type\n",
        "\"\"\"\n",
        "\n",
        "df_result = execute_sql_query(w=w,query=sql, warehouse_id=warehouse_id, catalog=catalog, schema=schema)\n",
        "display(df_result)"
      ]
    },
    {
      "cell_type": "markdown",
      "metadata": {},
      "source": [
        "### 8.  Trips with no tip, by taxi type"
      ]
    },
    {
      "cell_type": "code",
      "execution_count": 341,
      "metadata": {},
      "outputs": [
        {
          "data": {
            "application/databricks-table": "{\n\t\"resultType\": \"table\",\n\t\"data\": [\n\t\t[\n\t\t\t\"yellow\",\n\t\t\t\"714255854\"\n\t\t],\n\t\t[\n\t\t\t\"green\",\n\t\t\t\"35839928\"\n\t\t]\n\t],\n\t\"schema\": [\n\t\t{\n\t\t\t\"name\": \"taxi_type\",\n\t\t\t\"type\": \"\\\"string\\\"\",\n\t\t\t\"metadata\": \"{}\"\n\t\t},\n\t\t{\n\t\t\t\"name\": \"tipless_count\",\n\t\t\t\"type\": \"\\\"string\\\"\",\n\t\t\t\"metadata\": \"{}\"\n\t\t}\n\t],\n\t\"truncated\": false,\n\t\"isJsonSchema\": true\n}",
            "application/json": [
              {
                "taxi_type": "yellow",
                "tipless_count": "714255854"
              },
              {
                "taxi_type": "green",
                "tipless_count": "35839928"
              }
            ],
            "text/html": [
              "<div style=\"height:300px;overflow:auto;resize:both;\"><table style=\"width:100%\" class=\"searchable sortable\"><thead><tr><th>taxi_type</th><th>tipless_count</th></tr></thead><tbody><tr><td>yellow</td><td>714255854</td></tr><tr><td>green</td><td>35839928</td></tr></tbody></table></div>"
            ],
            "text/x-json": [
              "[\n",
              "\t{\n",
              "\t\t\"taxi_type\": \"yellow\",\n",
              "\t\t\"tipless_count\": \"714255854\"\n",
              "\t},\n",
              "\t{\n",
              "\t\t\"taxi_type\": \"green\",\n",
              "\t\t\"tipless_count\": \"35839928\"\n",
              "\t}\n",
              "]"
            ]
          },
          "metadata": {},
          "output_type": "display_data"
        }
      ],
      "source": [
        "sql = \"\"\"\n",
        "select \n",
        "  taxi_type, count(1) tipless_count\n",
        "from \n",
        "  synapse_nyc_reference.nyctaxi.taxi_trips_mat_view\n",
        "where tip_amount=0\n",
        "group by taxi_type\n",
        "\"\"\"\n",
        "\n",
        "df_result = execute_sql_query(w=w,query=sql, warehouse_id=warehouse_id, catalog=catalog, schema=schema)\n",
        "display(df_result)\n"
      ]
    },
    {
      "cell_type": "markdown",
      "metadata": {},
      "source": [
        "### 9.  Trips with no charge, by taxi type"
      ]
    },
    {
      "cell_type": "code",
      "execution_count": 342,
      "metadata": {},
      "outputs": [
        {
          "data": {
            "application/databricks-table": "{\n\t\"resultType\": \"table\",\n\t\"data\": [\n\t\t[\n\t\t\t\"yellow\",\n\t\t\t\"2093\"\n\t\t],\n\t\t[\n\t\t\t\"green\",\n\t\t\t\"8578\"\n\t\t]\n\t],\n\t\"schema\": [\n\t\t{\n\t\t\t\"name\": \"taxi_type\",\n\t\t\t\"type\": \"\\\"string\\\"\",\n\t\t\t\"metadata\": \"{}\"\n\t\t},\n\t\t{\n\t\t\t\"name\": \"transactions\",\n\t\t\t\"type\": \"\\\"string\\\"\",\n\t\t\t\"metadata\": \"{}\"\n\t\t}\n\t],\n\t\"truncated\": false,\n\t\"isJsonSchema\": true\n}",
            "application/json": [
              {
                "taxi_type": "yellow",
                "transactions": "2093"
              },
              {
                "taxi_type": "green",
                "transactions": "8578"
              }
            ],
            "text/html": [
              "<div style=\"height:300px;overflow:auto;resize:both;\"><table style=\"width:100%\" class=\"searchable sortable\"><thead><tr><th>taxi_type</th><th>transactions</th></tr></thead><tbody><tr><td>yellow</td><td>2093</td></tr><tr><td>green</td><td>8578</td></tr></tbody></table></div>"
            ],
            "text/x-json": [
              "[\n",
              "\t{\n",
              "\t\t\"taxi_type\": \"yellow\",\n",
              "\t\t\"transactions\": \"2093\"\n",
              "\t},\n",
              "\t{\n",
              "\t\t\"taxi_type\": \"green\",\n",
              "\t\t\"transactions\": \"8578\"\n",
              "\t}\n",
              "]"
            ]
          },
          "metadata": {},
          "output_type": "display_data"
        }
      ],
      "source": [
        "sql = \"\"\"\n",
        "select \n",
        "  taxi_type, count(*) as transactions\n",
        "from \n",
        "  synapse_nyc_reference.nyctaxi.taxi_trips_mat_view\n",
        "where\n",
        "  payment_type_description='No charge'\n",
        "  and total_amount=0.0\n",
        "group by taxi_type\n",
        "\"\"\"\n",
        "\n",
        "df_result = execute_sql_query(w=w,query=sql, warehouse_id=warehouse_id, catalog=catalog, schema=schema)\n",
        "display(df_result)"
      ]
    },
    {
      "cell_type": "markdown",
      "metadata": {},
      "source": [
        "### 10.  Trips by payment type"
      ]
    },
    {
      "cell_type": "code",
      "execution_count": 343,
      "metadata": {},
      "outputs": [
        {
          "data": {
            "application/databricks-table": "{\n\t\"resultType\": \"table\",\n\t\"data\": [\n\t\t[\n\t\t\t\"Unknown\",\n\t\t\t\"1112469\"\n\t\t],\n\t\t[\n\t\t\t\"Dispute\",\n\t\t\t\"1111397\"\n\t\t],\n\t\t[\n\t\t\t\"Cash\",\n\t\t\t\"719487053\"\n\t\t],\n\t\t[\n\t\t\t\"Credit card\",\n\t\t\t\"701765941\"\n\t\t],\n\t\t[\n\t\t\t\"No charge\",\n\t\t\t\"3478486\"\n\t\t],\n\t\t[\n\t\t\tnull,\n\t\t\t\"6809\"\n\t\t]\n\t],\n\t\"schema\": [\n\t\t{\n\t\t\t\"name\": \"Payment_type\",\n\t\t\t\"type\": \"\\\"string\\\"\",\n\t\t\t\"metadata\": \"{}\"\n\t\t},\n\t\t{\n\t\t\t\"name\": \"transactions\",\n\t\t\t\"type\": \"\\\"string\\\"\",\n\t\t\t\"metadata\": \"{}\"\n\t\t}\n\t],\n\t\"truncated\": false,\n\t\"isJsonSchema\": true\n}",
            "application/json": [
              {
                "Payment_type": "Unknown",
                "transactions": "1112469"
              },
              {
                "Payment_type": "Dispute",
                "transactions": "1111397"
              },
              {
                "Payment_type": "Cash",
                "transactions": "719487053"
              },
              {
                "Payment_type": "Credit card",
                "transactions": "701765941"
              },
              {
                "Payment_type": "No charge",
                "transactions": "3478486"
              },
              {
                "Payment_type": null,
                "transactions": "6809"
              }
            ],
            "text/html": [
              "<div style=\"height:300px;overflow:auto;resize:both;\"><table style=\"width:100%\" class=\"searchable sortable\"><thead><tr><th>Payment_type</th><th>transactions</th></tr></thead><tbody><tr><td>Unknown</td><td>1112469</td></tr><tr><td>Dispute</td><td>1111397</td></tr><tr><td>Cash</td><td>719487053</td></tr><tr><td>Credit card</td><td>701765941</td></tr><tr><td>No charge</td><td>3478486</td></tr><tr><td>null</td><td>6809</td></tr></tbody></table></div>"
            ],
            "text/x-json": [
              "[\n",
              "\t{\n",
              "\t\t\"Payment_type\": \"Unknown\",\n",
              "\t\t\"transactions\": \"1112469\"\n",
              "\t},\n",
              "\t{\n",
              "\t\t\"Payment_type\": \"Dispute\",\n",
              "\t\t\"transactions\": \"1111397\"\n",
              "\t},\n",
              "\t{\n",
              "\t\t\"Payment_type\": \"Cash\",\n",
              "\t\t\"transactions\": \"719487053\"\n",
              "\t},\n",
              "\t{\n",
              "\t\t\"Payment_type\": \"Credit card\",\n",
              "\t\t\"transactions\": \"701765941\"\n",
              "\t},\n",
              "\t{\n",
              "\t\t\"Payment_type\": \"No charge\",\n",
              "\t\t\"transactions\": \"3478486\"\n",
              "\t},\n",
              "\t{\n",
              "\t\t\"Payment_type\": null,\n",
              "\t\t\"transactions\": \"6809\"\n",
              "\t}\n",
              "]"
            ]
          },
          "metadata": {},
          "output_type": "display_data"
        }
      ],
      "source": [
        "sql = \"\"\"\n",
        "select \n",
        "  payment_type_description as Payment_type, count(*) as transactions\n",
        "from \n",
        "  synapse_nyc_reference.nyctaxi.taxi_trips_mat_view\n",
        "group by payment_type_description\n",
        "\"\"\"\n",
        "\n",
        "df_result = execute_sql_query(w=w,query=sql, warehouse_id=warehouse_id, catalog=catalog, schema=schema)\n",
        "display(df_result)"
      ]
    },
    {
      "cell_type": "markdown",
      "metadata": {},
      "source": [
        "### 11.  Trip trend by pickup hour for yellow taxi in 2016"
      ]
    },
    {
      "cell_type": "code",
      "execution_count": 344,
      "metadata": {},
      "outputs": [
        {
          "data": {
            "application/databricks-table": "{\n\t\"resultType\": \"table\",\n\t\"data\": [\n\t\t[\n\t\t\t\"0\",\n\t\t\t\"4801263\"\n\t\t],\n\t\t[\n\t\t\t\"1\",\n\t\t\t\"3510554\"\n\t\t],\n\t\t[\n\t\t\t\"2\",\n\t\t\t\"2576474\"\n\t\t],\n\t\t[\n\t\t\t\"3\",\n\t\t\t\"1888184\"\n\t\t],\n\t\t[\n\t\t\t\"4\",\n\t\t\t\"1451388\"\n\t\t],\n\t\t[\n\t\t\t\"5\",\n\t\t\t\"1393381\"\n\t\t],\n\t\t[\n\t\t\t\"6\",\n\t\t\t\"3001894\"\n\t\t],\n\t\t[\n\t\t\t\"7\",\n\t\t\t\"4925227\"\n\t\t],\n\t\t[\n\t\t\t\"8\",\n\t\t\t\"5967221\"\n\t\t],\n\t\t[\n\t\t\t\"9\",\n\t\t\t\"6044046\"\n\t\t],\n\t\t[\n\t\t\t\"10\",\n\t\t\t\"5926031\"\n\t\t],\n\t\t[\n\t\t\t\"11\",\n\t\t\t\"6167044\"\n\t\t],\n\t\t[\n\t\t\t\"12\",\n\t\t\t\"6500904\"\n\t\t],\n\t\t[\n\t\t\t\"13\",\n\t\t\t\"6511081\"\n\t\t],\n\t\t[\n\t\t\t\"14\",\n\t\t\t\"6779738\"\n\t\t],\n\t\t[\n\t\t\t\"15\",\n\t\t\t\"6532699\"\n\t\t],\n\t\t[\n\t\t\t\"16\",\n\t\t\t\"5870710\"\n\t\t],\n\t\t[\n\t\t\t\"17\",\n\t\t\t\"6864860\"\n\t\t],\n\t\t[\n\t\t\t\"18\",\n\t\t\t\"8001221\"\n\t\t],\n\t\t[\n\t\t\t\"19\",\n\t\t\t\"8048443\"\n\t\t],\n\t\t[\n\t\t\t\"20\",\n\t\t\t\"7555497\"\n\t\t],\n\t\t[\n\t\t\t\"21\",\n\t\t\t\"7475434\"\n\t\t],\n\t\t[\n\t\t\t\"22\",\n\t\t\t\"7172956\"\n\t\t],\n\t\t[\n\t\t\t\"23\",\n\t\t\t\"6198766\"\n\t\t]\n\t],\n\t\"schema\": [\n\t\t{\n\t\t\t\"name\": \"pickup_hour\",\n\t\t\t\"type\": \"\\\"string\\\"\",\n\t\t\t\"metadata\": \"{}\"\n\t\t},\n\t\t{\n\t\t\t\"name\": \"trip_count\",\n\t\t\t\"type\": \"\\\"string\\\"\",\n\t\t\t\"metadata\": \"{}\"\n\t\t}\n\t],\n\t\"truncated\": false,\n\t\"isJsonSchema\": true\n}",
            "application/json": [
              {
                "pickup_hour": "0",
                "trip_count": "4801263"
              },
              {
                "pickup_hour": "1",
                "trip_count": "3510554"
              },
              {
                "pickup_hour": "2",
                "trip_count": "2576474"
              },
              {
                "pickup_hour": "3",
                "trip_count": "1888184"
              },
              {
                "pickup_hour": "4",
                "trip_count": "1451388"
              },
              {
                "pickup_hour": "5",
                "trip_count": "1393381"
              },
              {
                "pickup_hour": "6",
                "trip_count": "3001894"
              },
              {
                "pickup_hour": "7",
                "trip_count": "4925227"
              },
              {
                "pickup_hour": "8",
                "trip_count": "5967221"
              },
              {
                "pickup_hour": "9",
                "trip_count": "6044046"
              },
              {
                "pickup_hour": "10",
                "trip_count": "5926031"
              },
              {
                "pickup_hour": "11",
                "trip_count": "6167044"
              },
              {
                "pickup_hour": "12",
                "trip_count": "6500904"
              },
              {
                "pickup_hour": "13",
                "trip_count": "6511081"
              },
              {
                "pickup_hour": "14",
                "trip_count": "6779738"
              },
              {
                "pickup_hour": "15",
                "trip_count": "6532699"
              },
              {
                "pickup_hour": "16",
                "trip_count": "5870710"
              },
              {
                "pickup_hour": "17",
                "trip_count": "6864860"
              },
              {
                "pickup_hour": "18",
                "trip_count": "8001221"
              },
              {
                "pickup_hour": "19",
                "trip_count": "8048443"
              },
              {
                "pickup_hour": "20",
                "trip_count": "7555497"
              },
              {
                "pickup_hour": "21",
                "trip_count": "7475434"
              },
              {
                "pickup_hour": "22",
                "trip_count": "7172956"
              },
              {
                "pickup_hour": "23",
                "trip_count": "6198766"
              }
            ],
            "text/html": [
              "<div style=\"height:300px;overflow:auto;resize:both;\"><table style=\"width:100%\" class=\"searchable sortable\"><thead><tr><th>pickup_hour</th><th>trip_count</th></tr></thead><tbody><tr><td>0</td><td>4801263</td></tr><tr><td>1</td><td>3510554</td></tr><tr><td>2</td><td>2576474</td></tr><tr><td>3</td><td>1888184</td></tr><tr><td>4</td><td>1451388</td></tr><tr><td>5</td><td>1393381</td></tr><tr><td>6</td><td>3001894</td></tr><tr><td>7</td><td>4925227</td></tr><tr><td>8</td><td>5967221</td></tr><tr><td>9</td><td>6044046</td></tr><tr><td>10</td><td>5926031</td></tr><tr><td>11</td><td>6167044</td></tr><tr><td>12</td><td>6500904</td></tr><tr><td>13</td><td>6511081</td></tr><tr><td>14</td><td>6779738</td></tr><tr><td>15</td><td>6532699</td></tr><tr><td>16</td><td>5870710</td></tr><tr><td>17</td><td>6864860</td></tr><tr><td>18</td><td>8001221</td></tr><tr><td>19</td><td>8048443</td></tr><tr><td>20</td><td>7555497</td></tr><tr><td>21</td><td>7475434</td></tr><tr><td>22</td><td>7172956</td></tr><tr><td>23</td><td>6198766</td></tr></tbody></table></div>"
            ],
            "text/x-json": [
              "[\n",
              "\t{\n",
              "\t\t\"pickup_hour\": \"0\",\n",
              "\t\t\"trip_count\": \"4801263\"\n",
              "\t},\n",
              "\t{\n",
              "\t\t\"pickup_hour\": \"1\",\n",
              "\t\t\"trip_count\": \"3510554\"\n",
              "\t},\n",
              "\t{\n",
              "\t\t\"pickup_hour\": \"2\",\n",
              "\t\t\"trip_count\": \"2576474\"\n",
              "\t},\n",
              "\t{\n",
              "\t\t\"pickup_hour\": \"3\",\n",
              "\t\t\"trip_count\": \"1888184\"\n",
              "\t},\n",
              "\t{\n",
              "\t\t\"pickup_hour\": \"4\",\n",
              "\t\t\"trip_count\": \"1451388\"\n",
              "\t},\n",
              "\t{\n",
              "\t\t\"pickup_hour\": \"5\",\n",
              "\t\t\"trip_count\": \"1393381\"\n",
              "\t},\n",
              "\t{\n",
              "\t\t\"pickup_hour\": \"6\",\n",
              "\t\t\"trip_count\": \"3001894\"\n",
              "\t},\n",
              "\t{\n",
              "\t\t\"pickup_hour\": \"7\",\n",
              "\t\t\"trip_count\": \"4925227\"\n",
              "\t},\n",
              "\t{\n",
              "\t\t\"pickup_hour\": \"8\",\n",
              "\t\t\"trip_count\": \"5967221\"\n",
              "\t},\n",
              "\t{\n",
              "\t\t\"pickup_hour\": \"9\",\n",
              "\t\t\"trip_count\": \"6044046\"\n",
              "\t},\n",
              "\t{\n",
              "\t\t\"pickup_hour\": \"10\",\n",
              "\t\t\"trip_count\": \"5926031\"\n",
              "\t},\n",
              "\t{\n",
              "\t\t\"pickup_hour\": \"11\",\n",
              "\t\t\"trip_count\": \"6167044\"\n",
              "\t},\n",
              "\t{\n",
              "\t\t\"pickup_hour\": \"12\",\n",
              "\t\t\"trip_count\": \"6500904\"\n",
              "\t},\n",
              "\t{\n",
              "\t\t\"pickup_hour\": \"13\",\n",
              "\t\t\"trip_count\": \"6511081\"\n",
              "\t},\n",
              "\t{\n",
              "\t\t\"pickup_hour\": \"14\",\n",
              "\t\t\"trip_count\": \"6779738\"\n",
              "\t},\n",
              "\t{\n",
              "\t\t\"pickup_hour\": \"15\",\n",
              "\t\t\"trip_count\": \"6532699\"\n",
              "\t},\n",
              "\t{\n",
              "\t\t\"pickup_hour\": \"16\",\n",
              "\t\t\"trip_count\": \"5870710\"\n",
              "\t},\n",
              "\t{\n",
              "\t\t\"pickup_hour\": \"17\",\n",
              "\t\t\"trip_count\": \"6864860\"\n",
              "\t},\n",
              "\t{\n",
              "\t\t\"pickup_hour\": \"18\",\n",
              "\t\t\"trip_count\": \"8001221\"\n",
              "\t},\n",
              "\t{\n",
              "\t\t\"pickup_hour\": \"19\",\n",
              "\t\t\"trip_count\": \"8048443\"\n",
              "\t},\n",
              "\t{\n",
              "\t\t\"pickup_hour\": \"20\",\n",
              "\t\t\"trip_count\": \"7555497\"\n",
              "\t},\n",
              "\t{\n",
              "\t\t\"pickup_hour\": \"21\",\n",
              "\t\t\"trip_count\": \"7475434\"\n",
              "\t},\n",
              "\t{\n",
              "\t\t\"pickup_hour\": \"22\",\n",
              "\t\t\"trip_count\": \"7172956\"\n",
              "\t},\n",
              "\t{\n",
              "\t\t\"pickup_hour\": \"23\",\n",
              "\t\t\"trip_count\": \"6198766\"\n",
              "\t}\n",
              "]"
            ]
          },
          "metadata": {},
          "output_type": "display_data"
        }
      ],
      "source": [
        "sql = \"\"\"\n",
        "select pickup_hour,count(*) as trip_count\n",
        "from synapse_nyc_reference.nyctaxi.yellow_taxi_trips_transform\n",
        "where trip_year=2016\n",
        "group by pickup_hour\n",
        "order by pickup_hour\n",
        "\"\"\"\n",
        "\n",
        "df_result = execute_sql_query(w=w,query=sql, warehouse_id=warehouse_id, catalog=catalog, schema=schema)\n",
        "display(df_result)"
      ]
    },
    {
      "cell_type": "markdown",
      "metadata": {},
      "source": [
        "### 12.  Top 3 yellow taxi pickup-dropoff zones for 2016"
      ]
    },
    {
      "cell_type": "code",
      "execution_count": 345,
      "metadata": {},
      "outputs": [
        {
          "data": {
            "application/databricks-table": "{\n\t\"resultType\": \"table\",\n\t\"data\": [\n\t\t[\n\t\t\t\"Upper East Side South\",\n\t\t\t\"Upper East Side North\",\n\t\t\t\"310035\"\n\t\t],\n\t\t[\n\t\t\t\"Upper East Side North\",\n\t\t\t\"Upper East Side South\",\n\t\t\t\"267509\"\n\t\t],\n\t\t[\n\t\t\t\"Upper East Side North\",\n\t\t\t\"Upper East Side North\",\n\t\t\t\"249141\"\n\t\t]\n\t],\n\t\"schema\": [\n\t\t{\n\t\t\t\"name\": \"pickup_zone\",\n\t\t\t\"type\": \"\\\"string\\\"\",\n\t\t\t\"metadata\": \"{}\"\n\t\t},\n\t\t{\n\t\t\t\"name\": \"dropoff_zone\",\n\t\t\t\"type\": \"\\\"string\\\"\",\n\t\t\t\"metadata\": \"{}\"\n\t\t},\n\t\t{\n\t\t\t\"name\": \"trip_count\",\n\t\t\t\"type\": \"\\\"string\\\"\",\n\t\t\t\"metadata\": \"{}\"\n\t\t}\n\t],\n\t\"truncated\": false,\n\t\"isJsonSchema\": true\n}",
            "application/json": [
              {
                "dropoff_zone": "Upper East Side North",
                "pickup_zone": "Upper East Side South",
                "trip_count": "310035"
              },
              {
                "dropoff_zone": "Upper East Side South",
                "pickup_zone": "Upper East Side North",
                "trip_count": "267509"
              },
              {
                "dropoff_zone": "Upper East Side North",
                "pickup_zone": "Upper East Side North",
                "trip_count": "249141"
              }
            ],
            "text/html": [
              "<div style=\"height:300px;overflow:auto;resize:both;\"><table style=\"width:100%\" class=\"searchable sortable\"><thead><tr><th>pickup_zone</th><th>dropoff_zone</th><th>trip_count</th></tr></thead><tbody><tr><td>Upper East Side South</td><td>Upper East Side North</td><td>310035</td></tr><tr><td>Upper East Side North</td><td>Upper East Side South</td><td>267509</td></tr><tr><td>Upper East Side North</td><td>Upper East Side North</td><td>249141</td></tr></tbody></table></div>"
            ],
            "text/x-json": [
              "[\n",
              "\t{\n",
              "\t\t\"pickup_zone\": \"Upper East Side South\",\n",
              "\t\t\"dropoff_zone\": \"Upper East Side North\",\n",
              "\t\t\"trip_count\": \"310035\"\n",
              "\t},\n",
              "\t{\n",
              "\t\t\"pickup_zone\": \"Upper East Side North\",\n",
              "\t\t\"dropoff_zone\": \"Upper East Side South\",\n",
              "\t\t\"trip_count\": \"267509\"\n",
              "\t},\n",
              "\t{\n",
              "\t\t\"pickup_zone\": \"Upper East Side North\",\n",
              "\t\t\"dropoff_zone\": \"Upper East Side North\",\n",
              "\t\t\"trip_count\": \"249141\"\n",
              "\t}\n",
              "]"
            ]
          },
          "metadata": {},
          "output_type": "display_data"
        }
      ],
      "source": [
        "sql = \"\"\"\n",
        "select * from \n",
        "  (\n",
        "  select \n",
        "    pickup_zone,dropoff_zone,count(*) as trip_count\n",
        "  from \n",
        "    yellow_taxi_trips_transform\n",
        "  where \n",
        "    trip_year=2016\n",
        "  and\n",
        "    pickup_zone is not null and pickup_zone<>'NV'\n",
        "  and \n",
        "    dropoff_zone is not null and dropoff_zone<>'NV'\n",
        "  group by pickup_zone,dropoff_zone\n",
        "  order by trip_count desc\n",
        "  ) x\n",
        "limit 3\n",
        "\"\"\"\n",
        "\n",
        "df_result = execute_sql_query(w=w,query=sql, warehouse_id=warehouse_id, catalog=catalog, schema=schema)\n",
        "display(df_result)\n"
      ]
    }
  ],
  "metadata": {
    "application/vnd.databricks.v1+notebook": {
      "dashboards": [],
      "language": "python",
      "notebookMetadata": {
        "pythonIndentUnit": 4
      },
      "notebookName": "Report",
      "notebookOrigID": 0,
      "widgets": {}
    },
    "kernelspec": {
      "display_name": "Python 3",
      "language": "python",
      "name": "python3"
    },
    "language_info": {
      "codemirror_mode": {
        "name": "ipython",
        "version": 3
      },
      "file_extension": ".py",
      "mimetype": "text/x-python",
      "name": "python",
      "nbconvert_exporter": "python",
      "pygments_lexer": "ipython3",
      "version": "3.8.10"
    }
  },
  "nbformat": 4,
  "nbformat_minor": 5
}
